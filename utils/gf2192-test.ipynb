{
 "cells": [
  {
   "cell_type": "code",
   "execution_count": 1,
   "metadata": {},
   "outputs": [],
   "source": [
    "import sys\n",
    "sys.path.insert(0, '../' )"
   ]
  },
  {
   "cell_type": "code",
   "execution_count": 2,
   "metadata": {},
   "outputs": [],
   "source": [
    "# defining gf\n",
    "from utils import gf2192 as gf\n"
   ]
  },
  {
   "cell_type": "code",
   "execution_count": 3,
   "metadata": {},
   "outputs": [
    {
     "name": "stdout",
     "output_type": "stream",
     "text": [
      "fi ['0x700000000000000070000000000000007', '0x800000000000000080000000000000008']\n",
      "r ['0xcb9ea337ae4e8620cb9ea337ae4e8620cb9ea337ae4e8620', '0xcb9ea337ae4e8628cb9ea337ae4e8628cb9ea337ae4e8628', '0x5d717ce9218663005d717ce9218663005d717ce92186630', '0x5d717ce9218663805d717ce9218663805d717ce92186638', '0xc7919d84d4b13af7c7919d84d4b13af7c7919d84d4b13af7', '0xc7919d84d4b13affc7919d84d4b13affc7919d84d4b13aff', '0x9d8297de8e7dae709d8297de8e7dae709d8297de8e7dae7', '0x9d8297de8e7daef09d8297de8e7daef09d8297de8e7daef']\n"
     ]
    }
   ],
   "source": [
    "\n",
    "#### test gf2192 fft #######\n",
    "\n",
    "offset = 16\n",
    "\n",
    "fi = [ i+(i<<64)+(i<<128) for i in range(7,9) ]\n",
    "\n",
    "print( \"fi\" , [hex(i) for i in fi] )\n",
    "\n",
    "r = gf.fft( fi , 4 , offset )\n",
    "\n",
    "#print( \"r\" , r )\n",
    "print( \"r\" , [ hex(i) for i in r] )\n"
   ]
  },
  {
   "cell_type": "code",
   "execution_count": 4,
   "metadata": {},
   "outputs": [
    {
     "name": "stdout",
     "output_type": "stream",
     "text": [
      "r0 ['0xcb9ea337ae4e8620cb9ea337ae4e8620cb9ea337ae4e8620', '0xcb9ea337ae4e8628cb9ea337ae4e8628cb9ea337ae4e8628', '0x5d717ce9218663005d717ce9218663005d717ce92186630', '0x5d717ce9218663805d717ce9218663805d717ce92186638', '0xc7919d84d4b13af7c7919d84d4b13af7c7919d84d4b13af7', '0xc7919d84d4b13affc7919d84d4b13affc7919d84d4b13aff', '0x9d8297de8e7dae709d8297de8e7dae709d8297de8e7dae7', '0x9d8297de8e7daef09d8297de8e7daef09d8297de8e7daef']\n",
      "r1 ['0x700000000000000070000000000000007', '0x800000000000000080000000000000008', '0x700000000000000070000000000000007', '0x800000000000000080000000000000008', '0x700000000000000070000000000000007', '0x800000000000000080000000000000008', '0x700000000000000070000000000000007', '0x800000000000000080000000000000008']\n"
     ]
    }
   ],
   "source": [
    "#def _ibtfy_1( vi , offset ):\n",
    "\n",
    "#### test #######\n",
    "\n",
    "print( \"r0\", [hex(i) for i in r] )\n",
    "\n",
    "r1 = gf.ibtfy_1( r , offset )\n",
    "print( \"r1\", [hex(i) for i in r1] )\n",
    "\n"
   ]
  },
  {
   "cell_type": "code",
   "execution_count": null,
   "metadata": {},
   "outputs": [],
   "source": []
  }
 ],
 "metadata": {
  "kernelspec": {
   "display_name": "venv",
   "language": "python",
   "name": "python3"
  },
  "language_info": {
   "codemirror_mode": {
    "name": "ipython",
    "version": 3
   },
   "file_extension": ".py",
   "mimetype": "text/x-python",
   "name": "python",
   "nbconvert_exporter": "python",
   "pygments_lexer": "ipython3",
   "version": "3.11.3"
  },
  "orig_nbformat": 4
 },
 "nbformat": 4,
 "nbformat_minor": 2
}
