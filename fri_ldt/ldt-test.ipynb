{
 "cells": [
  {
   "cell_type": "code",
   "execution_count": 1,
   "metadata": {},
   "outputs": [],
   "source": [
    "import sys\n",
    "sys.path.insert(0, '../' )"
   ]
  },
  {
   "cell_type": "code",
   "execution_count": 2,
   "metadata": {},
   "outputs": [
    {
     "data": {
      "text/plain": [
       "b'K57\\xfc\\xe7\\xc6\\xe1z\\x91\\xdc\\x16\\xf7\\xf9|x\\x96'"
      ]
     },
     "execution_count": 2,
     "metadata": {},
     "output_type": "execute_result"
    }
   ],
   "source": [
    "from utils import randombytes as rd\n",
    "\n",
    "rd.randombytes(16)"
   ]
  },
  {
   "cell_type": "code",
   "execution_count": 3,
   "metadata": {},
   "outputs": [
    {
     "data": {
      "text/plain": [
       "1"
      ]
     },
     "execution_count": 3,
     "metadata": {},
     "output_type": "execute_result"
    }
   ],
   "source": [
    "from libgf264fft import clib_wrapper as cgf\n",
    "\n",
    "cgf.gf264_mul( 1 ,1 )"
   ]
  },
  {
   "cell_type": "code",
   "execution_count": 4,
   "metadata": {},
   "outputs": [
    {
     "data": {
      "text/plain": [
       "3"
      ]
     },
     "execution_count": 4,
     "metadata": {},
     "output_type": "execute_result"
    }
   ],
   "source": [
    "from utils import gf2192 as gf\n",
    "\n",
    "gf.GF_EXT"
   ]
  },
  {
   "cell_type": "code",
   "execution_count": 5,
   "metadata": {},
   "outputs": [],
   "source": [
    "# the commit scheme\n",
    "\n",
    "from commit import merkeltreecommit as mt\n"
   ]
  },
  {
   "cell_type": "code",
   "execution_count": 6,
   "metadata": {},
   "outputs": [],
   "source": [
    "# challenge\n",
    "\n",
    "from utils import hash as H\n"
   ]
  },
  {
   "cell_type": "code",
   "execution_count": 7,
   "metadata": {},
   "outputs": [
    {
     "name": "stdout",
     "output_type": "stream",
     "text": [
      "fi ['0x700000000000000070000000000000007', '0x800000000000000080000000000000008']\n",
      "r ['0xcb9ea337ae4e8620cb9ea337ae4e8620cb9ea337ae4e8620', '0xcb9ea337ae4e8628cb9ea337ae4e8628cb9ea337ae4e8628', '0x5d717ce9218663005d717ce9218663005d717ce92186630', '0x5d717ce9218663805d717ce9218663805d717ce92186638', '0xc7919d84d4b13af7c7919d84d4b13af7c7919d84d4b13af7', '0xc7919d84d4b13affc7919d84d4b13affc7919d84d4b13aff', '0x9d8297de8e7dae709d8297de8e7dae709d8297de8e7dae7', '0x9d8297de8e7daef09d8297de8e7daef09d8297de8e7daef']\n"
     ]
    }
   ],
   "source": [
    "#def _gf_fft( fi , rho , offset ):\n",
    "#    fi_len = len(fi)\n",
    "#    assert 0==(fi_len&(fi_len-1))\n",
    "#    fi_gf264 = list( zip( *[gf.to_gf264s(e) for e in fi] ) )  # transform gflist to 3 gf264lists\n",
    "#    r_gf264 = [ [] for _ in range(gf.GF_EXT) ]\n",
    "#    for j in range(gf.GF_EXT):     # 3 x gf264 ffts\n",
    "#         for k in range(rho): r_gf264[j].extend( cgf.btfy( fi_gf264[j] , offset ^ (k*fi_len) ) )\n",
    "#    r0 = [ gf.from_gf264s(*e) for e in zip(*r_gf264) ] # transform 3 gf264lists to gflist\n",
    "#    return r0\n",
    "\n",
    "#### test #######\n",
    "\n",
    "offset = 16\n",
    "\n",
    "fi = [ i+(i<<64)+(i<<128) for i in range(7,9) ]\n",
    "\n",
    "print( \"fi\" , [hex(i) for i in fi] )\n",
    "\n",
    "r = gf.fft( fi , 4 , offset )\n",
    "\n",
    "#print( \"r\" , r )\n",
    "print( \"r\" , [ hex(i) for i in r] )\n"
   ]
  },
  {
   "cell_type": "code",
   "execution_count": 8,
   "metadata": {},
   "outputs": [
    {
     "name": "stdout",
     "output_type": "stream",
     "text": [
      "r0 ['0xcb9ea337ae4e8620cb9ea337ae4e8620cb9ea337ae4e8620', '0xcb9ea337ae4e8628cb9ea337ae4e8628cb9ea337ae4e8628', '0x5d717ce9218663005d717ce9218663005d717ce92186630', '0x5d717ce9218663805d717ce9218663805d717ce92186638', '0xc7919d84d4b13af7c7919d84d4b13af7c7919d84d4b13af7', '0xc7919d84d4b13affc7919d84d4b13affc7919d84d4b13aff', '0x9d8297de8e7dae709d8297de8e7dae709d8297de8e7dae7', '0x9d8297de8e7daef09d8297de8e7daef09d8297de8e7daef']\n",
      "r1 ['0x700000000000000070000000000000007', '0x800000000000000080000000000000008', '0x700000000000000070000000000000007', '0x800000000000000080000000000000008', '0x700000000000000070000000000000007', '0x800000000000000080000000000000008', '0x700000000000000070000000000000007', '0x800000000000000080000000000000008']\n"
     ]
    }
   ],
   "source": [
    "#def _ibtfy_1( vi , offset ):\n",
    "#    l = len(vi)\n",
    "#    vi_gf264 = list( zip( *[gf.to_gf264s(e) for e in vi] ) )\n",
    "#    r_gf264 = [ [] for _ in range(gf.GF_EXT) ]\n",
    "#    for j in range(gf.GF_EXT):\n",
    "#         for k in range( 0,l,2 ):\n",
    "#              r_gf264[j].extend( cgf.ibtfy( vi_gf264[j][k:k+2] , offset^k ) )\n",
    "#    r = [ gf.from_gf264s(*e) for e in list( zip(*r_gf264) ) ]\n",
    "#    return r\n",
    "\n",
    "#### test #######\n",
    "\n",
    "print( \"r0\", [hex(i) for i in r] )\n",
    "\n",
    "r1 = gf.ibtfy_1( r , offset )\n",
    "print( \"r1\", [hex(i) for i in r1] )\n",
    "\n"
   ]
  },
  {
   "cell_type": "code",
   "execution_count": 11,
   "metadata": {},
   "outputs": [],
   "source": [
    "def _dummy( *params ) : return None"
   ]
  },
  {
   "cell_type": "code",
   "execution_count": 24,
   "metadata": {},
   "outputs": [],
   "source": [
    "def ldt_commit_phase( f0 , h_state , RS_rho=8 , verbose = 1 ):\n",
    "    if 1 == verbose : dump = print\n",
    "    else : dump = _dummy\n",
    "\n",
    "    poly_len = len(f0)\n",
    "    assert 0==(poly_len&(poly_len-1)) , 'poly_len is not a power of 2'\n",
    "    rho = RS_rho\n",
    "    offset = 1<<63\n",
    "    dump( f\"rho: {rho}, offset: {hex(offset)}\" )\n",
    "\n",
    "    commits = []\n",
    "    mktrees = []\n",
    "\n",
    "    dump( f\"original poly {f0}\")\n",
    "    dump( \"\\n### commit phase ###\" )\n",
    "\n",
    "    vi = gf.fft( f0 , rho , offset )\n",
    "    dump( f\"Assume the evaluate on [{hex(offset)},|{poly_len}|x{rho}) has been committed ?\" )\n",
    "    dump( \"vi:\" , vi )\n",
    "    dump( f\"do a redundent commit here for checking correctness\" )\n",
    "    i = 0\n",
    "    xi = gf.from_bytes( H.gen( h_state , bytes([3+i,1]) )[:gf.GF_BSIZE] )\n",
    "    dump( f\"derive x0 <- H( h_state || 3 || 1 ): {hex(xi)}\" )\n",
    "    while( 2 < poly_len ):\n",
    "        dump( f\"iteration {i}: [{poly_len}] -> [{poly_len//2}]:\" )\n",
    "        mesg = [ gf.to_bytes(vi[j]) + gf.to_bytes(vi[j+1]) for j in range(0,len(vi),2) ]\n",
    "        root , randomness , tree = mt.commit( mesg )\n",
    "        mktrees.append( (root,mesg,randomness,tree) )\n",
    "        commits.append( root )\n",
    "        dump( f\"commit evaluated valuse. --> commits: [{len(commits)}] <--  #mesg: {len(mesg)}\" )\n",
    "\n",
    "        h_state = H.gen( h_state , gf.to_bytes(xi) )\n",
    "        dump( f\"update h_state <- H( h_state|| xi ): {h_state}\" )\n",
    "\n",
    "        i = i+1\n",
    "        dump( f\"update i: {i}\" )\n",
    "        xi = gf.from_bytes( H.gen( h_state , bytes([3+i,1]) )[:gf.GF_BSIZE] )\n",
    "        dump( f\"derive new challenge xi <- H(h_state||{3+i}||1) : {hex(xi)}\" )\n",
    "        dump( f\"deriving new polynomial of length [{poly_len//2}]\" )\n",
    "\n",
    "        vi = gf.ibtfy_1( vi , offset )\n",
    "        dump( \"ibtfy_1:\" , hex(offset) , [hex(e) for e in vi] )\n",
    "        vi_e = vi[::2]\n",
    "        vi_o = vi[1::2]\n",
    "        vi = [ vi_e[j]^gf.mul(vi_o[j],xi) for j in range(len(vi_e)) ]\n",
    "        dump( \"n_vi:\" , [hex(e) for e in vi] )\n",
    "        dump( f\"evaluated values generated by 1 stage of ibtfy  [{len(vi)}]\" )\n",
    "        offset = offset >> 1\n",
    "        poly_len = poly_len//2\n",
    "    cc = gf.ibtfy_1( vi , offset )\n",
    "    dump( \"ibtfy_1:\" , hex(offset) , [hex(e) for e in cc] )\n",
    "    dump( \"cc:\" , [hex(i) for i in cc ] )\n",
    "    dump( f\"commit deg 1 poly: {hex(cc[0])} + x* {hex(cc[1])}\" )\n",
    "    d1poly = gf.to_bytes(cc[0]) + gf.to_bytes(cc[1])\n",
    "    h_state = H.gen( gf.to_bytes(xi) , d1poly )\n",
    "    dump( f\"update h_state <- H( xi || c0 || c1 ): {h_state}\" )\n",
    "    return commits , d1poly , mktrees , h_state\n"
   ]
  },
  {
   "cell_type": "code",
   "execution_count": 25,
   "metadata": {},
   "outputs": [],
   "source": [
    "def _n_commit( f_length ):\n",
    "    i = 0\n",
    "    while( f_length > 2 ):\n",
    "        i = i+1\n",
    "        f_length = f_length//2\n",
    "    return i\n",
    "\n",
    "def ldt_query_phase( f_length , mktrees, h_state , Nq , RS_rho=8 , verbose = 1 ):\n",
    "    if 1 == verbose : dump = print\n",
    "    else : dump = _dummy\n",
    "    assert Nq < 256 , \"need to modify hash inputs if supporting >= 256 queries.\"\n",
    "\n",
    "    dump( \"\\n### query phase ###\" )\n",
    "    queries = [ H.gen(h_state,bytes( [ 3+_n_commit(f_length)+1 , j ] ))[:4] for j in range(1,Nq+1) ]   # use 32 bits of hash results only\n",
    "    idx_mask = (RS_rho*f_length//2)-1\n",
    "    queries = [ int.from_bytes(e,'little')&idx_mask for e in queries ]\n",
    "    dump( f\"Queries: [{len(queries)}], {queries}\" )\n",
    "\n",
    "    open_mesgs = []\n",
    "    j = 0\n",
    "    for root , all_mesg, randomness, tree in mktrees :\n",
    "        dump( f\"open iteration: {j}\" )\n",
    "        open_mesgs.append( [ mt.open(all_mesg[queries[i]],queries[i],randomness,tree) for i in range(Nq) ] )\n",
    "        dump( f\"proof len:[{len(open_mesgs)}] : auth path len:{len(open_mesgs[-1][0])}\" )\n",
    "        queries = [ q//2 for q in queries ]\n",
    "        j = j+1\n",
    "    return open_mesgs\n"
   ]
  },
  {
   "cell_type": "code",
   "execution_count": 26,
   "metadata": {},
   "outputs": [
    {
     "name": "stdout",
     "output_type": "stream",
     "text": [
      "rho: 8, offset: 0x8000000000000000\n",
      "original poly [1, 2, 3, 4, 5, 6, 7, 8]\n",
      "\n",
      "### commit phase ###\n",
      "Assume the evaluate on [0x8000000000000000,|8|x8) has been committed ?\n",
      "vi: [1246866497807618795, 4265964599157179256, 1694739141090504046, 1565830132839253768, 13588509979623779941, 996222563803066535, 334356061807418613, 11359377728264780234, 16458911052986449620, 16948388880601032284, 3219752816587853438, 14265852649938963731, 4519790617497040035, 7537718367003295669, 11908198698919436642, 1542795312697520537, 18373502611120147767, 2528080870869800415, 12307884686738983143, 6012030690928285485, 15765636662194813108, 5932476764803616533, 4168554421296933529, 10738872398854773266, 5972401413023563584, 5182919073939605189, 6053074681583170478, 12324407368897735961, 5726952955255770812, 14790680209824253119, 1403999725530152401, 8882118986198274280, 11385416365251370435, 14089681160904999687, 15854840660061616710, 4903354113959966465, 12730854449350105515, 10522658688429308584, 12508886573197027226, 5381962549009831698, 3231369224822220807, 16658609918793665912, 11587960877687586981, 6984066239146907209, 2220076595663265945, 7520389675120977134, 2321048815044819441, 6732659969052954141, 5508238929180618483, 17546175875583014699, 3670142294770839315, 4941140584668961183, 5411552425694830526, 5008796783841975225, 7164557597390609666, 11852286173124195929, 18416291871982985038, 4314043243088368987, 15265882774748747672, 1176147407551337161, 12313037234816651379, 2126160206195170166, 4432036220775117703, 10170356022325753806]\n",
      "do a redundent commit here for checking correctness\n",
      "derive x0 <- H( h_state || 3 || 1 ): 0x5b9610dcbdcfa2f0b480abae7e2526ddad75cf20f9becf1b\n",
      "iteration 0: [8] -> [4]:\n",
      "commit evaluated valuse. --> commits: [1] <--  #mesg: 32\n",
      "update h_state <- H( h_state|| xi ): b'\\xf8\\xff?\\x90]\\xfe\\x94?jM\\n\\x0cH\\xba\\x04nU\\xd0\\xed\\xe5De3r<-n\\x9fL\\xd2R\\xf6'\n",
      "update i: 1\n",
      "derive new challenge xi <- H(h_state||4||1) : 0xc2699f897fff266d98801881da3468244cf53838795df1ef\n",
      "deriving new polynomial of length [4]\n",
      "ibtfy_1: 0x8000000000000000 ['0x9ae24f4c1e2d05aa', '0x2a7e024a510f5193', '0x21da45d887e801dd', '0x23e1e70a5daea66', '0x8e3306e7739bc63f', '0xb1475ef01ae69ec2', '0x350b0c73ea5ec24f', '0x990742caee33253f', '0xfe5256b0e517ba83', '0xf5d0985b8665888', '0x815ddf98a66aafa', '0xe954a14670e5036d', '0xc37929e5728aabde', '0x5622df75b526cb16', '0x353ea2ac1dfbbba0', '0xb02b77b67da590fb', '0x40059b4e00a0c7ce', '0xddee476f4020d8e8', '0x9fb826f995fa0578', '0xf9a165e6ce0adfca', '0x19ab53389ba21052', '0x889eaf2c379ff7a1', '0xc616ee8f0ef8d2e3', '0xacd18da5b9b5f08b', '0xb49c4a1590f3ebc4', '0x150f561eda8b3985', '0x265e767ff31d3d7c', '0xff09c06e68f7deb7', '0xc4c8b49df1daee90', '0x82393417eb9d4a03', '0x560a88f79234382f', '0x683fa26759e1ad39', '0x9e4afe3e907a43f', '0x5d89858104fb9ec4', '0x22f56dd01bab336b', '0x980b830583eccd47', '0x8abd3521dc8e141d', '0x22aaeaf8d4376303', '0xa1acf7122e22834e', '0xe728ec7c53203088', '0xe4684d906a688ba', '0xcbf76445bad6a57f', '0x6828c73702be0be0', '0xc03cd638019716ec', '0xa4e528e5c904ea50', '0x769281762cb30477', '0xc28b6b0bcd1c690d', '0x7d59330b97f2b7ec', '0xbe3057faea6ed338', '0xbff1bbe1816e99d8', '0xf1a422ea145d82ad', '0x767c83d67c86768c', '0x70164ce529537713', '0xe9b60616df48407', '0x3f8239f5d7602681', '0xc7165856901c6b5b', '0x29bbb4676ea66c9e', '0xc44d409b4c814a15', '0x2b5040aa66212905', '0xc389cc558d3f4551', '0xce67998657b01a7d', '0xb7611151e6b20b05', '0xcc8c6d4b5f375fe1', '0xb0a59d9f270c0449']\n",
      "n_vi: ['0x4522d58d05e0e8c4b50aa2968bc500b04aee1c1267791c0e', '0x9ed49bedc12d918f46beef8bddacb579b71c30b0adfe469', '0x4198ea55154b140d8145612cc2caef2e3ed203deec94d38f', '0x1e1b8a2d334016e30424e94c2576658588e41d044bdda4a1', '0x8153a540522e7cc68610f304484b0212318cfd5c4714557c', '0x4b721568442e1a0018f56123f672d33463610b3334c65a39', '0x13e547eb6ea88f7b5327625c72044d9a0936dbcc3c482b99', '0xca880b888751da8f09c234751d9eddf03c72ec608575ab95', '0x1914c79aef55967f717dc64d8633ebbd9300b8280f42a6f8', '0x5675568a2a81ccffcae0c2869ae9dbc1eac2b6d846ce9790', '0x880c2812cff50e9e5eb61fb096b95fae03e74f5150341112', '0xd4214549f5d8672c212bdf755bc02e9e1d8c8062d357af33', '0xa751b68eb2a81df709ea653a7b8c766a3c82a8e11240af0c', '0x6ede0b85b88e106d6df3bfb8ef705cd7c6328f6745b86946', '0xa0458475be258a62c759ee251846626fe0e366c4bd87a982', '0x7a86c5354bfab4ca6740f0a95d19099e7dfa80812090e081', '0x9fbcbcc33adf48114aaaa8a1cdd8b5359b5119dbe2765c5c', '0xa9472129e91e66474046162ac5f6e1a79e2e3745b2bfe4bd', '0xe9204ba2d129066978a99cda6a472dbc7ad19c9b549b507d', '0xcc972a03fd111b0db645e65fb3ca3862180773c6cebd67d5', '0x3eadfc01ec548731c8476c6b17fd384968b2fa77f6cd2d3c', '0x8eb84df0f067fe7d1d2f0ca997f5761aeebffd9fb87062ff', '0xde3dd6132b8fc63d1b3c0af2c32200d6c5b4466bb0919079', '0x7d649ba9c8458c430a54ae3e92890fc92410804034c350f3', '0x3b6af97a100bf7ceed2890f970fef2fc2a79047c4897b02a', '0xe3f69b3dfecb2c41d3866d752155df5875bfb0b3c74c1c4', '0xd854de4bcbf6dd9ec4afbec58ee431f82f2269892ae1c460', '0xfe4db2c9fbe8aba6f0bf8ce57dacdfbde5a9573d94ed3ac7', '0xe04fb861ccb327642448a6d694eae0f50d7a1657614381cc', '0x53f404b3cca635740bdc8eb13e27553d232ac0560bd40700', '0x957d42233b630240ecb7da0819b083e744a742fef38444e2', '0x358a02bac48f23620723366162de77630d5e553c53fc4d67']\n",
      "evaluated values generated by 1 stage of ibtfy  [32]\n",
      "iteration 1: [4] -> [2]:\n",
      "commit evaluated valuse. --> commits: [2] <--  #mesg: 16\n",
      "update h_state <- H( h_state|| xi ): b'\\x94:T\\xbb\\x9a\\xf1W@\\xb6\\xee\\xda\\x17\\x13\\xa3\\x7fW\\xee\\xde\\x89\\xb4\\xd1m\\x9bj)T\\x1a\\x0b\\xa4\\x02f\\x9d'\n",
      "update i: 2\n",
      "derive new challenge xi <- H(h_state||5||1) : 0x60bf68e365f0747c6446e96830a1b8df0b15c2b29ab39427\n",
      "deriving new polynomial of length [2]\n",
      "ibtfy_1: 0x4000000000000000 ['0xf73db69c657ab2f46868edad4cbc7f2512272a07da849a61', '0x4ccf9c33d9f231dc41614c6e361fcbe7d19fdf196da6f867', '0x7a48f7ab657867ac3b68bea990050fd0b819ba96cd48be1d', '0x5f836078260b02ee85618860e7bc8aabb6361edaa749772e', '0x15f12b97717f0cb2704bb51beaa6f4f3384f789b6d757f36', '0xca21b028160066c69ee59227be39d12652edf66f73d20f45', '0x98846aa0717dd9ea234be61f361f84069271e80a7ab95b4a', '0xd96d4c63e9f955f45ae556296f9a906a354437acb93d800c', '0xf60133452c601d8deba9dbd6936ffc05e0fb785f96d3778a', '0x4f619110c5d45a80bb9d04cb1cda307c79c20ef0498c3168', '0x7b7472722c62c8d5b8a988d24fd68cf04ac5e8ce811f53f6', '0x5c2d6d5b3a2d69b27f9dc0c5cd7971301e6bcf338363be21', '0x14cdae4e3865a3cbf38a8360357577d3ca932ac3212292dd', '0xc98fbd0b0a260d9a6419da8294fc2abdfab0278657f8c64a', '0x99b8ef7938677693a08ad064e9cc072660adba5236eeb6a1', '0xdac34140f5df3ea8a0191e8c455f6bf19d19e6459d174903', '0x54aab606a2effade1f4d68669c28d7444a28b6d7139f6e6f', '0x36fb9dead3c12e560aecbe8b082e5492057f2e9e50c9b8e1', '0xd9dff731a2ed2f864c4d3b624091a7b1e016264604534a13', '0x25b761a12c381d64ceec7a85d98d15de62d6ef5d9a2637a8', '0xb6662b0db6ea4498076e30d03a325c926040e44ba46e8b38', '0xb015b1f11c33794cd56860c280084e53860d07e84ebd4fc3', '0x3b136a3ab6e891c0546e63d4e68b2c67ca7e74dab3a2af44', '0xa3594dbae3ca4a7e1168a4cc51ab0f1fe1a4c62b8452c08a', '0x559633dfebf555a79c8c5e1d43fb5464b8f4e48f5fc88384', '0x355590c9cfe7450af010f62e22ebaf09ad22ff7774e371ee', '0xd8e372e8ebf780ffcf8c0d199f42249112ca741e4804a7f8', '0x26196c82301e763834103220f348ee45ca8b3eb4be0cfea7', '0xb75aaed4fff0ebe184af06abe5e1dfb2929cb613e83966d3', '0xb3bbbcd2001512102f942867aacdb5c82e50d6016a9786cc', '0x3a2fefe3fff23eb9d7af55af3958af4738a22682fff542af', '0xa0f74099ffec2122eb94ec697b6ef48449f917c2a0780985']\n",
      "n_vi: ['0x31773208a711be46b487b66b9bfcb24488ccac0adbcb48e4', '0xf6182b733ff9d651fc93606a557d7b95f1c5a5443787ebfb', '0x854023e6124b6c1871faebd42444470af269d10216c393f4', '0x422f3a9d8aa3040f39ee3dd5eac58edb8b60d84cfa8f30eb', '0xf22b1e1874c9637d43d30fcccd9b2394edd5da209abc83f', '0xc84da89a1fa4fe209c29e6fd02587be837d454ece5e76b20', '0xbb15a00f3216446911406d4373614777347820aac4a3132f', '0x7c7ab974aafe2c7e5954bb42bde08ea64d7129e428efb030', '0x893a5fc2b3ceaec934ae4075b0ad6b1cc4fc58d55e68a5c6', '0x4e5546b92b26c6de7cba96747e2ca2cdbdf5519bb22406d9', '0x3d0d4e2c06947c97f1d31dca0f159e52be5925dd93607ed6', '0xfa6257579e7c1480b9c7cbcbc1945783c7502c937f2cddc9', '0xb76fdc2b939386b85414c6e2e7886b6102eda97d8c08251d', '0x7000c5500b7beeaf1c0010e32909a2b07be4a03360448602', '0x358cdc526c954e691699b5d58309e2f7848d4754100fe0d', '0xc437d4bebe213cf1d97d4d5c96b157fe0141dd3bad4c5d12']\n",
      "evaluated values generated by 1 stage of ibtfy  [16]\n",
      "ibtfy_1: 0x2000000000000000 ['0x1181a745017328558ea90735252450a3f5fb5dc642226a7d', '0xc76f197b98e868174814d601ce81c9d17909094eec4ca31f', '0x1181a745017328558ea90735252450a3f5fb5dc642226a7d', '0xc76f197b98e868174814d601ce81c9d17909094eec4ca31f', '0x1181a745017328558ea90735252450a3f5fb5dc642226a7d', '0xc76f197b98e868174814d601ce81c9d17909094eec4ca31f', '0x1181a745017328558ea90735252450a3f5fb5dc642226a7d', '0xc76f197b98e868174814d601ce81c9d17909094eec4ca31f', '0x1181a745017328558ea90735252450a3f5fb5dc642226a7d', '0xc76f197b98e868174814d601ce81c9d17909094eec4ca31f', '0x1181a745017328558ea90735252450a3f5fb5dc642226a7d', '0xc76f197b98e868174814d601ce81c9d17909094eec4ca31f', '0x1181a745017328558ea90735252450a3f5fb5dc642226a7d', '0xc76f197b98e868174814d601ce81c9d17909094eec4ca31f', '0x1181a745017328558ea90735252450a3f5fb5dc642226a7d', '0xc76f197b98e868174814d601ce81c9d17909094eec4ca31f']\n",
      "cc: ['0x1181a745017328558ea90735252450a3f5fb5dc642226a7d', '0xc76f197b98e868174814d601ce81c9d17909094eec4ca31f', '0x1181a745017328558ea90735252450a3f5fb5dc642226a7d', '0xc76f197b98e868174814d601ce81c9d17909094eec4ca31f', '0x1181a745017328558ea90735252450a3f5fb5dc642226a7d', '0xc76f197b98e868174814d601ce81c9d17909094eec4ca31f', '0x1181a745017328558ea90735252450a3f5fb5dc642226a7d', '0xc76f197b98e868174814d601ce81c9d17909094eec4ca31f', '0x1181a745017328558ea90735252450a3f5fb5dc642226a7d', '0xc76f197b98e868174814d601ce81c9d17909094eec4ca31f', '0x1181a745017328558ea90735252450a3f5fb5dc642226a7d', '0xc76f197b98e868174814d601ce81c9d17909094eec4ca31f', '0x1181a745017328558ea90735252450a3f5fb5dc642226a7d', '0xc76f197b98e868174814d601ce81c9d17909094eec4ca31f', '0x1181a745017328558ea90735252450a3f5fb5dc642226a7d', '0xc76f197b98e868174814d601ce81c9d17909094eec4ca31f']\n",
      "commit deg 1 poly: 0x1181a745017328558ea90735252450a3f5fb5dc642226a7d + x* 0xc76f197b98e868174814d601ce81c9d17909094eec4ca31f\n",
      "update h_state <- H( xi || c0 || c1 ): b'\\xf4!\\xa0\\xb2|\\x91\\xedB\\x11f\\xd4\\x8bw\\\\L\\x03\"F\\xaeh\\xd6\\xc9\\x1b3\\x00\\xc42\\xe2#B\\xeaV'\n",
      "\n",
      "### query phase ###\n",
      "Queries: [26], [26, 16, 25, 23, 15, 17, 10, 30, 24, 25, 29, 14, 3, 12, 10, 28, 29, 22, 21, 16, 3, 27, 16, 21, 6, 3]\n",
      "open iteration: 0\n",
      "proof len:[1] : auth path len:7\n",
      "open iteration: 1\n",
      "proof len:[2] : auth path len:6\n"
     ]
    }
   ],
   "source": [
    "def ldt_gen_proof( f0 , h_state , Nq = 26 , RS_rho = 8 , verbose = 1 ):\n",
    "    commits , d1poly , mktrees , h_state = ldt_commit_phase( f0 , h_state , RS_rho , verbose )\n",
    "    open_mesgs = ldt_query_phase( len(f0) , mktrees , h_state , Nq , RS_rho , verbose )\n",
    "    commits.append( d1poly )\n",
    "    commits.extend( open_mesgs )\n",
    "    return commits\n",
    "\n",
    "###########  test   #############\n",
    "\n",
    "proof = ldt_gen_proof( [1,2,3,4,5,6,7,8] , b'123' )\n"
   ]
  },
  {
   "cell_type": "code",
   "execution_count": 27,
   "metadata": {},
   "outputs": [],
   "source": [
    "def ldt_gen_challenges( _poly_len , h_state , commits , d1poly , Nq , RS_rho = 8 , verbose = 1 ):\n",
    "    if 1 == verbose : dump = print\n",
    "    else : dump = _dummy\n",
    "\n",
    "    dump( \"######## recovery hash state and challenges ########\" )\n",
    "    poly_len = _poly_len\n",
    "    i = 0\n",
    "    xi = []\n",
    "    xi.append( gf.from_bytes( H.gen( h_state , bytes([3+i,1]) )[:gf.GF_BSIZE] ) )\n",
    "    dump( f\"derive x0 <- H( h_state || 3 || 1 ): {hex(xi[0])}\" )\n",
    "    while( 2 < poly_len ):\n",
    "        dump( f\"iteration {i}: [{poly_len}] -> [{poly_len//2}]:\" )\n",
    "        dump( f\"mt.root = commits[{i}] = \" ,  commits[i] )\n",
    "\n",
    "        h_state = H.gen( h_state , gf.to_bytes(xi[i]) )\n",
    "        dump( f\"update h_state <- H( h_state|| xi ): {h_state}\" )\n",
    "\n",
    "        i = i+1\n",
    "        dump( f\"update i: {i}\" )\n",
    "        xi.append( gf.from_bytes( H.gen( h_state , bytes([3+i,1]) )[:gf.GF_BSIZE] ) )\n",
    "        dump( f\"derive new challenge xi <- H(h_state||{3+i}||1) : {hex(xi[i])}\" )\n",
    "\n",
    "        dump( f\"new polynomial length [{poly_len//2}]\" )\n",
    "        poly_len = poly_len//2\n",
    "    h_state = H.gen( gf.to_bytes(xi[i]) , d1poly )\n",
    "    dump( f\"update h_state <- H( xi || deg1poly ): {h_state}\" )\n",
    "\n",
    "    dump( \"\\n### query phase ###\" )\n",
    "    queries = [ H.gen(h_state,bytes( [ 3+i+1 , j ] ))[:4] for j in range(1,Nq+1) ]\n",
    "    idx_mask = (RS_rho*_poly_len//2)-1\n",
    "    queries = [ int.from_bytes(e,'little')&idx_mask for e in queries ]\n",
    "    dump( f\"Queries: [{len(queries)}], {queries}\" )\n",
    "    return xi , queries\n"
   ]
  },
  {
   "cell_type": "code",
   "execution_count": 28,
   "metadata": {},
   "outputs": [],
   "source": [
    "def ldt_verify_proof( commits , d1poly , open_mesgs , xi , queries , Nq , verbose = 1 ):\n",
    "    if 1 == verbose : dump = print\n",
    "    else : dump = _dummy\n",
    "\n",
    "    dump( \"#### check linear relations and opened commit ######\" )\n",
    "    offset = 1<<63\n",
    "    j = 0\n",
    "    for auths in open_mesgs :\n",
    "        dump( f\"open iteration: {j}\" )\n",
    "        dump( f\"auths[{len(auths[0])}]:\",auths[0] )\n",
    "        verify_j = [ mt.verify( commits[j] , queries[i] , auths[i] ) for i in range(Nq)]\n",
    "        dump( f\"verify opened commits:\" , verify_j )\n",
    "        if not all(verify_j) : return False\n",
    "\n",
    "        # check linear relations\n",
    "        mesg = [ path[0] for path in auths ]\n",
    "        if 0!=j :\n",
    "            verify_j = [ check_linear_relation(last_mesg[i],mesg[i],queries[i],xi[j],offset) for i in range(Nq) ]\n",
    "            dump( f\"check linear relations:\" , verify_j )\n",
    "            if not all(verify_j) : return False\n",
    "        last_mesg = mesg\n",
    "        queries = [ q//2 for q in queries ]\n",
    "        offset >>= 1\n",
    "        j = j+1\n",
    "    # check deg 1 poly\n",
    "    verify_j = [ check_deg1poly_linear_relation(last_mesg[i],d1poly,queries[i],xi[-1],offset) for i in range(Nq) ]\n",
    "    dump( f\"check last linear relations (with the d1poly):\" , verify_j )\n",
    "    if not all(verify_j) : return False\n",
    "    return True\n",
    "\n",
    "def check_linear_relation( mesgjm1 , mesgj , idx , xi , offset ) :\n",
    "    cc = gf.ibtfy_1( gf.from_bytes_x2( mesgjm1 ) , offset^(idx<<1) )\n",
    "    idx &= 1\n",
    "    cc0 = gf.from_bytes( mesgj[ idx*gf.GF_BSIZE: idx*gf.GF_BSIZE + gf.GF_BSIZE] )\n",
    "    return cc0 != cc[0]^gf.mul(cc[1],xi)\n",
    "\n",
    "def check_deg1poly_linear_relation( mesgjm1 , d1poly , idx , xi , offset ) :\n",
    "    m0 = gf.fft( gf.from_bytes_x2(d1poly) , 1 , (offset>>1)^idx )\n",
    "    return check_linear_relation( mesgjm1 , gf.to_bytes(m0[0])+gf.to_bytes(m0[1]) , idx , xi , offset )\n"
   ]
  },
  {
   "cell_type": "code",
   "execution_count": 30,
   "metadata": {},
   "outputs": [
    {
     "name": "stdout",
     "output_type": "stream",
     "text": [
      "######## recovery hash state and challenges ########\n",
      "derive x0 <- H( h_state || 3 || 1 ): 0x5b9610dcbdcfa2f0b480abae7e2526ddad75cf20f9becf1b\n",
      "iteration 0: [8] -> [4]:\n",
      "mt.root = commits[0] =  b'&\\xfa\\xe6q\\x1f\\x08h\"%\\xd2\\x19\\x9f\\x82\\x01\\x83\\x91]:\\xfa\\xa2<\\x82\\xa8ao\\x8e\\x16\\xbeu\\xa9\\x9b\\xd9'\n",
      "update h_state <- H( h_state|| xi ): b'\\xf8\\xff?\\x90]\\xfe\\x94?jM\\n\\x0cH\\xba\\x04nU\\xd0\\xed\\xe5De3r<-n\\x9fL\\xd2R\\xf6'\n",
      "update i: 1\n",
      "derive new challenge xi <- H(h_state||4||1) : 0xc2699f897fff266d98801881da3468244cf53838795df1ef\n",
      "new polynomial length [4]\n",
      "iteration 1: [4] -> [2]:\n",
      "mt.root = commits[1] =  b'\\xdb5\\x96\\xf6\\x8e\\x89\\x16^\\x8c\\x05\\x9d\\xb6\\xbe\\xb9N\\x06\\x0c\\xc3\\x91M\\x86\\xcf\\xd5\\x961\\xc2\\x11\\x99 =\\xb3*'\n",
      "update h_state <- H( h_state|| xi ): b'\\x94:T\\xbb\\x9a\\xf1W@\\xb6\\xee\\xda\\x17\\x13\\xa3\\x7fW\\xee\\xde\\x89\\xb4\\xd1m\\x9bj)T\\x1a\\x0b\\xa4\\x02f\\x9d'\n",
      "update i: 2\n",
      "derive new challenge xi <- H(h_state||5||1) : 0x60bf68e365f0747c6446e96830a1b8df0b15c2b29ab39427\n",
      "new polynomial length [2]\n",
      "update h_state <- H( xi || deg1poly ): b'\\xf4!\\xa0\\xb2|\\x91\\xedB\\x11f\\xd4\\x8bw\\\\L\\x03\"F\\xaeh\\xd6\\xc9\\x1b3\\x00\\xc42\\xe2#B\\xeaV'\n",
      "\n",
      "### query phase ###\n",
      "Queries: [26], [26, 16, 25, 23, 15, 17, 10, 30, 24, 25, 29, 14, 3, 12, 10, 28, 29, 22, 21, 16, 3, 27, 16, 21, 6, 3]\n",
      "#### check linear relations and opened commit ######\n",
      "open iteration: 0\n",
      "auths[7]: [b'\\xbe\\x9f\\xf1pB\\xb2\\x19K\\x00\\x00\\x00\\x00\\x00\\x00\\x00\\x00\\x00\\x00\\x00\\x00\\x00\\x00\\x00\\x00\\xb9\\x1b\\x05\\x1d#\\xd2\\x82E\\x00\\x00\\x00\\x00\\x00\\x00\\x00\\x00\\x00\\x00\\x00\\x00\\x00\\x00\\x00\\x00', b'\\x19\\x880E\\xf4\\x8a\\xbag\\xeb\\x1c! \\x8c\\xe5bV\\x94-\\x19\\x00\\xa2\\x9e\\x02\\xc4\\x81X\\x96>\\xbar\\n\\xad', b'*\\xaa\\xf0\\xb0\\x93\\xcb\\x141\\xbc@ \\x16\\x1a\\xe7\\xd9\\xb3e\\x06^\\xa1U+\\xc9\\xc8\\xca\\xe7\\xad\\xfb\\x1b&\"\\x98', b'a\\xeb\\xa1_{Q\\xca\\x04&\\xf3\\x9f\\xa0\\x929c\\x9b\\xbedp\\x11T\\xaaO\\xfd\\xda\\xc8\\xffm\\xce\\x0b\\xc0\\xec', b'\\xc5\\x0b\\xe5\\xde\\xb1\\xfbr\\xae\\xc9B]\\xb3?3&,\\x87\\x17\\xd0\\x00\\x08\\xa5jp\\x08\\t\\x99\\xf9y\\xbb\\xc2\\xef', b'\\xef\\xcd\\xbcd\\xf8\\' \\xd4\\x83\\xfe\\xada\"\\xe4\\x8a\\x08\\x92\\t\\xb0\"}\\x9a\\x88\\xa9(\\xd6\\x06\\r2.\\xaa2', b'|\\x7f\\x1c\\xcb\\xf0\\x94\\xe6\\xd9\\xcb\\xa4\\xdd(\\r(\\xccju(\\xa9\\xf8\\\\\\xbb\\x1a\\xadbkQ\\xeeG\\x8c|\\xc2']\n",
      "verify opened commits: [True, True, True, True, True, True, True, True, True, True, True, True, True, True, True, True, True, True, True, True, True, True, True, True, True, True]\n",
      "open iteration: 1\n",
      "auths[6]: [b'`\\xc4\\xe1*\\x89i\"/\\xf81\\xe4\\x8e\\xc5\\xbe\\xaf\\xc4\\x9e\\xdd\\xf6\\xcbK\\xdeT\\xd8\\xc7:\\xed\\x94=W\\xa9\\xe5\\xbd\\xdf\\xac}\\xe5\\x8c\\xbf\\xf0\\xa6\\xab\\xe8\\xfb\\xc9\\xb2M\\xfe', b'\\x07;b\\xc8\\x9f5\\x94\\x92\\xb0\\x14\\xb4\\xba\\xf2\\xb2j8\\x1dn\\x0c\\xb2\\xcee\\xb4\\xa7\\x84\\xb6\\xfcz(`\\x9b\\x8f', b'2\\xc5#i\\xab\\xdc\\xeb\\xeb\\xe5F~\\xd3j\\xe6\\x08cE$\\xba4o\\xea!\\x8e\\t6|\\xe00\\x01K\"', b'L\\x0e@\\xa3\\xc5\\xb7\\x1d\\xd44\\xfa\\xe1\\x04\\xd4W\\x87\\xf3\\xc8w1\\xdc\\xbc\\xe9\\xab\\xb3b\\xc4A\\t\\x84\\x9a\\x07\\x19', b'\\xd8\\xf5\\x94\\x13f\\xfa\\xd1(\\xd5\\xe9\\x16\\x13v\\xd8\\xdd\\x87\\xd1y\\x81\\x9d\\xfa\\rL\\xc5Y\\x93\\x05\\x86\\x1fr\\x0c,', b'\\xb1\\x17{\\x19\\x82\\x047\\x84yz\\xff\\x8c\\xb4\\xc6C\\xbcp\\xd8N\\x13\\xfd\"\\xdf\\x94\\xbdVX\\x18K|\\xf2\\xec']\n",
      "verify opened commits: [True, True, True, True, True, True, True, True, True, True, True, True, True, True, True, True, True, True, True, True, True, True, True, True, True, True]\n",
      "check linear relations: [True, True, True, True, True, True, True, True, True, True, True, True, True, True, True, True, True, True, True, True, True, True, True, True, True, True]\n",
      "check last linear relations (with the d1poly): [True, True, True, True, True, True, True, True, True, True, True, True, True, True, True, True, True, True, True, True, True, True, True, True, True, True]\n"
     ]
    },
    {
     "data": {
      "text/plain": [
       "True"
      ]
     },
     "execution_count": 30,
     "metadata": {},
     "output_type": "execute_result"
    }
   ],
   "source": [
    "def ldt_verify( proof , _poly_len , h_state , Nq = 26 , RS_rho = 8 , verbose = 1 ):\n",
    "    n_commits = _n_commit( _poly_len )\n",
    "    commits     = proof[:n_commits]\n",
    "    d1poly      = proof[n_commits]\n",
    "    open_mesgs  = proof[n_commits+1:]\n",
    "    xi, queries = ldt_gen_challenges(_poly_len,h_state,commits,d1poly,Nq, RS_rho, verbose )\n",
    "    return ldt_verify_proof(commits,d1poly,open_mesgs,xi,queries,Nq,verbose)\n",
    "\n",
    "############# test  ##############\n",
    "\n",
    "ldt_verify( proof , 8 , b'123' )\n",
    "\n"
   ]
  },
  {
   "cell_type": "code",
   "execution_count": null,
   "metadata": {},
   "outputs": [],
   "source": []
  }
 ],
 "metadata": {
  "kernelspec": {
   "display_name": "venv",
   "language": "python",
   "name": "python3"
  },
  "language_info": {
   "codemirror_mode": {
    "name": "ipython",
    "version": 3
   },
   "file_extension": ".py",
   "mimetype": "text/x-python",
   "name": "python",
   "nbconvert_exporter": "python",
   "pygments_lexer": "ipython3",
   "version": "3.11.3"
  },
  "orig_nbformat": 4
 },
 "nbformat": 4,
 "nbformat_minor": 2
}
