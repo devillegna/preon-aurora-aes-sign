{
 "cells": [
  {
   "cell_type": "code",
   "execution_count": 1,
   "metadata": {},
   "outputs": [],
   "source": [
    "import sys\n",
    "sys.path.insert(0, '../' )\n"
   ]
  },
  {
   "cell_type": "code",
   "execution_count": 2,
   "metadata": {},
   "outputs": [],
   "source": [
    "import m_fri_ldt as fri"
   ]
  },
  {
   "cell_type": "code",
   "execution_count": 6,
   "metadata": {},
   "outputs": [
    {
     "name": "stdout",
     "output_type": "stream",
     "text": [
      "rho: 8, offset: 0x8000000000000000\n",
      "original poly [1, 2, 3, 4, 5, 6, 7, 8]\n",
      "\n",
      "### commit phase ###\n",
      "Assume the evaluate on [0x8000000000000000,|8|x8) has been committed ?\n",
      "vi: [1246866497807618795, 4265964599157179256, 1694739141090504046, 1565830132839253768, 13588509979623779941, 996222563803066535, 334356061807418613, 11359377728264780234, 16458911052986449620, 16948388880601032284, 3219752816587853438, 14265852649938963731, 4519790617497040035, 7537718367003295669, 11908198698919436642, 1542795312697520537, 18373502611120147767, 2528080870869800415, 12307884686738983143, 6012030690928285485, 15765636662194813108, 5932476764803616533, 4168554421296933529, 10738872398854773266, 5972401413023563584, 5182919073939605189, 6053074681583170478, 12324407368897735961, 5726952955255770812, 14790680209824253119, 1403999725530152401, 8882118986198274280, 11385416365251370435, 14089681160904999687, 15854840660061616710, 4903354113959966465, 12730854449350105515, 10522658688429308584, 12508886573197027226, 5381962549009831698, 3231369224822220807, 16658609918793665912, 11587960877687586981, 6984066239146907209, 2220076595663265945, 7520389675120977134, 2321048815044819441, 6732659969052954141, 5508238929180618483, 17546175875583014699, 3670142294770839315, 4941140584668961183, 5411552425694830526, 5008796783841975225, 7164557597390609666, 11852286173124195929, 18416291871982985038, 4314043243088368987, 15265882774748747672, 1176147407551337161, 12313037234816651379, 2126160206195170166, 4432036220775117703, 10170356022325753806]\n",
      "do a redundent commit here for checking correctness\n",
      "derive x0 <- H( h_state || 3 || 1 ): 0x5b9610dcbdcfa2f0b480abae7e2526ddad75cf20f9becf1b\n",
      "iteration 0: [8] -> [4]:\n",
      "commit evaluated valuse. --> commits: [1] <--  #mesg: 32\n",
      "update h_state <- H( h_state|| xi ): b'\\xf8\\xff?\\x90]\\xfe\\x94?jM\\n\\x0cH\\xba\\x04nU\\xd0\\xed\\xe5De3r<-n\\x9fL\\xd2R\\xf6'\n",
      "update i: 1\n",
      "derive new challenge xi <- H(h_state||4||1) : 0xc2699f897fff266d98801881da3468244cf53838795df1ef\n",
      "deriving new polynomial of length [4]\n",
      "ibtfy_1: 0x8000000000000000 ['0x9ae24f4c1e2d05aa', '0x2a7e024a510f5193', '0x21da45d887e801dd', '0x23e1e70a5daea66', '0x8e3306e7739bc63f', '0xb1475ef01ae69ec2', '0x350b0c73ea5ec24f', '0x990742caee33253f', '0xfe5256b0e517ba83', '0xf5d0985b8665888', '0x815ddf98a66aafa', '0xe954a14670e5036d', '0xc37929e5728aabde', '0x5622df75b526cb16', '0x353ea2ac1dfbbba0', '0xb02b77b67da590fb', '0x40059b4e00a0c7ce', '0xddee476f4020d8e8', '0x9fb826f995fa0578', '0xf9a165e6ce0adfca', '0x19ab53389ba21052', '0x889eaf2c379ff7a1', '0xc616ee8f0ef8d2e3', '0xacd18da5b9b5f08b', '0xb49c4a1590f3ebc4', '0x150f561eda8b3985', '0x265e767ff31d3d7c', '0xff09c06e68f7deb7', '0xc4c8b49df1daee90', '0x82393417eb9d4a03', '0x560a88f79234382f', '0x683fa26759e1ad39', '0x9e4afe3e907a43f', '0x5d89858104fb9ec4', '0x22f56dd01bab336b', '0x980b830583eccd47', '0x8abd3521dc8e141d', '0x22aaeaf8d4376303', '0xa1acf7122e22834e', '0xe728ec7c53203088', '0xe4684d906a688ba', '0xcbf76445bad6a57f', '0x6828c73702be0be0', '0xc03cd638019716ec', '0xa4e528e5c904ea50', '0x769281762cb30477', '0xc28b6b0bcd1c690d', '0x7d59330b97f2b7ec', '0xbe3057faea6ed338', '0xbff1bbe1816e99d8', '0xf1a422ea145d82ad', '0x767c83d67c86768c', '0x70164ce529537713', '0xe9b60616df48407', '0x3f8239f5d7602681', '0xc7165856901c6b5b', '0x29bbb4676ea66c9e', '0xc44d409b4c814a15', '0x2b5040aa66212905', '0xc389cc558d3f4551', '0xce67998657b01a7d', '0xb7611151e6b20b05', '0xcc8c6d4b5f375fe1', '0xb0a59d9f270c0449']\n",
      "n_vi: ['0x4522d58d05e0e8c4b50aa2968bc500b04aee1c1267791c0e', '0x9ed49bedc12d918f46beef8bddacb579b71c30b0adfe469', '0x4198ea55154b140d8145612cc2caef2e3ed203deec94d38f', '0x1e1b8a2d334016e30424e94c2576658588e41d044bdda4a1', '0x8153a540522e7cc68610f304484b0212318cfd5c4714557c', '0x4b721568442e1a0018f56123f672d33463610b3334c65a39', '0x13e547eb6ea88f7b5327625c72044d9a0936dbcc3c482b99', '0xca880b888751da8f09c234751d9eddf03c72ec608575ab95', '0x1914c79aef55967f717dc64d8633ebbd9300b8280f42a6f8', '0x5675568a2a81ccffcae0c2869ae9dbc1eac2b6d846ce9790', '0x880c2812cff50e9e5eb61fb096b95fae03e74f5150341112', '0xd4214549f5d8672c212bdf755bc02e9e1d8c8062d357af33', '0xa751b68eb2a81df709ea653a7b8c766a3c82a8e11240af0c', '0x6ede0b85b88e106d6df3bfb8ef705cd7c6328f6745b86946', '0xa0458475be258a62c759ee251846626fe0e366c4bd87a982', '0x7a86c5354bfab4ca6740f0a95d19099e7dfa80812090e081', '0x9fbcbcc33adf48114aaaa8a1cdd8b5359b5119dbe2765c5c', '0xa9472129e91e66474046162ac5f6e1a79e2e3745b2bfe4bd', '0xe9204ba2d129066978a99cda6a472dbc7ad19c9b549b507d', '0xcc972a03fd111b0db645e65fb3ca3862180773c6cebd67d5', '0x3eadfc01ec548731c8476c6b17fd384968b2fa77f6cd2d3c', '0x8eb84df0f067fe7d1d2f0ca997f5761aeebffd9fb87062ff', '0xde3dd6132b8fc63d1b3c0af2c32200d6c5b4466bb0919079', '0x7d649ba9c8458c430a54ae3e92890fc92410804034c350f3', '0x3b6af97a100bf7ceed2890f970fef2fc2a79047c4897b02a', '0xe3f69b3dfecb2c41d3866d752155df5875bfb0b3c74c1c4', '0xd854de4bcbf6dd9ec4afbec58ee431f82f2269892ae1c460', '0xfe4db2c9fbe8aba6f0bf8ce57dacdfbde5a9573d94ed3ac7', '0xe04fb861ccb327642448a6d694eae0f50d7a1657614381cc', '0x53f404b3cca635740bdc8eb13e27553d232ac0560bd40700', '0x957d42233b630240ecb7da0819b083e744a742fef38444e2', '0x358a02bac48f23620723366162de77630d5e553c53fc4d67']\n",
      "evaluated values generated by 1 stage of ibtfy  [32]\n",
      "iteration 1: [4] -> [2]:\n",
      "commit evaluated valuse. --> commits: [2] <--  #mesg: 16\n",
      "update h_state <- H( h_state|| xi ): b'\\x94:T\\xbb\\x9a\\xf1W@\\xb6\\xee\\xda\\x17\\x13\\xa3\\x7fW\\xee\\xde\\x89\\xb4\\xd1m\\x9bj)T\\x1a\\x0b\\xa4\\x02f\\x9d'\n",
      "update i: 2\n",
      "derive new challenge xi <- H(h_state||5||1) : 0x60bf68e365f0747c6446e96830a1b8df0b15c2b29ab39427\n",
      "deriving new polynomial of length [2]\n",
      "ibtfy_1: 0x4000000000000000 ['0xf73db69c657ab2f46868edad4cbc7f2512272a07da849a61', '0x4ccf9c33d9f231dc41614c6e361fcbe7d19fdf196da6f867', '0x7a48f7ab657867ac3b68bea990050fd0b819ba96cd48be1d', '0x5f836078260b02ee85618860e7bc8aabb6361edaa749772e', '0x15f12b97717f0cb2704bb51beaa6f4f3384f789b6d757f36', '0xca21b028160066c69ee59227be39d12652edf66f73d20f45', '0x98846aa0717dd9ea234be61f361f84069271e80a7ab95b4a', '0xd96d4c63e9f955f45ae556296f9a906a354437acb93d800c', '0xf60133452c601d8deba9dbd6936ffc05e0fb785f96d3778a', '0x4f619110c5d45a80bb9d04cb1cda307c79c20ef0498c3168', '0x7b7472722c62c8d5b8a988d24fd68cf04ac5e8ce811f53f6', '0x5c2d6d5b3a2d69b27f9dc0c5cd7971301e6bcf338363be21', '0x14cdae4e3865a3cbf38a8360357577d3ca932ac3212292dd', '0xc98fbd0b0a260d9a6419da8294fc2abdfab0278657f8c64a', '0x99b8ef7938677693a08ad064e9cc072660adba5236eeb6a1', '0xdac34140f5df3ea8a0191e8c455f6bf19d19e6459d174903', '0x54aab606a2effade1f4d68669c28d7444a28b6d7139f6e6f', '0x36fb9dead3c12e560aecbe8b082e5492057f2e9e50c9b8e1', '0xd9dff731a2ed2f864c4d3b624091a7b1e016264604534a13', '0x25b761a12c381d64ceec7a85d98d15de62d6ef5d9a2637a8', '0xb6662b0db6ea4498076e30d03a325c926040e44ba46e8b38', '0xb015b1f11c33794cd56860c280084e53860d07e84ebd4fc3', '0x3b136a3ab6e891c0546e63d4e68b2c67ca7e74dab3a2af44', '0xa3594dbae3ca4a7e1168a4cc51ab0f1fe1a4c62b8452c08a', '0x559633dfebf555a79c8c5e1d43fb5464b8f4e48f5fc88384', '0x355590c9cfe7450af010f62e22ebaf09ad22ff7774e371ee', '0xd8e372e8ebf780ffcf8c0d199f42249112ca741e4804a7f8', '0x26196c82301e763834103220f348ee45ca8b3eb4be0cfea7', '0xb75aaed4fff0ebe184af06abe5e1dfb2929cb613e83966d3', '0xb3bbbcd2001512102f942867aacdb5c82e50d6016a9786cc', '0x3a2fefe3fff23eb9d7af55af3958af4738a22682fff542af', '0xa0f74099ffec2122eb94ec697b6ef48449f917c2a0780985']\n",
      "n_vi: ['0x31773208a711be46b487b66b9bfcb24488ccac0adbcb48e4', '0xf6182b733ff9d651fc93606a557d7b95f1c5a5443787ebfb', '0x854023e6124b6c1871faebd42444470af269d10216c393f4', '0x422f3a9d8aa3040f39ee3dd5eac58edb8b60d84cfa8f30eb', '0xf22b1e1874c9637d43d30fcccd9b2394edd5da209abc83f', '0xc84da89a1fa4fe209c29e6fd02587be837d454ece5e76b20', '0xbb15a00f3216446911406d4373614777347820aac4a3132f', '0x7c7ab974aafe2c7e5954bb42bde08ea64d7129e428efb030', '0x893a5fc2b3ceaec934ae4075b0ad6b1cc4fc58d55e68a5c6', '0x4e5546b92b26c6de7cba96747e2ca2cdbdf5519bb22406d9', '0x3d0d4e2c06947c97f1d31dca0f159e52be5925dd93607ed6', '0xfa6257579e7c1480b9c7cbcbc1945783c7502c937f2cddc9', '0xb76fdc2b939386b85414c6e2e7886b6102eda97d8c08251d', '0x7000c5500b7beeaf1c0010e32909a2b07be4a03360448602', '0x358cdc526c954e691699b5d58309e2f7848d4754100fe0d', '0xc437d4bebe213cf1d97d4d5c96b157fe0141dd3bad4c5d12']\n",
      "evaluated values generated by 1 stage of ibtfy  [16]\n",
      "cc: ['0x1181a745017328558ea90735252450a3f5fb5dc642226a7d', '0xc76f197b98e868174814d601ce81c9d17909094eec4ca31f']\n",
      "commit deg 1 poly: 0x1181a745017328558ea90735252450a3f5fb5dc642226a7d + x* 0xc76f197b98e868174814d601ce81c9d17909094eec4ca31f\n",
      "update h_state <- H( xi || c0 || c1 ): b'\\xf4!\\xa0\\xb2|\\x91\\xedB\\x11f\\xd4\\x8bw\\\\L\\x03\"F\\xaeh\\xd6\\xc9\\x1b3\\x00\\xc42\\xe2#B\\xeaV'\n",
      "\n",
      "### query phase ###\n",
      "Queries: [26], [26, 16, 25, 23, 15, 17, 10, 30, 24, 25, 29, 14, 3, 12, 10, 28, 29, 22, 21, 16, 3, 27, 16, 21, 6, 3]\n",
      "open iteration: 0\n",
      "proof len:[1] : auth path len:7\n",
      "open iteration: 1\n",
      "proof len:[2] : auth path len:6\n"
     ]
    }
   ],
   "source": [
    "#def ldt_gen_proof( f0 , h_state , Nq = 26 , RS_rho = 8 , verbose = 1 ):\n",
    "\n",
    "###########  test   #############\n",
    "\n",
    "proof = fri.ldt_gen_proof( [1,2,3,4,5,6,7,8] , b'123' )\n"
   ]
  },
  {
   "cell_type": "code",
   "execution_count": 8,
   "metadata": {},
   "outputs": [
    {
     "name": "stdout",
     "output_type": "stream",
     "text": [
      "######## recovery hash state and challenges ########\n",
      "derive x0 <- H( h_state || 3 || 1 ): 0x5b9610dcbdcfa2f0b480abae7e2526ddad75cf20f9becf1b\n",
      "iteration 0: [8] -> [4]:\n",
      "mt.root = commits[0] =  b'P\\xc8\\x1c\\x94e\\xf5O\\x10\\xda\\xbc\\xa3\\x99\\t8\\x08\\x86\\x9d\\x11H|\\x1a\\x9f\\xc5a\\xaf\\x94O\\x8e\\x9b\\xc6\\xf5\\xe2'\n",
      "update h_state <- H( h_state|| xi ): b'\\xf8\\xff?\\x90]\\xfe\\x94?jM\\n\\x0cH\\xba\\x04nU\\xd0\\xed\\xe5De3r<-n\\x9fL\\xd2R\\xf6'\n",
      "update i: 1\n",
      "derive new challenge xi <- H(h_state||4||1) : 0xc2699f897fff266d98801881da3468244cf53838795df1ef\n",
      "new polynomial length [4]\n",
      "iteration 1: [4] -> [2]:\n",
      "mt.root = commits[1] =  b':\\xf2E\\xf5\\xf3\\xfa\\xf2\\xa1\\x19\\x9a\\x06Z\\x8f\\xa0\\x87\\x1f\\x9dAu\\xe1\\x915xb\\xf0k\\xfc\\x9bi\\x1f\\xcc\\x86'\n",
      "update h_state <- H( h_state|| xi ): b'\\x94:T\\xbb\\x9a\\xf1W@\\xb6\\xee\\xda\\x17\\x13\\xa3\\x7fW\\xee\\xde\\x89\\xb4\\xd1m\\x9bj)T\\x1a\\x0b\\xa4\\x02f\\x9d'\n",
      "update i: 2\n",
      "derive new challenge xi <- H(h_state||5||1) : 0x60bf68e365f0747c6446e96830a1b8df0b15c2b29ab39427\n",
      "new polynomial length [2]\n",
      "update h_state <- H( xi || deg1poly ): b'\\xf4!\\xa0\\xb2|\\x91\\xedB\\x11f\\xd4\\x8bw\\\\L\\x03\"F\\xaeh\\xd6\\xc9\\x1b3\\x00\\xc42\\xe2#B\\xeaV'\n",
      "\n",
      "### query phase ###\n",
      "Queries: [26], [26, 16, 25, 23, 15, 17, 10, 30, 24, 25, 29, 14, 3, 12, 10, 28, 29, 22, 21, 16, 3, 27, 16, 21, 6, 3]\n",
      "#### check linear relations and opened commit ######\n",
      "open iteration: 0\n",
      "auths[7]: [b'\\xbe\\x9f\\xf1pB\\xb2\\x19K\\x00\\x00\\x00\\x00\\x00\\x00\\x00\\x00\\x00\\x00\\x00\\x00\\x00\\x00\\x00\\x00\\xb9\\x1b\\x05\\x1d#\\xd2\\x82E\\x00\\x00\\x00\\x00\\x00\\x00\\x00\\x00\\x00\\x00\\x00\\x00\\x00\\x00\\x00\\x00', b'\\xbb\\xf8\\xf0A\\xd2z\\xf9\\xc6\\xde81\\xc4\\x16\\xdd\\xec\\x8a\\xc4]\\xed\\x96\\xda#E\\x05\\xa3\\xdb\\xba\\x9b\\xf3\\x00\\x8d\\xb0', b'o\\xd8\\x84\\x7f\\xee\\xc8\\xf2U\\xe4Ki\\xa6\\x00\\t\\xce\\x85\\xd7\\x08#\\xac\\xf5\\x8bP\\xa4t\\xd1\\x07\\x9bj\\xf7#\\xce', b'\\xda\\xcc2\\xe9\\xe6\\xd7\\xc71\\xed7}\\xeb\\x87\\xaa\\xcb\\x0c\\xa9\\x00\\x1a%\\xdc\\xae\\xbaBx\\xff\\xd3:%q\\xa0\\xc5', b'i\"\\xd0\\xae\\xd9e\\x00l\\xddTf]A\\xac\\x8f\\xd7\\xbf\\xbe\\xc8\\xb5\\xcbV\\xf8<\\xf1\\x8e\\xd4\\xf4j\\xeb\\xb4\\xb6', b'P<F\\x96\\x9b\\x84\\xdc\\xc7\\x92\\x12\\xa0<\\xea\\xb9\\x80\\xf7\\x1f\\xc7\\xfeHYt,\\xc1\\xa1\\xb7\\xb2\\xc9\\x84\\x96\\x98$', b'L5\\xeat\\xdb\\xee\\xd9\\x16\\xd4\\x8f\\x06P\\x14\\x83\\xfck\\x88\\x16\\xd2\\x1c-\\xf6C\\x04\\x8d\\x1a\\xcc\\xbf\\x04\\x03\\nk']\n",
      "verify opened commits: [True, True, True, True, True, True, True, True, True, True, True, True, True, True, True, True, True, True, True, True, True, True, True, True, True, True]\n",
      "open iteration: 1\n",
      "auths[6]: [b'`\\xc4\\xe1*\\x89i\"/\\xf81\\xe4\\x8e\\xc5\\xbe\\xaf\\xc4\\x9e\\xdd\\xf6\\xcbK\\xdeT\\xd8\\xc7:\\xed\\x94=W\\xa9\\xe5\\xbd\\xdf\\xac}\\xe5\\x8c\\xbf\\xf0\\xa6\\xab\\xe8\\xfb\\xc9\\xb2M\\xfe', b'\\\\\\xda\\x0367\"y\\xf3\"\\xf9\\xc0\\x02\\x104\\x11mz\\x15d\\x95\\xaa\\xa6\\xa7I\\xfc\\xf8[\\xd1Fph\\xba', b'\\xb9\\xd5\\xfb\\xdai\\x1a]\\x84Q\\xf8\\x07\\xc4PR\\xc8np\\x82\\xe2\\xa4\\x86\\x97\\xb3e\\xc9\\xbcv&m\\xae\\xf50', b\"L}\\xdd\\x1a\\x13#\\xfc\\xec\\xc9\\x84\\x0e!\\x11\\xf6'\\x10\\x8d\\xd5\\xff\\x94\\x91<!u\\xd7\\xfd\\x11\\xae\\xcb\\xeb\\xfa0\", b':\\x15\\x1fdos\\x10\\xa60,<\\x16\\x08\\x19<8Ng\\x03<\\x00E`\\xc4\\xe5\\xfe\\xcb>n\\x90}4', b'g}\\xfc*\\xd2x\\xee3&y\\x1e\\rK\\xe4\\x19\\xaa\\xa0\\xfa\\xaeIg\\xf6W\\xd9%\\x9e:\\x8c\\xc4\\xa1P\\xc5']\n",
      "verify opened commits: [True, True, True, True, True, True, True, True, True, True, True, True, True, True, True, True, True, True, True, True, True, True, True, True, True, True]\n",
      "check linear relations: [True, True, True, True, True, True, True, True, True, True, True, True, True, True, True, True, True, True, True, True, True, True, True, True, True, True]\n",
      "check last linear relations (with the d1poly): [True, True, True, True, True, True, True, True, True, True, True, True, True, True, True, True, True, True, True, True, True, True, True, True, True, True]\n"
     ]
    },
    {
     "data": {
      "text/plain": [
       "True"
      ]
     },
     "execution_count": 8,
     "metadata": {},
     "output_type": "execute_result"
    }
   ],
   "source": [
    "#def ldt_verify( proof , _poly_len , h_state , Nq = 26 , RS_rho = 8 , verbose = 1 ):\n",
    "\n",
    "############# test  ##############\n",
    "\n",
    "fri.ldt_verify( proof , 8 , b'123' )\n",
    "\n"
   ]
  },
  {
   "cell_type": "code",
   "execution_count": null,
   "metadata": {},
   "outputs": [],
   "source": []
  }
 ],
 "metadata": {
  "kernelspec": {
   "display_name": "venv",
   "language": "python",
   "name": "python3"
  },
  "language_info": {
   "codemirror_mode": {
    "name": "ipython",
    "version": 3
   },
   "file_extension": ".py",
   "mimetype": "text/x-python",
   "name": "python",
   "nbconvert_exporter": "python",
   "pygments_lexer": "ipython3",
   "version": "3.11.3"
  },
  "orig_nbformat": 4
 },
 "nbformat": 4,
 "nbformat_minor": 2
}
