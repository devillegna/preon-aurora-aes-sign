{
 "cells": [
  {
   "cell_type": "code",
   "execution_count": 1,
   "metadata": {},
   "outputs": [],
   "source": [
    "import sys\n",
    "sys.path.insert(0, '../' )"
   ]
  },
  {
   "cell_type": "code",
   "execution_count": 2,
   "metadata": {},
   "outputs": [
    {
     "data": {
      "text/plain": [
       "b\"\\x81\\x81-\\x8b\\xea\\xb6@'S\\x7f\\xc6\\x81zK\\x94L\""
      ]
     },
     "execution_count": 2,
     "metadata": {},
     "output_type": "execute_result"
    }
   ],
   "source": [
    "from utils import randombytes as rd\n",
    "\n",
    "rd.randombytes(16)"
   ]
  },
  {
   "cell_type": "code",
   "execution_count": 3,
   "metadata": {},
   "outputs": [
    {
     "data": {
      "text/plain": [
       "1"
      ]
     },
     "execution_count": 3,
     "metadata": {},
     "output_type": "execute_result"
    }
   ],
   "source": [
    "from libgf264fft import clib_wrapper as cgf\n",
    "\n",
    "cgf.gf264_mul( 1 ,1 )"
   ]
  },
  {
   "cell_type": "code",
   "execution_count": 4,
   "metadata": {},
   "outputs": [
    {
     "data": {
      "text/plain": [
       "3"
      ]
     },
     "execution_count": 4,
     "metadata": {},
     "output_type": "execute_result"
    }
   ],
   "source": [
    "from utils import gf2192 as gf\n",
    "\n",
    "gf.GF_EXT"
   ]
  },
  {
   "cell_type": "code",
   "execution_count": 5,
   "metadata": {},
   "outputs": [],
   "source": [
    "# the commit scheme\n",
    "\n",
    "from commit import merkeltreecommit as mt\n"
   ]
  },
  {
   "cell_type": "code",
   "execution_count": 6,
   "metadata": {},
   "outputs": [],
   "source": [
    "# challenge\n",
    "\n",
    "from utils import hash as H\n"
   ]
  },
  {
   "cell_type": "code",
   "execution_count": 7,
   "metadata": {},
   "outputs": [
    {
     "name": "stdout",
     "output_type": "stream",
     "text": [
      "fi ['0x700000000000000070000000000000007', '0x800000000000000080000000000000008']\n",
      "r ['0xcb9ea337ae4e8620cb9ea337ae4e8620cb9ea337ae4e8620', '0xcb9ea337ae4e8628cb9ea337ae4e8628cb9ea337ae4e8628', '0x5d717ce9218663005d717ce9218663005d717ce92186630', '0x5d717ce9218663805d717ce9218663805d717ce92186638', '0xc7919d84d4b13af7c7919d84d4b13af7c7919d84d4b13af7', '0xc7919d84d4b13affc7919d84d4b13affc7919d84d4b13aff', '0x9d8297de8e7dae709d8297de8e7dae709d8297de8e7dae7', '0x9d8297de8e7daef09d8297de8e7daef09d8297de8e7daef']\n"
     ]
    }
   ],
   "source": [
    "def _gf_fft( fi , rho , offset ):\n",
    "    fi_len = len(fi)\n",
    "    assert 0==(fi_len&(fi_len-1))\n",
    "    assert 0==(rho&(rho-1))\n",
    "    fi_gf264 = [ [ (e>>(64*j))&0xffffffffffffffff for e in fi ] for j in range(gf.GF_EXT) ]\n",
    "    r_gf264 = [ [] for _ in range(gf.GF_EXT) ]\n",
    "    for j in range(gf.GF_EXT):\n",
    "         for k in range(rho):\n",
    "              r_gf264[j].extend( cgf.btfy( fi_gf264[j] , offset ^ (k*fi_len) ) )\n",
    "    r = list(r_gf264[0])\n",
    "    for i in range(len(r)):\n",
    "        for j in range(1,gf.GF_EXT):\n",
    "            r[i] |= ((r_gf264[j][i])<<(64*j))\n",
    "    return r\n",
    "\n",
    "#### test #######\n",
    "\n",
    "offset = 16\n",
    "\n",
    "fi = [ i+(i<<64)+(i<<128) for i in range(7,9) ]\n",
    "\n",
    "print( \"fi\" , [hex(i) for i in fi] )\n",
    "\n",
    "r = _gf_fft( fi , 4 , offset )\n",
    "\n",
    "print( \"r\" , [ hex(i) for i in r] )\n"
   ]
  },
  {
   "cell_type": "code",
   "execution_count": 8,
   "metadata": {},
   "outputs": [],
   "source": [
    "#def _btfy_1( fi , offset ):\n",
    "#    l = len(fi)\n",
    "#    fi_gf264 = [ [ (e>>(64*j))&0xffffffffffffffff for e in fi ] for j in range(gf.GF_EXT) ]\n",
    "#    r_gf264 = [ [] for _ in range(gf.GF_EXT) ]\n",
    "#    offset_gf264 = cgf.index_to_gf264(offset)\n",
    "#    for j in range(gf.GF_EXT):\n",
    "#         for k in range( 0,l,2 ):\n",
    "#              vk0 = fi_gf264[j][k]^cgf.gf264_mul( fi_gf264[j][k+1] , offset_gf264^cgf.index_to_gf264(k) )\n",
    "#              vk1 = fi_gf264[j][k+1]^vk0\n",
    "#              r_gf264[j].extend( [vk0,vk1] )\n",
    "#    r = list(r_gf264[0])\n",
    "#    for i in range(len(r)):\n",
    "#        for j in range(1,gf.GF_EXT):\n",
    "#            r[i] |= ((r_gf264[j][i])<<(64*j))\n",
    "#    return r\n",
    "#\n",
    "##### test #######\n",
    "#\n",
    "#print( \"fi\", [hex(i) for i in fi] )\n",
    "#\n",
    "#fi1 = _btfy_1( fi , offset )\n",
    "#print( \"f1\", [hex(i) for i in fi1] )\n",
    "#\n",
    "#"
   ]
  },
  {
   "cell_type": "code",
   "execution_count": 9,
   "metadata": {},
   "outputs": [
    {
     "name": "stdout",
     "output_type": "stream",
     "text": [
      "r0 ['0xcb9ea337ae4e8620cb9ea337ae4e8620cb9ea337ae4e8620', '0xcb9ea337ae4e8628cb9ea337ae4e8628cb9ea337ae4e8628', '0x5d717ce9218663005d717ce9218663005d717ce92186630', '0x5d717ce9218663805d717ce9218663805d717ce92186638', '0xc7919d84d4b13af7c7919d84d4b13af7c7919d84d4b13af7', '0xc7919d84d4b13affc7919d84d4b13affc7919d84d4b13aff', '0x9d8297de8e7dae709d8297de8e7dae709d8297de8e7dae7', '0x9d8297de8e7daef09d8297de8e7daef09d8297de8e7daef']\n",
      "r1 ['0x700000000000000070000000000000007', '0x800000000000000080000000000000008', '0x700000000000000070000000000000007', '0x800000000000000080000000000000008', '0x700000000000000070000000000000007', '0x800000000000000080000000000000008', '0x700000000000000070000000000000007', '0x800000000000000080000000000000008']\n"
     ]
    }
   ],
   "source": [
    "def _ibtfy_1( vi , offset ):\n",
    "    l = len(vi)\n",
    "    vi_gf264 = [ [ (e>>(64*j))&0xffffffffffffffff for e in vi ] for j in range(gf.GF_EXT) ]\n",
    "    r_gf264 = [ [] for _ in range(gf.GF_EXT) ]\n",
    "    offset_gf264 = cgf.index_to_gf264(offset)\n",
    "    for j in range(gf.GF_EXT):\n",
    "         for k in range( 0,l,2 ):\n",
    "              vk1 = vi_gf264[j][k+1]^vi_gf264[j][k]\n",
    "              vk0 = vi_gf264[j][k]^cgf.gf264_mul( vk1 , offset_gf264^cgf.index_to_gf264(k) )\n",
    "              r_gf264[j].extend( [vk0,vk1] )\n",
    "    r = list(r_gf264[0])\n",
    "    for i in range(len(r)):\n",
    "        for j in range(1,gf.GF_EXT):\n",
    "            r[i] |= ((r_gf264[j][i])<<(64*j))\n",
    "    return r\n",
    "\n",
    "#### test #######\n",
    "\n",
    "print( \"r0\", [hex(i) for i in r] )\n",
    "\n",
    "r1 = _ibtfy_1( r , offset )\n",
    "print( \"r1\", [hex(i) for i in r1] )\n",
    "\n"
   ]
  },
  {
   "cell_type": "code",
   "execution_count": 18,
   "metadata": {},
   "outputs": [
    {
     "name": "stdout",
     "output_type": "stream",
     "text": [
      "original poly [1, 2, 3, 4]\n",
      "\n",
      "### commit phase ###\n",
      "Assume the evaluate on [0x8000000000000000,|4|x32) has been committed ?\n",
      "do a redundent commit here for checking correctness\n",
      "derive x0 <- H( h_state || 3 || 1 ): 0x5b9610dcbdcfa2f0b480abae7e2526ddad75cf20f9becf1b\n",
      "iteration 0: [4] -> [2]:\n",
      "commit evaluated valuse. --> proof: [1]   #mesg: 64\n",
      "update h_state <- H( h_state|| xi ): b'\\xf8\\xff?\\x90]\\xfe\\x94?jM\\n\\x0cH\\xba\\x04nU\\xd0\\xed\\xe5De3r<-n\\x9fL\\xd2R\\xf6'\n",
      "update i: 1\n",
      "derive new challenge xi <- H(h_state||4||1) : 0xc2699f897fff266d98801881da3468244cf53838795df1ef\n",
      "deriving new polynomial of length [2]\n",
      "evaluated values generated by 1 stage of ibtfy  [64]\n",
      "['0x252d0f44fe58c298a099933e3b689288462b8be429f6914e', '0x2c8b716101a45b01c299f13953b9322e75ff6b05cc8156ea', '0x665a194919a1e9154f5bfc1aff7b9fe50b760410b50984de', '0x6ffc676ce65d708c2d5b9e1d97aa3f4338a2e4f1507e437a', '0x24fa09d5704bf7365de7b76cae0a6f48c2c590fb8c4c0e0e', '0x2d5c77f08fb76eaf3fe7d56bc6dbcfeef111701a693bc9aa', '0x678d1fd897b2dcbbb225d8486a1962258f981f0f10b31b9e', '0x6e2b61fd684e4522d025ba4f02c8c283bc4cffeef5c4dc3a', '0x18370fa87b414d5d055f6a4ca4705d3f0287d28c507d1f89', '0x1191718d84bdd4c4675f084bcca1fd993153326db50ad82d', '0x5b4019a59cb866d0ea9d0568606350524fda5d78cc820a19', '0x52e667806344ff49889d676f08b2f0f47c0ebd9929f5cdbd', '0x19e00939f55278f3f8214e1e3112a0ff8669c993f5c780c9', '0x1046771c0aaee16a9a212c1959c30059b5bd297210b0476d', '0x5a971f3412ab537e17e3213af501ad92cb34466769389559', '0x53316111ed57cae775e3433d9dd00d34f8e0a6868c4f52fd', '0xe3847b68ef058a2b94c55ada02499614afaba81d4e0aa7a3', '0xea22054d10f913b2f6c538dd6a9836b29c7f48fcab7d6007', '0xa0f36d6508fca1a67b0735fec65a9b79e2f627e9d2f5b233', '0xa9551340f700383f190757f9ae8b3bdfd122c70837827597', '0xe2537df96116bf8569bb7e88972b6bd42b45b302ebb038e3', '0xebf503dc9eea261c0bbb1c8ffffacb72189153e30ec7ff47', '0xa1246bf486ef9408867911ac533866b966183cf6774f2d73', '0xa88215d179130d91e47973ab3be9c61f55ccdc179238ead7', '0xde9e7b846a1c05ee3103a3a89d5159a3eb07f17537812964', '0xd73805a195e09c775303c1aff580f905d8d31194d2f6eec0', '0x9de96d898de52e63dec1cc8c594254cea65a7e81ab7e3cf4', '0x944f13ac7219b7fabcc1ae8b3193f468958e9e604e09fb50', '0xdf497d15e40f3040cc7d87fa0833a4636fe9ea6a923bb624', '0xd6ef03301bf3a9d9ae7de5fd60e204c55c3d0a8b774c7180', '0x9c3e6b1803f61bcd23bfe8decc20a90e22b4659e0ec4a3b4', '0x9598153dfc0a825441bf8ad9a4f109a81160857febb36410', '0x69f001a25c1acb41b266cfc46cb697bd00af02a9639d553a', '0x60567f87a3e652d8d066adc30467371b337be24886ea929e', '0x2a8717afbbe3e0cc5da4a0e0a8a59ad04df28d5dff6240aa', '0x2321698a441f79553fa4c2e7c0743a767e266dbc1a15870e', '0x68270733d209feef4f18eb96f9d46a7d844119b6c627ca7a', '0x618179162df567762d1889919105cadbb795f95723500dde', '0x2b50113e35f0d562a0da84b23dc76710c91c96425ad8dfea', '0x22f66f1bca0c4cfbc2dae6b55516c7b6fac876a3bfaf184e', '0x54ea014ed903448417a036b6f3ae580a44035bc11a16dbfd', '0x5d4c7f6b26ffdd1d75a054b19b7ff8ac77d7bb20ff611c59', '0x179d17433efa6f09f862599237bd5567095ed43586e9ce6d', '0x1e3b6966c106f6909a623b955f6cf5c13a8a34d4639e09c9', '0x553d07df5710712aeade12e466cca5cac0ed40debfac44bd', '0x5c9b79faa8ece8b388de70e30e1d056cf339a03f5adb8319', '0x164a11d2b0e95aa7051c7dc0a2dfa8a78db0cf2a2353512d', '0x1fec6ff74f15c33e671c1fc7ca0e0801be642fcbc6249689', '0xaf59758e4d4783f2863a062055979321e92f2150046163d7', '0xa6ff0babb2bb1a6be43a64273d463387dafbc1b1e116a473', '0xec2e6383aabea87f69f8690491849e4ca472aea4989e7647', '0xe5881da6554231e60bf80b03f9553eea97a64e457de9b1e3', '0xae8e731fc354b65c7b442272c0f56ee16dc13a4fa1dbfc97', '0xa7280d3a3ca82fc519444075a824ce475e15daae44ac3b33', '0xedf9651224ad9dd194864d5604e6638c209cb5bb3d24e907', '0xe45f1b37db510448f6862f516c37c32a1348555ad8532ea3', '0x92437562c85e0c3723fcff52ca8f5c96ad8378387deaed10', '0x9be50b4737a295ae41fc9d55a25efc309e5798d9989d2ab4', '0xd134636f2fa727bacc3e90760e9c51fbe0def7cce115f880', '0xd8921d4ad05bbe23ae3ef271664df15dd30a172d04623f24', '0x939473f3464d3999de82db005feda156296d6327d8507250', '0x9a320dd6b9b1a000bc82b907373c01f01ab983c63d27b5f4', '0xd0e365fea1b412143140b4249bfeac3b6430ecd344af67c0', '0xd9451bdb5e488b8d5340d623f32f0c9d57e40c32a1d8a064']\n",
      "commit deg 1 poly: 0x252d0f44fe58c298a099933e3b689288462b8be429f6914e + x* 0x2c8b716101a45b01c299f13953b9322e75ff6b05cc8156ea\n",
      "update h_state <- H( xi || c0 || c1 ): b'\\xc9\\xa37v\\xb4N>\\x9c8Z\\x15K\\xb0#\\xd6\\x85+\\xda\\x9c\\xa4}\\xbd\\x10\\x8dK\\x8f\\xfd,\\x98\\xfb\\x9by'\n",
      "\n",
      "### query phase ###\n",
      "Queries: [26], [23, 14, 9, 24, 18, 39, 26, 46, 48, 9, 3, 63, 7, 44, 57, 17, 60, 42, 38, 5, 31, 18, 2, 49, 33, 34]\n",
      "open iteration: 0\n",
      "proof len:[3] : auth path len:8\n"
     ]
    }
   ],
   "source": [
    "def _dummy( *params ) : return None\n",
    "\n",
    "def ldt_gen_proof( f0 , h_state , verbose = 1 ):\n",
    "    if 1 == verbose : dump = print\n",
    "    else : dump = _dummy\n",
    "\n",
    "    poly_len = len(f0)\n",
    "    assert 0==(poly_len&(poly_len-1)) , 'poly_len is not a power of 2'\n",
    "    offset = 1<<63\n",
    "\n",
    "    proof = []\n",
    "    rt = []\n",
    "\n",
    "    dump( f\"original poly {f0}\")\n",
    "    dump( \"\\n### commit phase ###\" )\n",
    "    vi = _gf_fft( f0 , 32 , offset )\n",
    "    dump( f\"Assume the evaluate on [{hex(offset)},|{poly_len}|x32) has been committed ?\" )\n",
    "    dump( f\"do a redundent commit here for checking correctness\" )\n",
    "    gf_size = gf.GF_EXT * 8\n",
    "    i = 0\n",
    "    xi = int.from_bytes( H.gen( h_state , bytes([3+i,1]) )[:gf_size] , byteorder='little' )\n",
    "    dump( f\"derive x0 <- H( h_state || 3 || 1 ): {hex(xi)}\" )\n",
    "    while( 2 < poly_len ):\n",
    "        dump( f\"iteration {i}: [{poly_len}] -> [{poly_len//2}]:\" )\n",
    "        mesg = [ vi[i].to_bytes(gf_size,'little')+vi[i+1].to_bytes(gf_size,'little') for i in range(0,len(vi),2) ]\n",
    "        rti , ri , mti = mt.commit( mesg )\n",
    "        rt.append( (rti,mesg,ri,mti) )\n",
    "        proof.append( rti )\n",
    "        dump( f\"commit evaluated valuse. --> proof: [{len(rt)}]   #mesg: {len(mesg)}\" )\n",
    "\n",
    "        h_state = H.gen( h_state , xi.to_bytes(gf_size,byteorder='little') )\n",
    "        dump( f\"update h_state <- H( h_state|| xi ): {h_state}\" )\n",
    "\n",
    "        i = i+1\n",
    "        dump( f\"update i: {i}\" )\n",
    "        xi = int.from_bytes( H.gen( h_state , bytes([3+i,1]) )[:gf_size] , byteorder='little' )\n",
    "        dump( f\"derive new challenge xi <- H(h_state||{3+i}||1) : {hex(xi)}\" )\n",
    "\n",
    "        dump( f\"deriving new polynomial of length [{poly_len//2}]\" )\n",
    "        vi = _ibtfy_1( vi , offset )\n",
    "        vi_e = vi[::2]\n",
    "        vi_o = vi[1::2]\n",
    "        vi = [ vi_e[i]^gf.mul(vi_o[i],xi) for i in range(len(vi_e)) ]\n",
    "        dump( f\"evaluated values generated by 1 stage of ibtfy  [{len(vi)}]\" )\n",
    "        offset = offset >> 1\n",
    "        poly_len = poly_len//2\n",
    "    _ibtfy_1( vi , offset )\n",
    "    dump( [hex(i) for i in vi ] )\n",
    "    dump( f\"commit deg 1 poly: {hex(vi[0])} + x* {hex(vi[1])}\" )\n",
    "    c0, c1 = vi[0].to_bytes(gf_size,'little') , vi[1].to_bytes(gf_size,'little')\n",
    "    proof.append( (c0,c1) )\n",
    "    h_state = H.gen( xi.to_bytes(gf_size,byteorder='little') , c0 , c1 )\n",
    "    dump( f\"update h_state <- H( xi || c0 || c1 ): {h_state}\" )\n",
    "\n",
    "    dump( \"\\n### query phase ###\" )\n",
    "    Nq = 26\n",
    "    queries = [ H.gen(h_state,bytes( [ 3+i+1 , j ] )) for j in range(1,Nq+1) ]\n",
    "    idx_mask = (len(f0)*32//2)-1\n",
    "    queries = [ int.from_bytes(e)&idx_mask for e in queries ]\n",
    "    dump( f\"Queries: [{len(queries)}], {queries}\" )\n",
    "\n",
    "    j = 0\n",
    "    for rti,mesg,ri,mti in rt :\n",
    "        dump( f\"open iteration: {j}\" )\n",
    "        proof.append( [ mt.open(mesg,queries[i],ri,mti) for i in range(Nq) ] )\n",
    "        dump( f\"proof len:[{len(proof)}] : auth path len:{len(proof[-1][0])}\" )\n",
    "        queries = [ q//2 for q in queries ]\n",
    "        j = j+1\n",
    "    return proof\n",
    "\n",
    "\n",
    "###########  test   #############\n",
    "\n",
    "proof = ldt_gen_proof( [1,2,3,4] , b'123' )\n"
   ]
  },
  {
   "cell_type": "code",
   "execution_count": null,
   "metadata": {},
   "outputs": [],
   "source": []
  }
 ],
 "metadata": {
  "kernelspec": {
   "display_name": "venv",
   "language": "python",
   "name": "python3"
  },
  "language_info": {
   "codemirror_mode": {
    "name": "ipython",
    "version": 3
   },
   "file_extension": ".py",
   "mimetype": "text/x-python",
   "name": "python",
   "nbconvert_exporter": "python",
   "pygments_lexer": "ipython3",
   "version": "3.11.3"
  },
  "orig_nbformat": 4
 },
 "nbformat": 4,
 "nbformat_minor": 2
}
