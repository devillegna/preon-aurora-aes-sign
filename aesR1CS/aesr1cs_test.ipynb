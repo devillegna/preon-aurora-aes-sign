{
 "cells": [
  {
   "cell_type": "code",
   "execution_count": 2,
   "metadata": {},
   "outputs": [],
   "source": [
    "import sys\n",
    "sys.path.insert(0, '../' )"
   ]
  },
  {
   "cell_type": "code",
   "execution_count": 3,
   "metadata": {},
   "outputs": [],
   "source": [
    "from libgf264fft import clib_wrapper as cl"
   ]
  },
  {
   "cell_type": "code",
   "execution_count": 4,
   "metadata": {},
   "outputs": [
    {
     "data": {
      "text/plain": [
       "1"
      ]
     },
     "execution_count": 4,
     "metadata": {},
     "output_type": "execute_result"
    }
   ],
   "source": [
    "cl.gf264_mul( cl.index_to_gf264(1) , cl.index_to_gf264(1) )"
   ]
  },
  {
   "cell_type": "code",
   "execution_count": 5,
   "metadata": {},
   "outputs": [],
   "source": [
    "import random\n",
    "\n",
    "def _rand_bytes(l) :\n",
    "  return bytes( [random.randrange(256) for i in range(l)] )\n"
   ]
  },
  {
   "cell_type": "code",
   "execution_count": 13,
   "metadata": {},
   "outputs": [
    {
     "name": "stdout",
     "output_type": "stream",
     "text": [
      "b'\\x00\\x01\\x02\\x03\\x04\\x05\\x06\\x07\\x08\\t\\n\\x0b\\x0c\\r\\x0e\\x0f'\n",
      "b'\\x00\\x11\"3DUfw\\x88\\x99\\xaa\\xbb\\xcc\\xdd\\xee\\xff'\n",
      "b'_rd\\x15W\\xf5\\xbc\\x92\\xf7\\xbe;)\\x1d\\xb9\\xf9\\x1a\\xff\\x87\\x96\\x841\\xd8jQdQQ\\xfaw:\\xd0\\tL\\x9c\\x1ef\\xf7q\\xf0v,?\\x86\\x8eSM\\xf2Vc\\x85\\xb7\\x9f\\xfcS\\x8d\\xf9\\x97\\xbeG\\x8euG\\xd6\\x91\\xf4\\xbc\\xd4T2\\xe5T\\xd0u\\xf1\\xd6\\xc5\\x1d\\xd0;<\\x98\\x16\\xeet\\x00\\xf8\\x7fUk,\\x04\\x9c\\x8eZ\\xd06\\xc5~\\x1c\\x15\\x9a\\x9b\\xd2\\x86\\xf0_K\\xe0\\x98\\xc649\\xba\\xa0=\\xe7\\xa1\\xf9\\xb5n\\xd5Q,\\xba_AM#\\xe9\\xf7N\\xec\\x020 \\xf6\\x1b\\xf2\\xcc\\xf25<!\\xc7' b'\\x00\\x01\\x02\\x03\\x04\\x05\\x06\\x07\\x08\\t\\n\\x0b\\x0c\\r\\x0e\\x0f\\xd6\\xaat\\xfd\\xd2\\xafr\\xfa\\xda\\xa6x\\xf1\\xd6\\xabv\\xfe\\xb6\\x92\\xcf\\x0bd=\\xbd\\xf1\\xbe\\x9b\\xc5\\x00h0\\xb3\\xfe\\xb6\\xfftN\\xd2\\xc2\\xc9\\xbflY\\x0c\\xbf\\x04i\\xbfAG\\xf7\\xf7\\xbc\\x955>\\x03\\xf9l2\\xbc\\xfd\\x05\\x8d\\xfd<\\xaa\\xa3\\xe8\\xa9\\x9f\\x9d\\xebP\\xf3\\xafW\\xad\\xf6\"\\xaa^9\\x0f}\\xf7\\xa6\\x92\\x96\\xa7U=\\xc1\\n\\xa3\\x1fk\\x14\\xf9p\\x1a\\xe3_\\xe2\\x8cD\\n\\xdfMN\\xa9\\xc0&GC\\x875\\xa4\\x1ce\\xb9\\xe0\\x16\\xba\\xf4\\xae\\xbfz\\xd2T\\x992\\xd1\\xf0\\x85Wh\\x10\\x93\\xed\\x9c\\xbe,\\x97N\\x13\\x11\\x1d\\x7f\\xe3\\x94J\\x17\\xf3\\x07\\xa7\\x8bM+0\\xc5' b'\\xd6\\xabv\\xfe`8\\xbb\\xf6\\x00m\\xbbE\\xf1\\x08\\x83\\xf2{]TTb\\x93\\xac\\x95J\\xc0\\x7fgS\\xba\\xf7/\\x13\\xda\\xb5\\xe4G\\x88/\\xae'\n",
      "ct0 b'i\\xc4\\xe0\\xd8j{\\x040\\xd8\\xcd\\xb7\\x80p\\xb4\\xc5Z'\n",
      "ct2 b'i\\xc4\\xe0\\xd8j{\\x040\\xd8\\xcd\\xb7\\x80p\\xb4\\xc5Z'\n"
     ]
    }
   ],
   "source": [
    "from aes128 import aes128_encrypt\n",
    "\n",
    "#pt = _rand_bytes(16)\n",
    "#sk = _rand_bytes(16)\n",
    "pt = bytes( [i*16+i for i in range(16)] )\n",
    "sk = bytes( [i for i in range(16)] )\n",
    "\n",
    "ct, rd_states , rk , rk_tmp = aes128_encrypt( pt , sk )\n",
    "\n",
    "print( sk )\n",
    "print( pt )\n",
    "print( rd_states , rk , rk_tmp  )\n",
    "print( \"ct0\", ct )\n",
    "\n",
    "\n",
    "from Crypto.Cipher import AES\n",
    "ct2 = AES.new( sk , AES.MODE_ECB ).encrypt( pt )\n",
    "print( \"ct2\" , ct2 )\n"
   ]
  },
  {
   "cell_type": "code",
   "execution_count": 8,
   "metadata": {},
   "outputs": [],
   "source": [
    "from r1cs import *\n",
    "\n",
    "################  test   #####################################\n",
    "\n",
    "\n",
    "r1cs = get_r1cs(4096, 4096, 64, 128)"
   ]
  },
  {
   "cell_type": "code",
   "execution_count": 10,
   "metadata": {},
   "outputs": [
    {
     "name": "stdout",
     "output_type": "stream",
     "text": [
      "mat_a 4096 4096\n",
      "1,2,3,4,5,6,7,8,9,10,11,12,13,14,15,16,33,34,35,36,37,38,39,40,41,42,43,44,45,46,47,48,49,50,51,52,53,54,55,56,57,58,59,60,61,62,63,\n",
      "zero_cols: 47\n",
      "mat_b 4096 4096\n",
      "1,2,3,4,5,6,7,8,9,10,11,12,13,14,15,16,17,18,19,20,21,22,23,24,25,26,27,28,29,30,31,32,33,34,35,36,37,38,39,40,41,42,43,44,45,46,47,48,49,50,51,52,53,54,55,56,57,58,59,60,61,62,63,\n",
      "zero_cols: 63\n",
      "mat_c 4096 4096\n",
      "17,18,19,20,21,22,23,24,25,26,27,28,29,30,31,32,33,34,35,36,37,38,39,40,41,42,43,44,45,46,47,48,49,50,51,52,53,54,55,56,57,58,59,60,61,62,63,\n",
      "zero_cols: 47\n"
     ]
    }
   ],
   "source": [
    "mat_a = r1cs['A']\n",
    "mat_b = r1cs['B']\n",
    "mat_c = r1cs['C']\n",
    "\n",
    "def is_vec_zero( vec ):\n",
    "    r = 0\n",
    "    for e in vec : r |= e\n",
    "    return 0 == r\n",
    "\n",
    "def is_colvec_zero( mat , col_idx ):\n",
    "    r = 0\n",
    "    for i in range(len(mat)):\n",
    "        r |= mat[i][col_idx]\n",
    "    return 0 == r\n",
    "\n",
    "\n",
    "\n",
    "mat = mat_a\n",
    "print( 'mat_a' , len( mat ) , len(mat[0]) )\n",
    "zero_cols = 0\n",
    "for i in range(64):\n",
    "    if is_colvec_zero( mat , i ) :\n",
    "        print( f'{i},' , end = '' )\n",
    "        zero_cols += 1\n",
    "print()\n",
    "print('zero_cols:', zero_cols)\n",
    "\n",
    "mat = mat_b\n",
    "print( 'mat_b' , len( mat ) , len(mat[0]) )\n",
    "zero_cols = 0\n",
    "for i in range(64):\n",
    "    if is_colvec_zero( mat , i ) :\n",
    "        print( f'{i},' , end = '' )\n",
    "        zero_cols += 1\n",
    "print()\n",
    "print('zero_cols:', zero_cols)\n",
    "\n",
    "mat = mat_c\n",
    "print( 'mat_c' , len( mat ) , len(mat[0]) )\n",
    "zero_cols = 0\n",
    "for i in range(64):\n",
    "    if is_colvec_zero( mat , i ) :\n",
    "        print( f'{i},' , end = '' )\n",
    "        zero_cols += 1\n",
    "print()\n",
    "print('zero_cols[/64]:', zero_cols)"
   ]
  },
  {
   "cell_type": "code",
   "execution_count": 25,
   "metadata": {},
   "outputs": [],
   "source": [
    "\n",
    "import aes128R1CS_z\n",
    "\n",
    "import importlib\n",
    "importlib.reload( aes128R1CS_z )\n",
    "\n",
    "z = aes128R1CS_z.get_vec_z(pt,sk,64)\n"
   ]
  },
  {
   "cell_type": "code",
   "execution_count": 26,
   "metadata": {},
   "outputs": [],
   "source": [
    "def mat_x_vec( mat , vec , n_col=-1) :\n",
    "    if 0 > n_col : n_col = len(mat)\n",
    "    r = [0]*n_col\n",
    "    for i in range(n_col):\n",
    "        ri = 0\n",
    "        for j in range(len(vec)):\n",
    "            ri ^= cl.gf264_mul( mat[i][j] , vec[j] )\n",
    "        r[i] = ri\n",
    "    return r\n",
    "\n",
    "#########  test  ############\n",
    "\n",
    "Az = mat_x_vec( mat_a , z )\n",
    "Bz = mat_x_vec( mat_b , z )\n",
    "Cz = mat_x_vec( mat_c , z )"
   ]
  },
  {
   "cell_type": "code",
   "execution_count": 27,
   "metadata": {},
   "outputs": [],
   "source": [
    "for i in range(4096):\n",
    "    ci = cl.gf264_mul( Az[i] , Bz[i] ) ^ Cz[i]\n",
    "    if ci :\n",
    "        print( f\"{i}: fails.  Az[{i}]:{hex(Az[i])} x Bz[{i}]:{hex(Bz[i])} ^ Cz[{i}]:{hex(Cz[i])} = {hex(ci)}\" )\n",
    "        break\n"
   ]
  },
  {
   "cell_type": "code",
   "execution_count": null,
   "metadata": {},
   "outputs": [],
   "source": []
  }
 ],
 "metadata": {
  "kernelspec": {
   "display_name": "venv",
   "language": "python",
   "name": "python3"
  },
  "language_info": {
   "codemirror_mode": {
    "name": "ipython",
    "version": 3
   },
   "file_extension": ".py",
   "mimetype": "text/x-python",
   "name": "python",
   "nbconvert_exporter": "python",
   "pygments_lexer": "ipython3",
   "version": "3.11.3"
  },
  "orig_nbformat": 4
 },
 "nbformat": 4,
 "nbformat_minor": 2
}
