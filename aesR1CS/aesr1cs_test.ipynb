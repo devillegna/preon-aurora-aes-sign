{
 "cells": [
  {
   "cell_type": "code",
   "execution_count": 1,
   "metadata": {},
   "outputs": [],
   "source": [
    "import sys\n",
    "sys.path.insert(0, '../' )"
   ]
  },
  {
   "cell_type": "code",
   "execution_count": 2,
   "metadata": {},
   "outputs": [
    {
     "data": {
      "text/plain": [
       "1"
      ]
     },
     "execution_count": 2,
     "metadata": {},
     "output_type": "execute_result"
    }
   ],
   "source": [
    "from libgf264fft import clib_wrapper as cl\n",
    "\n",
    "cl.gf264_mul( cl.index_to_gf264(1) , cl.index_to_gf264(1) )"
   ]
  },
  {
   "cell_type": "code",
   "execution_count": 3,
   "metadata": {},
   "outputs": [
    {
     "data": {
      "text/plain": [
       "b'\\xb5\\x1f\\xac\\x88\\xdd\\xb4\\xdb\\x1f\\x82U\\xf4\\xb9\\xcf\\x05\\x15\\xf2'"
      ]
     },
     "execution_count": 3,
     "metadata": {},
     "output_type": "execute_result"
    }
   ],
   "source": [
    "from utils import randombytes as rd\n",
    "\n",
    "rd.randombytes(16)\n"
   ]
  },
  {
   "cell_type": "code",
   "execution_count": 4,
   "metadata": {},
   "outputs": [
    {
     "name": "stdout",
     "output_type": "stream",
     "text": [
      "b'\\x00\\x01\\x02\\x03\\x04\\x05\\x06\\x07\\x08\\t\\n\\x0b\\x0c\\r\\x0e\\x0f'\n",
      "b'\\x00\\x11\"3DUfw\\x88\\x99\\xaa\\xbb\\xcc\\xdd\\xee\\xff'\n",
      "b'_rd\\x15W\\xf5\\xbc\\x92\\xf7\\xbe;)\\x1d\\xb9\\xf9\\x1a\\xff\\x87\\x96\\x841\\xd8jQdQQ\\xfaw:\\xd0\\tL\\x9c\\x1ef\\xf7q\\xf0v,?\\x86\\x8eSM\\xf2Vc\\x85\\xb7\\x9f\\xfcS\\x8d\\xf9\\x97\\xbeG\\x8euG\\xd6\\x91\\xf4\\xbc\\xd4T2\\xe5T\\xd0u\\xf1\\xd6\\xc5\\x1d\\xd0;<\\x98\\x16\\xeet\\x00\\xf8\\x7fUk,\\x04\\x9c\\x8eZ\\xd06\\xc5~\\x1c\\x15\\x9a\\x9b\\xd2\\x86\\xf0_K\\xe0\\x98\\xc649\\xba\\xa0=\\xe7\\xa1\\xf9\\xb5n\\xd5Q,\\xba_AM#\\xe9\\xf7N\\xec\\x020 \\xf6\\x1b\\xf2\\xcc\\xf25<!\\xc7' b'\\x00\\x01\\x02\\x03\\x04\\x05\\x06\\x07\\x08\\t\\n\\x0b\\x0c\\r\\x0e\\x0f\\xd6\\xaat\\xfd\\xd2\\xafr\\xfa\\xda\\xa6x\\xf1\\xd6\\xabv\\xfe\\xb6\\x92\\xcf\\x0bd=\\xbd\\xf1\\xbe\\x9b\\xc5\\x00h0\\xb3\\xfe\\xb6\\xfftN\\xd2\\xc2\\xc9\\xbflY\\x0c\\xbf\\x04i\\xbfAG\\xf7\\xf7\\xbc\\x955>\\x03\\xf9l2\\xbc\\xfd\\x05\\x8d\\xfd<\\xaa\\xa3\\xe8\\xa9\\x9f\\x9d\\xebP\\xf3\\xafW\\xad\\xf6\"\\xaa^9\\x0f}\\xf7\\xa6\\x92\\x96\\xa7U=\\xc1\\n\\xa3\\x1fk\\x14\\xf9p\\x1a\\xe3_\\xe2\\x8cD\\n\\xdfMN\\xa9\\xc0&GC\\x875\\xa4\\x1ce\\xb9\\xe0\\x16\\xba\\xf4\\xae\\xbfz\\xd2T\\x992\\xd1\\xf0\\x85Wh\\x10\\x93\\xed\\x9c\\xbe,\\x97N\\x13\\x11\\x1d\\x7f\\xe3\\x94J\\x17\\xf3\\x07\\xa7\\x8bM+0\\xc5' b'\\xd6\\xabv\\xfe`8\\xbb\\xf6\\x00m\\xbbE\\xf1\\x08\\x83\\xf2{]TTb\\x93\\xac\\x95J\\xc0\\x7fgS\\xba\\xf7/\\x13\\xda\\xb5\\xe4G\\x88/\\xae'\n",
      "ct0 b'i\\xc4\\xe0\\xd8j{\\x040\\xd8\\xcd\\xb7\\x80p\\xb4\\xc5Z'\n",
      "ct2 b'i\\xc4\\xe0\\xd8j{\\x040\\xd8\\xcd\\xb7\\x80p\\xb4\\xc5Z'\n"
     ]
    }
   ],
   "source": [
    "from aes128 import aes128_encrypt\n",
    "\n",
    "#pt = _rand_bytes(16)\n",
    "#sk = _rand_bytes(16)\n",
    "pt = bytes( [i*16+i for i in range(16)] )\n",
    "sk = bytes( [i for i in range(16)] )\n",
    "\n",
    "ct, rd_states , rk , rk_tmp = aes128_encrypt( pt , sk )\n",
    "\n",
    "print( sk )\n",
    "print( pt )\n",
    "print( rd_states , rk , rk_tmp  )\n",
    "print( \"ct0\", ct )\n",
    "\n",
    "\n",
    "from Crypto.Cipher import AES\n",
    "ct2 = AES.new( sk , AES.MODE_ECB ).encrypt( pt )\n",
    "print( \"ct2\" , ct2 )\n"
   ]
  },
  {
   "cell_type": "code",
   "execution_count": 5,
   "metadata": {},
   "outputs": [
    {
     "name": "stdout",
     "output_type": "stream",
     "text": [
      "3656 3320\n"
     ]
    }
   ],
   "source": [
    "\n",
    "import aes128R1CS_z as R1CSz\n",
    "\n",
    "#import importlib\n",
    "#importlib.reload( aes128R1CS )\n",
    "\n",
    "z = R1CSz.get_vec_z(pt,sk,64)\n",
    "\n",
    "print( R1CSz.aes128R1CS_num_constrains , len(z) )\n"
   ]
  },
  {
   "cell_type": "code",
   "execution_count": 6,
   "metadata": {},
   "outputs": [],
   "source": [
    "from aes128R1CS import get_aes128r1cs\n",
    "\n",
    "################  test   #####################################\n",
    "\n",
    "\n",
    "mat_a , mat_b , mat_c = get_aes128r1cs( R1CSz.aes128R1CS_num_constrains , len(z) , 64, 128)"
   ]
  },
  {
   "cell_type": "code",
   "execution_count": 7,
   "metadata": {},
   "outputs": [
    {
     "name": "stdout",
     "output_type": "stream",
     "text": [
      "mat_a: 3320x3656\n",
      "mat_b: 3320x3656\n",
      "mat_c: 3320x3656\n"
     ]
    }
   ],
   "source": [
    "print( f\"mat_a: {mat_a.n_cols}x{mat_a.n_rows}\" )\n",
    "print( f\"mat_b: {mat_b.n_cols}x{mat_b.n_rows}\" )\n",
    "print( f\"mat_c: {mat_c.n_cols}x{mat_c.n_rows}\" )"
   ]
  },
  {
   "cell_type": "code",
   "execution_count": 8,
   "metadata": {},
   "outputs": [],
   "source": [
    "def mat_x_vec( mat , vec ) :\n",
    "    r = [0]*mat.n_rows\n",
    "    for i,e in enumerate(vec):\n",
    "        if 0 == len(mat.col[i]) : continue\n",
    "        for idx,term in mat.col[i] :\n",
    "            r[idx] ^= e if 1==term else cl.gf264_mul( term , e )\n",
    "    return r\n",
    "\n",
    "#########  test  ############\n",
    "\n",
    "Az = mat_x_vec( mat_a , z )\n",
    "Bz = mat_x_vec( mat_b , z )\n",
    "Cz = mat_x_vec( mat_c , z )"
   ]
  },
  {
   "cell_type": "code",
   "execution_count": 9,
   "metadata": {},
   "outputs": [],
   "source": [
    "for i in range(R1CSz.aes128R1CS_num_constrains):\n",
    "    ci = cl.gf264_mul( Az[i] , Bz[i] ) ^ Cz[i]\n",
    "    if ci :\n",
    "        print( f\"{i}: fails.  Az[{i}]:{hex(Az[i])} x Bz[{i}]:{hex(Bz[i])} ^ Cz[{i}]:{hex(Cz[i])} = {hex(ci)}\" )\n",
    "        break\n"
   ]
  },
  {
   "cell_type": "code",
   "execution_count": null,
   "metadata": {},
   "outputs": [],
   "source": []
  }
 ],
 "metadata": {
  "kernelspec": {
   "display_name": "venv",
   "language": "python",
   "name": "python3"
  },
  "language_info": {
   "codemirror_mode": {
    "name": "ipython",
    "version": 3
   },
   "file_extension": ".py",
   "mimetype": "text/x-python",
   "name": "python",
   "nbconvert_exporter": "python",
   "pygments_lexer": "ipython3",
   "version": "3.11.4"
  },
  "orig_nbformat": 4
 },
 "nbformat": 4,
 "nbformat_minor": 2
}
