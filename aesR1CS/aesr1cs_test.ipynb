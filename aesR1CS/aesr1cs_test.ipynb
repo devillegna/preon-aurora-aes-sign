{
 "cells": [
  {
   "cell_type": "code",
   "execution_count": 4,
   "metadata": {},
   "outputs": [],
   "source": [
    "import sys\n",
    "sys.path.insert(0, '../' )"
   ]
  },
  {
   "cell_type": "code",
   "execution_count": 5,
   "metadata": {},
   "outputs": [],
   "source": [
    "from libgf264fft import clib_wrapper as cl"
   ]
  },
  {
   "cell_type": "code",
   "execution_count": 8,
   "metadata": {},
   "outputs": [
    {
     "data": {
      "text/plain": [
       "1"
      ]
     },
     "execution_count": 8,
     "metadata": {},
     "output_type": "execute_result"
    }
   ],
   "source": [
    "cl.gf264_mul( cl.index_to_gf264(1) , cl.index_to_gf264(1) )"
   ]
  },
  {
   "cell_type": "code",
   "execution_count": 30,
   "metadata": {},
   "outputs": [],
   "source": [
    "import random\n",
    "\n",
    "def _rand_bytes(l) :\n",
    "  return bytes( [random.randrange(256) for i in range(l)] )\n"
   ]
  },
  {
   "cell_type": "code",
   "execution_count": 48,
   "metadata": {},
   "outputs": [
    {
     "name": "stdout",
     "output_type": "stream",
     "text": [
      "b'\\xb9\\xe1\\xdai\\r\\x9b\\xd79hov#\\xb9\\x03\\x8fg'\n",
      "b'Q\\x8eYi\\xb2\\xcae\\x83\\x14\\xff\\xf2]\\xd7\\x9c{\\x88'\n",
      "b'\\xc5\\x1c\\x8e\\x9dlq\\xa8\\x01Nf\\x0f\\xf4\\x02~W\\xd8\\x18LY\\xc7\\x1c\\xc4\\xe2\\xae<Y\\x1c\\xb6\\xf1j\\x8a%\\xb1\\xd4\\x04\\xcdX\\x18\\xf9\\x98\\x14\\xb7\\x8c!\\x02\\xe7-\\x86\\x9cnG:\\xdbO_c4c\\r~V\\xad\\x16\\xebc6@\\xa9ly1\\x87JM\\xa0m\\xa1\\x9f\\x89\\xfe|\\t5\\xe6Dr<\\x0c\\x88\\x7f@r\\x03\\xfc{\\xc7\\xde\\x8c,[\\xaf\\xed|\\xea}U*\\xc0\\xf9dkW\\xe7d\\x9e+\\x13\\x83r\\x99\\xbfE\\xb78\\x10\\x90\\xdf\\x8f\\x9fpG\\xceF\\xde\\xf5\\x87i\\x197\\xb1\\x10_\\x1eQ' b\"\\xb9\\xe1\\xdai\\r\\x9b\\xd79hov#\\xb9\\x03\\x8fg\\xc3\\x92_?\\xce\\t\\x88\\x06\\xa6f\\xfe%\\x1feqB\\x8c1s\\xffB8\\xfb\\xf9\\xe4^\\x05\\xdc\\xfb;t\\x9ej\\xa3x\\xf0(\\x9b\\x83\\t\\xcc\\xc5\\x86\\xd57\\xfe\\xf2K\\xd9*\\xcbj\\xf1\\xb1Hc=t\\xce\\xb6\\n\\x8a<\\xfd\\xb7\\xc1\\x9f\\rFp\\xd7n{\\x04\\x19\\xd8q\\x8e%%\\x8e\\xfe\\xa0\\xae\\xc8\\x8ew\\xc0\\xb3\\x8an\\x18\\xc2\\x04K=<M\\x87\\x8b\\xf4\\xc3\\xf0KGI\\x9eS\\x85M\\xd5n_N\\x18\\x1c\\xab\\x8d\\xe8W\\xec\\xc4v\\x04i\\x89\\xa3j\\xe3D\\x1a\\xe5H\\xc9\\xf2\\xb2\\xa4\\r\\x84\\xb6\\xcd\\x84'\\xdc\\x8a\\x88\\x9cX\\xc2An\\xeafL\\xea\\\\\\xab\\xc8\\xcd\\x80\" b\"zs\\x85VO\\xa3,\\xc0\\xe6\\x92\\x0b\\x0f\\xb3\\x89\\xb3\\x9an\\xebTg9??\\xa3\\xb2\\xb3'%c\\x03\\x9f\\x97\\xbc\\n\\x02\\xf9i\\xcc\\x86\\xbd\"\n",
      "ct0 b'\\x9ax\\xf1\\x05i\\xbb|\\x1b\\xdb\\xf5\\xa6\\xcaj\\xd0\\x08E'\n",
      "ct2 b'\\x9ax\\xf1\\x05i\\xbb|\\x1b\\xdb\\xf5\\xa6\\xcaj\\xd0\\x08E'\n"
     ]
    }
   ],
   "source": [
    "from aes128 import aes128_encrypt\n",
    "\n",
    "pt = _rand_bytes(16)\n",
    "sk = _rand_bytes(16)\n",
    "\n",
    "ct, rd_states , rk , rk_tmp = aes128_encrypt( pt , sk )\n",
    "\n",
    "print( sk )\n",
    "print( pt )\n",
    "print( rd_states , rk , rk_tmp  )\n",
    "print( \"ct0\", ct )\n",
    "\n",
    "\n",
    "from Crypto.Cipher import AES\n",
    "ct2 = AES.new( sk , AES.MODE_ECB ).encrypt( pt )\n",
    "print( \"ct2\" , ct2 )\n"
   ]
  },
  {
   "cell_type": "code",
   "execution_count": 28,
   "metadata": {},
   "outputs": [],
   "source": [
    "from r1cs import *\n",
    "\n",
    "################  test   #####################################\n",
    "\n",
    "\n",
    "r1cs = get_r1cs(4096, 4096, 64, 128)"
   ]
  },
  {
   "cell_type": "code",
   "execution_count": null,
   "metadata": {},
   "outputs": [],
   "source": [
    "\n",
    "\n"
   ]
  },
  {
   "cell_type": "code",
   "execution_count": 29,
   "metadata": {},
   "outputs": [
    {
     "name": "stdout",
     "output_type": "stream",
     "text": [
      "mat_a 4096 4096\n",
      "1,2,3,4,5,6,7,8,9,10,11,12,13,14,15,16,33,34,35,36,37,38,39,40,41,42,43,44,45,46,47,48,49,50,51,52,53,54,55,56,57,58,59,60,61,62,63,\n",
      "zero_cols: 47\n"
     ]
    }
   ],
   "source": [
    "mat_a = r1cs['A']\n",
    "mat_b = r1cs['B']\n",
    "mat_c = r1cs['C']\n",
    "\n",
    "def is_vec_zero( vec ):\n",
    "    r = 0\n",
    "    for e in vec : r |= e\n",
    "    return 0 == r\n",
    "\n",
    "def is_colvec_zero( mat , col_idx ):\n",
    "    r = 0\n",
    "    for i in range(len(mat)):\n",
    "        r |= mat[i][col_idx]\n",
    "    return 0 == r\n",
    "\n",
    "\n",
    "print( 'mat_a' , len( mat_a ) , len(mat_a[0]) )\n",
    "zero_cols = 0\n",
    "for i in range(64):\n",
    "    if is_colvec_zero( mat_a , i ) :\n",
    "        print( f'{i},' , end = '' )\n",
    "        zero_cols += 1\n",
    "print()\n",
    "print('zero_cols:', zero_cols)"
   ]
  },
  {
   "cell_type": "code",
   "execution_count": 49,
   "metadata": {},
   "outputs": [
    {
     "data": {
      "text/plain": [
       "255"
      ]
     },
     "execution_count": 49,
     "metadata": {},
     "output_type": "execute_result"
    }
   ],
   "source": [
    "g_tab = [ 0x1, 0x8d, 0xf6, 0xcb, 0x52, 0x7b, 0xd1, 0xe8, 0x4f, 0x29, 0xc0, 0xb0, 0xe1, 0xe5, 0xc7, 0x74, 0xb4, 0xaa, 0x4b, 0x99, 0x2b, 0x60, 0x5f, 0x58, 0x3f, 0xfd, 0xcc, 0xff, 0x40, 0xee, 0xb2, 0x3a, 0x6e, 0x5a, 0xf1, 0x55, 0x4d, 0xa8, 0xc9, 0xc1, 0xa, 0x98, 0x15, 0x30, 0x44, 0xa2, 0xc2, 0x2c, 0x45, 0x92, 0x6c, 0xf3, 0x39, 0x66, 0x42, 0xf2, 0x35, 0x20, 0x6f, 0x77, 0xbb, 0x59, 0x19, 0x1d, 0xfe, 0x37, 0x67, 0x2d, 0x31, 0xf5, 0x69, 0xa7, 0x64, 0xab, 0x13, 0x54, 0x25, 0xe9, 0x9, 0xed, 0x5c, 0x5, 0xca, 0x4c, 0x24, 0x87, 0xbf, 0x18, 0x3e, 0x22, 0xf0, 0x51, 0xec, 0x61, 0x17, 0x16, 0x5e, 0xaf, 0xd3, 0x49, 0xa6, 0x36, 0x43, 0xf4, 0x47, 0x91, 0xdf, 0x33, 0x93, 0x21, 0x3b, 0x79, 0xb7, 0x97, 0x85, 0x10, 0xb5, 0xba, 0x3c, 0xb6, 0x70, 0xd0, 0x6, 0xa1, 0xfa, 0x81, 0x82, 0x83, 0x7e, 0x7f, 0x80, 0x96, 0x73, 0xbe, 0x56, 0x9b, 0x9e, 0x95, 0xd9, 0xf7, 0x2, 0xb9, 0xa4, 0xde, 0x6a, 0x32, 0x6d, 0xd8, 0x8a, 0x84, 0x72, 0x2a, 0x14, 0x9f, 0x88, 0xf9, 0xdc, 0x89, 0x9a, 0xfb, 0x7c, 0x2e, 0xc3, 0x8f, 0xb8, 0x65, 0x48, 0x26, 0xc8, 0x12, 0x4a, 0xce, 0xe7, 0xd2, 0x62, 0xc, 0xe0, 0x1f, 0xef, 0x11, 0x75, 0x78, 0x71, 0xa5, 0x8e, 0x76, 0x3d, 0xbd, 0xbc, 0x86, 0x57, 0xb, 0x28, 0x2f, 0xa3, 0xda, 0xd4, 0xe4, 0xf, 0xa9, 0x27, 0x53, 0x4, 0x1b, 0xfc, 0xac, 0xe6, 0x7a, 0x7, 0xae, 0x63, 0xc5, 0xdb, 0xe2, 0xea, 0x94, 0x8b, 0xc4, 0xd5, 0x9d, 0xf8, 0x90, 0x6b, 0xb1, 0xd, 0xd6, 0xeb, 0xc6, 0xe, 0xcf, 0xad, 0x8, 0x4e, 0xd7, 0xe3, 0x5d, 0x50, 0x1e, 0xb3, 0x5b, 0x23, 0x38, 0x34, 0x68, 0x46, 0x3, 0x8c, 0xdd, 0x9c, 0x7d, 0xa0, 0xcd, 0x1a, 0x41, 0x1c ]\n",
    "\n",
    "len(g_tab)"
   ]
  },
  {
   "cell_type": "code",
   "execution_count": null,
   "metadata": {},
   "outputs": [],
   "source": []
  }
 ],
 "metadata": {
  "kernelspec": {
   "display_name": "venv",
   "language": "python",
   "name": "python3"
  },
  "language_info": {
   "codemirror_mode": {
    "name": "ipython",
    "version": 3
   },
   "file_extension": ".py",
   "mimetype": "text/x-python",
   "name": "python",
   "nbconvert_exporter": "python",
   "pygments_lexer": "ipython3",
   "version": "3.10.6"
  },
  "orig_nbformat": 4
 },
 "nbformat": 4,
 "nbformat_minor": 2
}
