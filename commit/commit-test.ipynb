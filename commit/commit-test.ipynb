{
 "cells": [
  {
   "cell_type": "code",
   "execution_count": 1,
   "metadata": {},
   "outputs": [
    {
     "data": {
      "text/plain": [
       "b\"8'\\xae\\xe0n\\xb2e\\x07\\xa4\\xb9e\\xa3oC[\\xd9\""
      ]
     },
     "execution_count": 1,
     "metadata": {},
     "output_type": "execute_result"
    }
   ],
   "source": [
    "from Crypto.Random import get_random_bytes\n",
    "\n",
    "def randombytes( bsize ) :\n",
    "    return get_random_bytes( bsize )\n",
    "\n",
    "#########  test  ############\n",
    "\n",
    "randombytes(16)"
   ]
  },
  {
   "cell_type": "code",
   "execution_count": 2,
   "metadata": {},
   "outputs": [
    {
     "name": "stdout",
     "output_type": "stream",
     "text": [
      "dig0 b'\\x86\\xb8d\\x86X\\xd1c\\xa4r\\x03\\xc7\\x10\\x1c2~\\xb8CMt\\x1a\\xa4\\xb1K\\x1b?\\xf9\\xc0\\x8b\\xa7#\\xbc\\xd1'\n",
      "dig1 b'd\\xa1H\\xe4\\xffE\\x15\\xd6kq\\x02\\x0b\\x81\\xe2d\\xc0f\\xa6\\xf9\\xd4\\xac\\x0c\\x81\\x9d\\xe2\\xf4O\\x10\\x8f\\xe4\\xe3\\x9c'\n"
     ]
    }
   ],
   "source": [
    "from Crypto.Hash import SHA3_256\n",
    "\n",
    "h0 = SHA3_256.new()\n",
    "h0.update(b'Some data')\n",
    "\n",
    "h1 = h0.copy()\n",
    "dig0 = h0.digest()\n",
    "print( 'dig0', dig0 )\n",
    "\n",
    "h1.update( b'update2' )\n",
    "dig1 = h1.digest()\n",
    "print( 'dig1' , dig1 )\n"
   ]
  },
  {
   "cell_type": "code",
   "execution_count": 12,
   "metadata": {},
   "outputs": [
    {
     "data": {
      "text/plain": [
       "True"
      ]
     },
     "execution_count": 12,
     "metadata": {},
     "output_type": "execute_result"
    }
   ],
   "source": [
    "import merkeltreecommit as MT\n",
    "import importlib\n",
    "importlib.reload(MT)\n",
    "\n",
    "rt, r , mktree = MT.commit( [ b'123' , b'456' , b'789' , b'012' ] )\n",
    "\n",
    "auth_path = MT.open( b'012' , 3 , r , mktree )\n",
    "\n",
    "MT.verify( rt , 3 , auth_path )\n"
   ]
  },
  {
   "cell_type": "code",
   "execution_count": 8,
   "metadata": {},
   "outputs": [
    {
     "data": {
      "text/plain": [
       "[b'456',\n",
       " b'.\\x0e\\xaf\\x1f\\x1e\\xb1\\x06\\xe7\\xed\\xa3\\xa1E\\xd7\\x1d\\xb8\\xf6.HZ?$\\x97:\\x83\\x9b\\x10)\\xf8If#\\x95',\n",
       " b'\\x03!CH\\xaa\\xe8t\\x0f\\x8d\\x93\\xa0W\\xfb\\xa5 `yq\\td\\xe4lc\\xf9U\\x14-KSPv\\xf2',\n",
       " b'\\x9aJh\\xaa\\xeb7m(\\xa7B\\na\\xba\\x15\\x9b S\\xd1\\x8d\\x9cf\\to\\xd1\\x85\\x9e\\xc7{n\\xf0\\x1d\\xf7']"
      ]
     },
     "execution_count": 8,
     "metadata": {},
     "output_type": "execute_result"
    }
   ],
   "source": [
    "auth_path"
   ]
  },
  {
   "cell_type": "code",
   "execution_count": 10,
   "metadata": {},
   "outputs": [
    {
     "data": {
      "text/plain": [
       "b'123456'"
      ]
     },
     "execution_count": 10,
     "metadata": {},
     "output_type": "execute_result"
    }
   ],
   "source": [
    "b''.join([b'123',b'456'])"
   ]
  },
  {
   "cell_type": "code",
   "execution_count": null,
   "metadata": {},
   "outputs": [],
   "source": []
  }
 ],
 "metadata": {
  "kernelspec": {
   "display_name": "venv",
   "language": "python",
   "name": "python3"
  },
  "language_info": {
   "codemirror_mode": {
    "name": "ipython",
    "version": 3
   },
   "file_extension": ".py",
   "mimetype": "text/x-python",
   "name": "python",
   "nbconvert_exporter": "python",
   "pygments_lexer": "ipython3",
   "version": "3.11.3"
  },
  "orig_nbformat": 4
 },
 "nbformat": 4,
 "nbformat_minor": 2
}
