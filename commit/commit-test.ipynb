{
 "cells": [
  {
   "cell_type": "code",
   "execution_count": 1,
   "metadata": {},
   "outputs": [
    {
     "data": {
      "text/plain": [
       "b'\\xea\\x92\\xed(\\x91@-\\xc9j\\x0c\\xc9y\\r\\n\\xcb\\x8e'"
      ]
     },
     "execution_count": 1,
     "metadata": {},
     "output_type": "execute_result"
    }
   ],
   "source": [
    "import sys\n",
    "sys.path.insert(0, '../' )\n",
    "\n",
    "from utils import randombytes as rd\n",
    "\n",
    "#########  test  ############\n",
    "\n",
    "rd.randombytes(16)"
   ]
  },
  {
   "cell_type": "code",
   "execution_count": 2,
   "metadata": {},
   "outputs": [
    {
     "name": "stdout",
     "output_type": "stream",
     "text": [
      "dig0 b'\\x86\\xb8d\\x86X\\xd1c\\xa4r\\x03\\xc7\\x10\\x1c2~\\xb8CMt\\x1a\\xa4\\xb1K\\x1b?\\xf9\\xc0\\x8b\\xa7#\\xbc\\xd1'\n",
      "dig1 b'd\\xa1H\\xe4\\xffE\\x15\\xd6kq\\x02\\x0b\\x81\\xe2d\\xc0f\\xa6\\xf9\\xd4\\xac\\x0c\\x81\\x9d\\xe2\\xf4O\\x10\\x8f\\xe4\\xe3\\x9c'\n"
     ]
    }
   ],
   "source": [
    "from Crypto.Hash import SHA3_256\n",
    "\n",
    "h0 = SHA3_256.new()\n",
    "h0.update(b'Some data')\n",
    "\n",
    "h1 = h0.copy()\n",
    "dig0 = h0.digest()\n",
    "print( 'dig0', dig0 )\n",
    "\n",
    "h1.update( b'update2' )\n",
    "dig1 = h1.digest()\n",
    "print( 'dig1' , dig1 )\n"
   ]
  },
  {
   "cell_type": "code",
   "execution_count": 3,
   "metadata": {},
   "outputs": [
    {
     "data": {
      "text/plain": [
       "True"
      ]
     },
     "execution_count": 3,
     "metadata": {},
     "output_type": "execute_result"
    }
   ],
   "source": [
    "import merkeltreecommit as MT\n",
    "#import importlib\n",
    "#importlib.reload(MT)\n",
    "\n",
    "rt, r , mktree = MT.commit( [ b'123' , b'456' , b'789' , b'012' ] )\n",
    "\n",
    "auth_path = MT.open( b'012' , 3 , r , mktree )\n",
    "\n",
    "MT.verify( rt , 3 , auth_path )\n"
   ]
  },
  {
   "cell_type": "code",
   "execution_count": 4,
   "metadata": {},
   "outputs": [
    {
     "data": {
      "text/plain": [
       "[b'012',\n",
       " b\"\\x85\\xc7\\xa4\\x1c~}\\xce'q\\xa6\\xf9\\xf5\\xa9T\\xd9\\x96\\xd4\\x00\\x82[V\\xa7\\x8b\\xb5\\xd4o\\xb9!j}6(\",\n",
       " b'F7\\xe9\\x8a\\x84h\\xccx\\x86\\xb2\\xad\\x95\\x95\\xf9A\\xb8\\xecq@\\r\\x91\\xc9\\xda\\xe4\\xef\\x1aN\\xaf\\xb1q\\x07\\x19',\n",
       " b'z\\xbd\\xdb\\xec\\xd7\\xe6\\xfalvY\\x17\\xfc\\xeb&\\xba\\xf1.)\\x82\\x95Q8r$]y!\\xa7\\xe2g\\xac\\xcc']"
      ]
     },
     "execution_count": 4,
     "metadata": {},
     "output_type": "execute_result"
    }
   ],
   "source": [
    "auth_path"
   ]
  },
  {
   "cell_type": "code",
   "execution_count": null,
   "metadata": {},
   "outputs": [],
   "source": []
  }
 ],
 "metadata": {
  "kernelspec": {
   "display_name": "venv",
   "language": "python",
   "name": "python3"
  },
  "language_info": {
   "codemirror_mode": {
    "name": "ipython",
    "version": 3
   },
   "file_extension": ".py",
   "mimetype": "text/x-python",
   "name": "python",
   "nbconvert_exporter": "python",
   "pygments_lexer": "ipython3",
   "version": "3.11.3"
  },
  "orig_nbformat": 4
 },
 "nbformat": 4,
 "nbformat_minor": 2
}
