{
 "cells": [
  {
   "cell_type": "code",
   "execution_count": 21,
   "metadata": {},
   "outputs": [
    {
     "data": {
      "text/plain": [
       "b\"\\xc8Q*]^\\xf3\\x9c\\xa9\\xdd\\xf4I\\xde\\x00'2t\""
      ]
     },
     "execution_count": 21,
     "metadata": {},
     "output_type": "execute_result"
    }
   ],
   "source": [
    "from Crypto.Random import get_random_bytes\n",
    "\n",
    "def randombytes( bsize ) :\n",
    "    return get_random_bytes( bsize )\n",
    "\n",
    "\n",
    "#########  test  ############\n",
    "\n",
    "randombytes(16)"
   ]
  },
  {
   "cell_type": "code",
   "execution_count": 22,
   "metadata": {},
   "outputs": [
    {
     "name": "stdout",
     "output_type": "stream",
     "text": [
      "(b'\\xc9\\n\\x8b\\xa8\\xdd(#<<2\\x03\\x10\\xadJ2\\xf0', b'\\xa1\\xfa^\\x9e\\x13\\x8a\"(\\x9a\\x8f\\xb2)I\\x88\\x9d\\x07') b'\\x85;\\xba\\x81~\\x17(\\x8d\\xb9\\xf01\\xc7\\xd3\\xe6?\\x16'\n"
     ]
    }
   ],
   "source": [
    "from Crypto.Cipher import AES\n",
    "#from Crypto.Util   import Counter\n",
    "\n",
    "def preon_keygen():\n",
    "  aes128_key = randombytes( 16 )\n",
    "  aes128_plaintext = randombytes( 16 )\n",
    "  aes128_ciphertext = AES.new( aes128_key , AES.MODE_ECB ).encrypt( aes128_plaintext )\n",
    "  return (aes128_plaintext , aes128_ciphertext ), aes128_key\n",
    "\n",
    "\n",
    "###########  test  ##############\n",
    "\n",
    "pk,sk = preon_keygen()\n",
    "\n",
    "print(  pk , sk )\n"
   ]
  },
  {
   "cell_type": "code",
   "execution_count": 11,
   "metadata": {},
   "outputs": [],
   "source": []
  },
  {
   "cell_type": "code",
   "execution_count": 19,
   "metadata": {},
   "outputs": [
    {
     "name": "stdout",
     "output_type": "stream",
     "text": [
      "dig0 b'\\x86\\xb8d\\x86X\\xd1c\\xa4r\\x03\\xc7\\x10\\x1c2~\\xb8CMt\\x1a\\xa4\\xb1K\\x1b?\\xf9\\xc0\\x8b\\xa7#\\xbc\\xd1'\n",
      "dig1 b'd\\xa1H\\xe4\\xffE\\x15\\xd6kq\\x02\\x0b\\x81\\xe2d\\xc0f\\xa6\\xf9\\xd4\\xac\\x0c\\x81\\x9d\\xe2\\xf4O\\x10\\x8f\\xe4\\xe3\\x9c'\n"
     ]
    }
   ],
   "source": [
    "from Crypto.Hash import SHA3_256\n",
    "\n",
    "h0 = SHA3_256.new()\n",
    "h0.update(b'Some data')\n",
    "\n",
    "h1 = h0.copy()\n",
    "dig0 = h0.digest()\n",
    "print( 'dig0', dig0 )\n",
    "\n",
    "h1.update( b'update2' )\n",
    "dig1 = h1.digest()\n",
    "print( 'dig1' , dig1 )\n"
   ]
  },
  {
   "cell_type": "code",
   "execution_count": null,
   "metadata": {},
   "outputs": [],
   "source": []
  }
 ],
 "metadata": {
  "kernelspec": {
   "display_name": "venv",
   "language": "python",
   "name": "python3"
  },
  "language_info": {
   "codemirror_mode": {
    "name": "ipython",
    "version": 3
   },
   "file_extension": ".py",
   "mimetype": "text/x-python",
   "name": "python",
   "nbconvert_exporter": "python",
   "pygments_lexer": "ipython3",
   "version": "3.10.6"
  },
  "orig_nbformat": 4
 },
 "nbformat": 4,
 "nbformat_minor": 2
}
