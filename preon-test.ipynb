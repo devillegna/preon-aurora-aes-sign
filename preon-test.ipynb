{
 "cells": [
  {
   "cell_type": "code",
   "execution_count": 1,
   "metadata": {},
   "outputs": [],
   "source": [
    "from preon import m_preon as preon"
   ]
  },
  {
   "cell_type": "code",
   "execution_count": 2,
   "metadata": {},
   "outputs": [],
   "source": [
    "\n",
    "pk , sk = preon.preon_keygen()"
   ]
  },
  {
   "cell_type": "code",
   "execution_count": 3,
   "metadata": {},
   "outputs": [
    {
     "name": "stdout",
     "output_type": "stream",
     "text": [
      "m(#rows): 3656 x n: 3320, witness_idx: 64, pad_len: 4096\n",
      "pad_len: 4096, inst_dim: 6\n",
      "padding and calcuate f_1v, f_z, f_w\n",
      "time: 0.12647318840026855 secs\n",
      "f_z : [4096] ...[60:68]: [3345555499064215985, 14002512684326940668, 2275424076363435438, 29, 16933754119322725199, 18320160670512052192, 253435804200008974, 13252504458173575639] ...\n",
      "f_w : (f_z - f_1v) /Z_6 :  [5950880131745082942835740218923857743534582359255447351326, 3701443379907967361138036731267679200851051387091477072287, 1907628184170107158734363875462448310245098723623674567412, 3615080274556465460407606018483062765436460683129675042647] ...\n",
      "calculate Az, Bz, Cz\n",
      "time: 4.657977104187012 secs\n",
      "calculate f_Az, f_Bz, f_Cz\n",
      "time: 0.02495884895324707 secs\n",
      "rowcheck\n",
      "r_lincheck: [8192]: ...[4094:4098] ... [5995893747458192795392336925053163950067110778435956120679, 0, 5719067229020186271770103851244871576061454341667971294466, 4304748401495315289958843031886099638076811346525245513245]\n",
      "commit f_w, f_Az, f_Bz , f_Cz, r_lincheck , r_ldt\n",
      "commit polys: (poly_len): [4096, 4096, 4096, 4096, 8192, 8192]\n",
      "mesg0: (8192x8/2 = 32768)  [32768, 32768, 32768, 32768, 32768, 32768]\n",
      "|mesgs:| = 32768 , |mesgs[0]| = 288 == 288\n",
      "lin-check starts. calculate f_alpha, v_alpha\n",
      "time: 0.01781296730041504 secs\n",
      "lin-check step 1. calculate p2A, p2B, p2C and evaluate their values\n",
      "evaluate values of p2A, p2B, p2C\n",
      "time: 13.34886384010315 secs\n",
      "interpolate p2A, p2B, p2C\n",
      "time: 0.027386188507080078 secs\n",
      "return v_alpha, v_p2A, v_p2B, b_p2C\n",
      "lin-check step 2. poly muls and /Z_12\n",
      "time: 0.2639610767364502 secs\n",
      "g: [4096] ...[4094:4096] [4078118232009579876276588020436322687219380404610007935779, 0]\n",
      "h: [4096] ...[4094:4096] [420666738875481853589600305051294547252598788186171757849, 1472025067328442464387298070742558311296719048800383426395]\n",
      "commit h\n",
      "commit polys: (poly_len): [4096]\n",
      "mesg0: (8192x8/2 = 32768)  [32768]\n",
      "|mesgs:| = 32768 , |mesgs[0]| = 48 == 48\n",
      "ldt |f0|: 8192\n",
      "ldt queries: [29769, 7081, 3514, 2600, 28267, 6372, 1257, 20844, 28422, 26517, 31300, 27629, 4257, 31795, 12305, 32506, 32472, 5351, 32439, 18840, 20424, 24665, 14191, 13491, 24666, 76]\n"
     ]
    }
   ],
   "source": [
    "sig = preon.preon_sign( sk , b'123' )"
   ]
  },
  {
   "cell_type": "code",
   "execution_count": 4,
   "metadata": {},
   "outputs": [
    {
     "name": "stdout",
     "output_type": "stream",
     "text": [
      "m(#rows): 3656 x n: 3320, witness_idx: 64, pad_len: 4096\n",
      "recover challenges\n",
      "check if commits are opened correctly\n",
      "all passed\n",
      "verify ldt\n",
      "True\n",
      "prepare f_alpha, p2A, p2B, p2C\n",
      "lin-check starts. calculate f_alpha, v_alpha\n",
      "time: 0.07091498374938965 secs\n",
      "lin-check step 1. calculate p2A, p2B, p2C and evaluate their values\n",
      "evaluate values of p2A, p2B, p2C\n",
      "time: 13.341148138046265 secs\n",
      "interpolate p2A, p2B, p2C\n",
      "time: 0.09779000282287598 secs\n",
      "return f_alpha, p2A , p2B , p2C\n",
      "RS codeword of polynomials\n",
      "check virtual oracle consistency\n",
      "all passed\n"
     ]
    },
    {
     "data": {
      "text/plain": [
       "True"
      ]
     },
     "execution_count": 4,
     "metadata": {},
     "output_type": "execute_result"
    }
   ],
   "source": [
    "preon.preon_verify( pk , sig , b'123' )"
   ]
  }
 ],
 "metadata": {
  "kernelspec": {
   "display_name": "venv",
   "language": "python",
   "name": "python3"
  },
  "language_info": {
   "codemirror_mode": {
    "name": "ipython",
    "version": 3
   },
   "file_extension": ".py",
   "mimetype": "text/x-python",
   "name": "python",
   "nbconvert_exporter": "python",
   "pygments_lexer": "ipython3",
   "version": "3.11.3"
  },
  "orig_nbformat": 4
 },
 "nbformat": 4,
 "nbformat_minor": 2
}
