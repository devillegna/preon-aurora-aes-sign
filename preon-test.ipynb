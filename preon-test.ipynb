{
 "cells": [
  {
   "cell_type": "code",
   "execution_count": 1,
   "metadata": {},
   "outputs": [],
   "source": [
    "from preon import m_preon as preon"
   ]
  },
  {
   "cell_type": "code",
   "execution_count": 2,
   "metadata": {},
   "outputs": [],
   "source": [
    "\n",
    "pk , sk = preon.preon_keygen()"
   ]
  },
  {
   "cell_type": "code",
   "execution_count": 3,
   "metadata": {},
   "outputs": [
    {
     "name": "stdout",
     "output_type": "stream",
     "text": [
      "m(#rows): 3656 x n: 3320, witness_idx: 64, pad_len: 4096\n",
      "pad_len: 4096, inst_dim: 6\n",
      "padding and calcuate f_1v, f_z, f_w\n",
      "time: 0.01291513442993164 secs\n",
      "f_z : [4096] ...[60:68]: [2721677889518828751, 168718678009479464, 3501542058861984683, 75, 1052029157740814602, 4982014381818922567, 17548957297332629525, 6899425322512154800] ...\n",
      "f_w : (f_z - f_1v) /Z_6 :  [3862722092869499828201390028068442395969794753774262884798, 5373079809182647075706191138436177721527838727044398594712, 4468462569895334688651755725930072692952107715402362465705, 2734682008847905627050314533527175373490495245697416745722] ...\n",
      "calculate Az, Bz, Cz\n",
      "time: 0.005189180374145508 secs\n",
      "calculate f_Az, f_Bz, f_Cz\n",
      "time: 0.02455925941467285 secs\n",
      "rowcheck\n",
      "r_lincheck: [8192]: ...[4094:4098] ... [3766178954083435817924154490928331189068692116188400744287, 0, 5145697069568117103822139750378838797995761691793637877929, 1953894201618105731636279351779228552354994787822675956269]\n",
      "commit f_w, f_Az, f_Bz , f_Cz, r_lincheck , r_ldt\n",
      "commit polys: (poly_len): [4096, 4096, 4096, 4096, 8192, 8192]\n",
      "mesg0: (8192x32/2 = 131072)  [131072, 131072, 131072, 131072, 131072, 131072]\n",
      "|mesgs:| = 131072 , |mesgs[0]| = 288 == 288\n",
      "lin-check starts. calculate f_alpha, v_alpha\n",
      "time: 0.019430160522460938 secs\n",
      "lin-check step 1. calculate p2A, p2B, p2C and evaluate their values\n",
      "evaluate values of p2A, p2B, p2C\n",
      "time: 0.014307022094726562 secs\n",
      "interpolate p2A, p2B, p2C\n",
      "time: 0.030468225479125977 secs\n",
      "return v_alpha, v_p2A, v_p2B, b_p2C\n",
      "lin-check step 2. poly muls and /Z_12\n",
      "time: 0.25269079208374023 secs\n",
      "g: [4096] ...[4094:4096] [2833848569613437240037147656430752816878252072159538854832, 0]\n",
      "h: [4096] ...[4094:4096] [5305462111383048665942483172707929394123628775729876993414, 5549764216379423197715194027293493793382804133524224338663]\n",
      "commit h\n",
      "commit polys: (poly_len): [4096]\n",
      "mesg0: (8192x32/2 = 131072)  [131072]\n",
      "|mesgs:| = 131072 , |mesgs[0]| = 48 == 48\n",
      "ldt |f0|: 8192\n",
      "calculate RS code of f0: |v_f0|:  262144\n",
      "ldt queries: [95468, 87795, 44304, 51479, 126068, 62899, 4168, 67132, 28888, 104698, 101278, 41358, 109840, 72959, 44496, 92400, 287, 113098, 108517, 86980, 101020, 68201, 98797, 48340, 106183, 29159]\n"
     ]
    }
   ],
   "source": [
    "sig = preon.preon_sign( sk , b'123' )"
   ]
  },
  {
   "cell_type": "code",
   "execution_count": 4,
   "metadata": {},
   "outputs": [
    {
     "name": "stdout",
     "output_type": "stream",
     "text": [
      "m(#rows): 3656 x n: 3320, witness_idx: 64, pad_len: 4096\n",
      "recover challenges\n",
      "check if commits are opened correctly\n",
      "all passed\n",
      "prepare f_alpha, p2A, p2B, p2C\n",
      "lin-check starts. calculate f_alpha, v_alpha\n",
      "time: 0.015848875045776367 secs\n",
      "lin-check step 1. calculate p2A, p2B, p2C and evaluate their values\n",
      "evaluate values of p2A, p2B, p2C\n",
      "time: 0.013916015625 secs\n",
      "interpolate p2A, p2B, p2C\n",
      "time: 0.025237083435058594 secs\n",
      "return f_alpha, p2A , p2B , p2C\n",
      "generate RS codeword of public polynomials\n",
      "recover first opened commit of ldt from the virtual oracle of aurora\n",
      "verify ldt\n",
      "True\n",
      "all passed\n"
     ]
    },
    {
     "data": {
      "text/plain": [
       "True"
      ]
     },
     "execution_count": 4,
     "metadata": {},
     "output_type": "execute_result"
    }
   ],
   "source": [
    "preon.preon_verify( pk , sig , b'123' )"
   ]
  }
 ],
 "metadata": {
  "kernelspec": {
   "display_name": "venv",
   "language": "python",
   "name": "python3"
  },
  "language_info": {
   "codemirror_mode": {
    "name": "ipython",
    "version": 3
   },
   "file_extension": ".py",
   "mimetype": "text/x-python",
   "name": "python",
   "nbconvert_exporter": "python",
   "pygments_lexer": "ipython3",
   "version": "3.11.4"
  },
  "orig_nbformat": 4
 },
 "nbformat": 4,
 "nbformat_minor": 2
}
