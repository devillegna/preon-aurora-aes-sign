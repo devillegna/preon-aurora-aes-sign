{
 "cells": [
  {
   "cell_type": "code",
   "execution_count": 1,
   "metadata": {},
   "outputs": [],
   "source": [
    "from preon import m_preon as preon"
   ]
  },
  {
   "cell_type": "code",
   "execution_count": 2,
   "metadata": {},
   "outputs": [],
   "source": [
    "\n",
    "pk , sk = preon.preon_keygen()"
   ]
  },
  {
   "cell_type": "code",
   "execution_count": 3,
   "metadata": {},
   "outputs": [
    {
     "name": "stdout",
     "output_type": "stream",
     "text": [
      "m(#rows): 3656 x n: 3320, witness_idx: 64, pad_len: 4096\n",
      "pad_len: 4096, inst_dim: 6\n",
      "padding and calcuate f_1v, f_z, f_w\n",
      "time: 0.01487112045288086 secs\n",
      "f_z : [4096] ...[60:68]: [466515049533248875, 16937920454711592330, 14684251782256146077, 65, 13413663147086793286, 13252504458173575630, 16618997618638720153, 18327278117999725446] ...\n",
      "f_w : (f_z - f_1v) /Z_6 :  [2780727629848674389111339284936835012906700453709549789517, 629111144525281569522491993346199227043308469219155178950, 5087138177716046299229283779058579405767499571673980865048, 5933815951711374352792610707208086836342295925829601823998] ...\n",
      "calculate Az, Bz, Cz\n",
      "time: 0.005325794219970703 secs\n",
      "calculate f_Az, f_Bz, f_Cz\n",
      "time: 0.025326013565063477 secs\n",
      "rowcheck\n",
      "r_lincheck: [8192]: ...[4094:4098] ... [4990484581775380506727860694124004424111481940553614869473, 0, 6276002276916221595617042485000594136838569468816388353965, 5600366311798572637545127336055655770512093169668644565491]\n",
      "commit f_w, f_Az, f_Bz , f_Cz, r_lincheck , r_ldt\n",
      "commit polys: (poly_len): [4096, 4096, 4096, 4096, 8192, 8192]\n",
      "mesg0: (8192x32/2 = 131072)  [131072, 131072, 131072, 131072, 131072, 131072]\n",
      "|mesgs:| = 131072 , |mesgs[0]| = 288 == 288\n",
      "lin-check starts. calculate f_alpha, v_alpha\n",
      "time: 0.023804903030395508 secs\n",
      "lin-check step 1. calculate p2A, p2B, p2C and evaluate their values\n",
      "evaluate values of p2A, p2B, p2C\n",
      "time: 0.014456033706665039 secs\n",
      "interpolate p2A, p2B, p2C\n",
      "time: 0.027556896209716797 secs\n",
      "return v_alpha, v_p2A, v_p2B, b_p2C\n",
      "lin-check step 2. poly muls and /Z_12\n",
      "time: 0.2727029323577881 secs\n",
      "g: [4096] ...[4094:4096] [4693056764483481123465957638964521667237786798652745747211, 0]\n",
      "h: [4096] ...[4094:4096] [2865444922908668826986698152586529019007958232693218876808, 5193278820581160790555868189727075917064736437279143498115]\n",
      "commit h\n",
      "commit polys: (poly_len): [4096]\n",
      "mesg0: (8192x32/2 = 131072)  [131072]\n",
      "|mesgs:| = 131072 , |mesgs[0]| = 48 == 48\n",
      "ldt |f0|: 8192\n",
      "calculate RS code of f0: |v_f0|:  262144\n",
      "ldt queries: [50353, 109487, 1680, 41782, 95403, 93114, 6322, 7218, 49539, 71879, 80171, 27971, 77244, 52641, 6856, 42797, 11381, 85161, 97702, 56646, 34314, 29024, 102596, 15241, 97700, 7691]\n"
     ]
    }
   ],
   "source": [
    "sig = preon.preon_sign( sk , b'123' )"
   ]
  },
  {
   "cell_type": "code",
   "execution_count": 4,
   "metadata": {},
   "outputs": [
    {
     "name": "stdout",
     "output_type": "stream",
     "text": [
      "m(#rows): 3656 x n: 3320, witness_idx: 64, pad_len: 4096\n",
      "recover challenges\n",
      "check if commits are opened correctly\n",
      "all passed\n",
      "prepare f_alpha, p2A, p2B, p2C\n",
      "lin-check starts. calculate f_alpha, v_alpha\n",
      "time: 0.03303194046020508 secs\n",
      "lin-check step 1. calculate p2A, p2B, p2C and evaluate their values\n",
      "evaluate values of p2A, p2B, p2C\n",
      "time: 0.014719247817993164 secs\n",
      "interpolate p2A, p2B, p2C\n",
      "time: 0.01162409782409668 secs\n",
      "return f_alpha, p2A , p2B , p2C\n",
      "generate RS codeword of public polynomials\n",
      "recover first opened commit of ldt from the virtual oracle of aurora\n",
      "verify ldt\n",
      "True\n",
      "all passed\n"
     ]
    },
    {
     "data": {
      "text/plain": [
       "True"
      ]
     },
     "execution_count": 4,
     "metadata": {},
     "output_type": "execute_result"
    }
   ],
   "source": [
    "preon.preon_verify( pk , sig , b'123' )"
   ]
  }
 ],
 "metadata": {
  "kernelspec": {
   "display_name": "venv",
   "language": "python",
   "name": "python3"
  },
  "language_info": {
   "codemirror_mode": {
    "name": "ipython",
    "version": 3
   },
   "file_extension": ".py",
   "mimetype": "text/x-python",
   "name": "python",
   "nbconvert_exporter": "python",
   "pygments_lexer": "ipython3",
   "version": "3.11.4"
  },
  "orig_nbformat": 4
 },
 "nbformat": 4,
 "nbformat_minor": 2
}
