{
 "cells": [
  {
   "cell_type": "code",
   "execution_count": 1,
   "metadata": {},
   "outputs": [],
   "source": [
    "import sys\n",
    "sys.path.insert(0, '../' )\n"
   ]
  },
  {
   "cell_type": "code",
   "execution_count": 2,
   "metadata": {},
   "outputs": [
    {
     "name": "stdout",
     "output_type": "stream",
     "text": [
      "b'\\x00\\x01\\x02\\x03\\x04\\x05\\x06\\x07\\x08\\t\\n\\x0b\\x0c\\r\\x0e\\x0f'\n",
      "b'\\x00\\x11\"3DUfw\\x88\\x99\\xaa\\xbb\\xcc\\xdd\\xee\\xff'\n",
      "ct0 b'i\\xc4\\xe0\\xd8j{\\x040\\xd8\\xcd\\xb7\\x80p\\xb4\\xc5Z'\n"
     ]
    }
   ],
   "source": [
    "\n",
    "\n",
    "from Crypto.Cipher import AES\n",
    "\n",
    "#pt = _rand_bytes(16)\n",
    "#sk = _rand_bytes(16)\n",
    "pt = bytes( [i*16+i for i in range(16)] )\n",
    "sk = bytes( [i for i in range(16)] )\n",
    "\n",
    "ct = AES.new( sk , AES.MODE_ECB ).encrypt( pt )\n",
    "#ct, rd_states , rk , rk_tmp = aes128.aes128_encrypt( pt , sk )\n",
    "\n",
    "print( sk )\n",
    "print( pt )\n",
    "print( \"ct0\", ct )\n",
    "\n"
   ]
  },
  {
   "cell_type": "code",
   "execution_count": 3,
   "metadata": {},
   "outputs": [
    {
     "name": "stdout",
     "output_type": "stream",
     "text": [
      "3656 3320\n"
     ]
    }
   ],
   "source": [
    "from aesR1CS import aes128R1CS_z as R1CSz\n",
    "\n",
    "z = R1CSz.get_vec_z(pt,sk,64)\n",
    "\n",
    "print( R1CSz.aes128R1CS_num_constrains , len(z) )\n"
   ]
  },
  {
   "cell_type": "code",
   "execution_count": 4,
   "metadata": {},
   "outputs": [],
   "source": [
    "from aesR1CS import r1cs\n",
    "import numpy as np\n",
    "\n",
    "MATs = r1cs.get_r1cs( R1CSz.aes128R1CS_num_constrains , len(z) , 64, 128)  # AES128\n",
    "\n",
    "_mat_a = MATs['A']\n",
    "_mat_b = MATs['B']\n",
    "_mat_c = MATs['C']\n",
    "\n",
    "mat_a = np.array( _mat_a )\n",
    "mat_b = np.array( _mat_b )\n",
    "mat_c = np.array( _mat_c )\n",
    "\n"
   ]
  },
  {
   "cell_type": "code",
   "execution_count": 5,
   "metadata": {},
   "outputs": [
    {
     "name": "stdout",
     "output_type": "stream",
     "text": [
      "m(#rows): 3656 x n: 3320, witness_idx: 64, pad_len: 4096\n",
      "pad_len: 4096, inst_dim: 6\n",
      "padding and calcuate f_1v, f_z, f_w\n",
      "time: 0.14434504508972168 secs\n",
      "f_z : [4096] ...[60:68]: [11876712511685630227, 1490032541726768366, 332458469872254918, 200, 18174738647891815068, 6001071716487184560, 13518469962322655972, 233317187178767899] ...\n",
      "f_w : (f_z - f_1v) /Z_6 :  [4071544815287063751429570163657677555134831481824947510829, 1263211062984712749411083712164085838059225111420963806995, 2767837989273261907368810399861902751714150938860792364978, 404027588473964302064485763162088008663268290056040345038] ...\n",
      "calculate Az, Bz, Cz\n",
      "time: 4.423435688018799 secs\n",
      "calculate f_Az, f_Bz, f_Cz\n",
      "time: 0.02473902702331543 secs\n",
      "rowcheck\n",
      "r_lincheck: [8192]: ...[4094:4098] ... [5720443651321118019961721256494769897591057341711528765633, 0, 6119622517117424670597151491431251791674330345767766709066, 3085676348056205675044418416084586383148781459222013443379]\n",
      "commit f_w, f_Az, f_Bz , f_Cz, r_lincheck , r_ldt\n",
      "commit polys: (poly_len): [4096, 4096, 4096, 4096, 8192, 8192]\n",
      "mesg0: (8192x8/2 = 32768)  [32768, 32768, 32768, 32768, 32768, 32768]\n",
      "|mesgs:| = 32768 , |mesgs[0]| = 288 == 288\n",
      "lin-check starts. calculate f_alpha, v_alpha\n",
      "time: 0.01719808578491211 secs\n",
      "lin-check step 1. calculate p2A, p2B, p2C and evaluate their values\n",
      "evaluate values of p2A, p2B, p2C\n",
      "time: 13.203259229660034 secs\n",
      "interpolate p2A, p2B, p2C\n",
      "time: 0.02750992774963379 secs\n",
      "return v_alpha, v_p2A, v_p2B, b_p2C\n",
      "lin-check step 2. poly muls and /Z_12\n",
      "time: 0.2610917091369629 secs\n",
      "g: [4096] ...[4094:4096] [3804658417919442466370085977088667366346695444655649505848, 0]\n",
      "h: [4096] ...[4094:4096] [1475874977507574337084435819584406759697998025333085619178, 2111316907056688003564210451287650674525366817322161873230]\n",
      "commit h\n",
      "commit polys: (poly_len): [4096]\n",
      "mesg0: (8192x8/2 = 32768)  [32768]\n",
      "|mesgs:| = 32768 , |mesgs[0]| = 48 == 48\n",
      "ldt |f0|: 8192\n",
      "ldt queries: [6206, 29023, 15195, 7933, 16475, 16566, 24749, 29759, 25032, 5916, 31441, 22983, 8702, 22838, 30269, 19365, 1937, 13146, 17978, 18930, 31380, 4420, 11336, 10035, 26257, 3060]\n"
     ]
    }
   ],
   "source": [
    "\n",
    "from m_aurora import *\n",
    "\n",
    "##### test ##########\n",
    "\n",
    "proof = generate_proof( (mat_a,mat_b,mat_c,z,64) , b'123' )\n"
   ]
  },
  {
   "cell_type": "code",
   "execution_count": 6,
   "metadata": {},
   "outputs": [
    {
     "name": "stdout",
     "output_type": "stream",
     "text": [
      "m(#rows): 3656 x n: 3320, witness_idx: 64, pad_len: 4096\n",
      "recover challenges\n",
      "check if commits are opened correctly\n",
      "all passed\n",
      "verify ldt\n",
      "True\n",
      "prepare f_alpha, p2A, p2B, p2C\n",
      "lin-check starts. calculate f_alpha, v_alpha\n",
      "time: 0.02183818817138672 secs\n",
      "lin-check step 1. calculate p2A, p2B, p2C and evaluate their values\n",
      "evaluate values of p2A, p2B, p2C\n",
      "time: 13.55114483833313 secs\n",
      "interpolate p2A, p2B, p2C\n",
      "time: 0.012048959732055664 secs\n",
      "return f_alpha, p2A , p2B , p2C\n",
      "RS codeword of polynomials\n",
      "check virtual oracle consistency\n",
      "all passed\n"
     ]
    },
    {
     "data": {
      "text/plain": [
       "True"
      ]
     },
     "execution_count": 6,
     "metadata": {},
     "output_type": "execute_result"
    }
   ],
   "source": [
    "\n",
    "\n",
    "verify_proof( proof , (mat_a,mat_b,mat_c,z[:64],64) , b'123' )\n"
   ]
  }
 ],
 "metadata": {
  "kernelspec": {
   "display_name": "venv",
   "language": "python",
   "name": "python3"
  },
  "language_info": {
   "codemirror_mode": {
    "name": "ipython",
    "version": 3
   },
   "file_extension": ".py",
   "mimetype": "text/x-python",
   "name": "python",
   "nbconvert_exporter": "python",
   "pygments_lexer": "ipython3",
   "version": "3.11.3"
  },
  "orig_nbformat": 4
 },
 "nbformat": 4,
 "nbformat_minor": 2
}
