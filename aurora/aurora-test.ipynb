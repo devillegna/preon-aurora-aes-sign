{
 "cells": [
  {
   "cell_type": "code",
   "execution_count": 1,
   "metadata": {},
   "outputs": [],
   "source": [
    "import sys\n",
    "sys.path.insert(0, '../' )"
   ]
  },
  {
   "cell_type": "code",
   "execution_count": 2,
   "metadata": {},
   "outputs": [],
   "source": [
    "from libgf264fft import clib_wrapper as cgf\n",
    "\n",
    "# defining gf\n",
    "from utils import gf2192 as gf\n",
    "\n",
    "# the commit scheme\n",
    "from commit import merkeltreecommit as mt\n",
    "\n",
    "# hash for challenges\n",
    "from utils import hash as H\n",
    "\n",
    "from fri_ldt import m_fri_ldt as fri\n",
    "\n",
    "def _dummy( *params ) : return None\n"
   ]
  },
  {
   "cell_type": "code",
   "execution_count": 3,
   "metadata": {},
   "outputs": [
    {
     "name": "stdout",
     "output_type": "stream",
     "text": [
      "b'\\x00\\x01\\x02\\x03\\x04\\x05\\x06\\x07\\x08\\t\\n\\x0b\\x0c\\r\\x0e\\x0f'\n",
      "b'\\x00\\x11\"3DUfw\\x88\\x99\\xaa\\xbb\\xcc\\xdd\\xee\\xff'\n",
      "b'_rd\\x15W\\xf5\\xbc\\x92\\xf7\\xbe;)\\x1d\\xb9\\xf9\\x1a\\xff\\x87\\x96\\x841\\xd8jQdQQ\\xfaw:\\xd0\\tL\\x9c\\x1ef\\xf7q\\xf0v,?\\x86\\x8eSM\\xf2Vc\\x85\\xb7\\x9f\\xfcS\\x8d\\xf9\\x97\\xbeG\\x8euG\\xd6\\x91\\xf4\\xbc\\xd4T2\\xe5T\\xd0u\\xf1\\xd6\\xc5\\x1d\\xd0;<\\x98\\x16\\xeet\\x00\\xf8\\x7fUk,\\x04\\x9c\\x8eZ\\xd06\\xc5~\\x1c\\x15\\x9a\\x9b\\xd2\\x86\\xf0_K\\xe0\\x98\\xc649\\xba\\xa0=\\xe7\\xa1\\xf9\\xb5n\\xd5Q,\\xba_AM#\\xe9\\xf7N\\xec\\x020 \\xf6\\x1b\\xf2\\xcc\\xf25<!\\xc7' b'\\x00\\x01\\x02\\x03\\x04\\x05\\x06\\x07\\x08\\t\\n\\x0b\\x0c\\r\\x0e\\x0f\\xd6\\xaat\\xfd\\xd2\\xafr\\xfa\\xda\\xa6x\\xf1\\xd6\\xabv\\xfe\\xb6\\x92\\xcf\\x0bd=\\xbd\\xf1\\xbe\\x9b\\xc5\\x00h0\\xb3\\xfe\\xb6\\xfftN\\xd2\\xc2\\xc9\\xbflY\\x0c\\xbf\\x04i\\xbfAG\\xf7\\xf7\\xbc\\x955>\\x03\\xf9l2\\xbc\\xfd\\x05\\x8d\\xfd<\\xaa\\xa3\\xe8\\xa9\\x9f\\x9d\\xebP\\xf3\\xafW\\xad\\xf6\"\\xaa^9\\x0f}\\xf7\\xa6\\x92\\x96\\xa7U=\\xc1\\n\\xa3\\x1fk\\x14\\xf9p\\x1a\\xe3_\\xe2\\x8cD\\n\\xdfMN\\xa9\\xc0&GC\\x875\\xa4\\x1ce\\xb9\\xe0\\x16\\xba\\xf4\\xae\\xbfz\\xd2T\\x992\\xd1\\xf0\\x85Wh\\x10\\x93\\xed\\x9c\\xbe,\\x97N\\x13\\x11\\x1d\\x7f\\xe3\\x94J\\x17\\xf3\\x07\\xa7\\x8bM+0\\xc5' b'\\xd6\\xabv\\xfe`8\\xbb\\xf6\\x00m\\xbbE\\xf1\\x08\\x83\\xf2{]TTb\\x93\\xac\\x95J\\xc0\\x7fgS\\xba\\xf7/\\x13\\xda\\xb5\\xe4G\\x88/\\xae'\n",
      "ct0 b'i\\xc4\\xe0\\xd8j{\\x040\\xd8\\xcd\\xb7\\x80p\\xb4\\xc5Z'\n"
     ]
    }
   ],
   "source": [
    "from utils import randombytes as rd\n",
    "\n",
    "#rd.randombytes(16)\n",
    "\n",
    "\n",
    "from aesR1CS import aes128\n",
    "\n",
    "#pt = _rand_bytes(16)\n",
    "#sk = _rand_bytes(16)\n",
    "pt = bytes( [i*16+i for i in range(16)] )\n",
    "sk = bytes( [i for i in range(16)] )\n",
    "\n",
    "ct, rd_states , rk , rk_tmp = aes128.aes128_encrypt( pt , sk )\n",
    "\n",
    "print( sk )\n",
    "print( pt )\n",
    "print( rd_states , rk , rk_tmp  )\n",
    "print( \"ct0\", ct )\n",
    "\n"
   ]
  },
  {
   "cell_type": "code",
   "execution_count": 4,
   "metadata": {},
   "outputs": [
    {
     "name": "stdout",
     "output_type": "stream",
     "text": [
      "3656 3320\n"
     ]
    }
   ],
   "source": [
    "from aesR1CS import aes128R1CS_z as R1CSz\n",
    "\n",
    "import importlib\n",
    "importlib.reload( R1CSz )\n",
    "\n",
    "z = R1CSz.get_vec_z(pt,sk,64)\n",
    "\n",
    "print( R1CSz.aes128R1CS_num_constrains , len(z) )\n"
   ]
  },
  {
   "cell_type": "code",
   "execution_count": 5,
   "metadata": {},
   "outputs": [],
   "source": [
    "from aesR1CS import r1cs\n",
    "\n",
    "MATs = r1cs.get_r1cs( R1CSz.aes128R1CS_num_constrains , len(z) , 64, 128)  # AES128\n",
    "\n",
    "mat_a = MATs['A']\n",
    "mat_b = MATs['B']\n",
    "mat_c = MATs['C']\n"
   ]
  },
  {
   "cell_type": "code",
   "execution_count": 6,
   "metadata": {},
   "outputs": [],
   "source": [
    "def mat_x_vec( mat , vec , n_row=-1) :\n",
    "    if 0 > n_row : n_row = len(mat)\n",
    "    r = [0]*n_row\n",
    "    for i in range(n_row):\n",
    "        ri = 0\n",
    "        for j in range(len(vec)):\n",
    "            ri ^= cgf.gf264_mul( mat[i][j] , vec[j] )\n",
    "        r[i] = ri\n",
    "    return r\n"
   ]
  },
  {
   "cell_type": "code",
   "execution_count": 7,
   "metadata": {},
   "outputs": [
    {
     "name": "stdout",
     "output_type": "stream",
     "text": [
      "time: 25.3848237991333 secs\n"
     ]
    }
   ],
   "source": [
    "import time\n",
    "\n",
    "st = time.time()\n",
    "Az = mat_x_vec( mat_a , z )\n",
    "Bz = mat_x_vec( mat_b , z )\n",
    "Cz = mat_x_vec( mat_c , z )\n",
    "ed = time.time()\n",
    "print( \"time:\", format(ed-st) , \"secs\" )\n"
   ]
  },
  {
   "cell_type": "code",
   "execution_count": 9,
   "metadata": {},
   "outputs": [
    {
     "name": "stdout",
     "output_type": "stream",
     "text": [
      "m(#rows): 3656 x n: 3320, witness_idx: 64, pad_len: 4096\n",
      "padding and calcuate f_1v, f_z, f_Az, f_Bz, f_Cz\n",
      "time: 0.020545482635498047 secs\n",
      "f_1v: [64] [1, 104, 6773987339827998880, 76, 6494990003695825333, 2770470512431615406, 9353829036159859324, 129, 3622001699451325254, 13826683270762018224, 6945490328438131111, 13170832442580444387, 13508198004833286135, 2430989766365671689, 4171295113934959528, 146, 1483026152508229671, 5060421071648320533, 14247327339982606064, 8149202561864665329, 2575143477663925702, 14879998630440192931, 7566345596596803686, 11768029609651875199, 2548218579848038601, 7145244881410666016, 10756402279887175656, 5427858226323345980, 2139843264328246966, 12479693107550326575, 14063864011514639672, 55, 12406569417845239693, 15795808078528240728, 14321077589967467932, 5798234984320495289, 9361449024593994014, 7796851569384837701, 11334226328499383373, 4860759622312203753, 2431339947958500416, 5784733405265691440, 2712770127487974368, 6262856457026633520, 13674271190976303320, 12443928110261299320, 2533546609103228461, 12706175621761185099, 15713249291044571301, 7985978242229328911, 9669772462381176579, 7067375339687965587, 3477494482305462976, 2388562177385987363, 3226806671065950753, 4860052516537366188, 16963784831502528356, 14325376893364176715, 14701074590021327774, 16718861296941112455, 11876712511685630227, 1490032541726768366, 332458469872254918, 200]\n",
      "f_z : [4096] ...[60:68] [11876712511685630227, 1490032541726768366, 332458469872254918, 200, 18174738647891815068, 6001071716487184560, 13518469962322655972, 233317187178767899] ...\n",
      "f_w : (f_z - f_1v) /Z_64  <-- XXX: needed op.\n",
      "lin-check starts. calculate p_alpha, v_alpha\n",
      "time: 0.5465331077575684 secs\n",
      "lin-check step 1. calculate p2A, p2B, p2C and evaluate their values\n",
      "time: 92.23497462272644 secs\n",
      "time: 0.06531882286071777 secs\n",
      "lin-check step 2. poly muls and /Z_4096\n",
      "time: 0.5577974319458008 secs\n",
      "g_h: [8192] ...[4092:4100] [767872891575384967048279061105772870812692461253473525527, 2982247261058088378835832786569188464452747657150140707817, 295233289682619693688513635497904145421039475763493855902, 0, 4460067817993247768734176416236957568720834048713714958505, 807506875957147822102272192254525779606423120129682136694, 124642351580449516085610430457680891660935940180359625418, 6247501866212419644210697679872030784899377620446257929747] ...\n",
      "row check: calculate (f_Azxf_Bz - f_Cz) / Z_4096\n",
      "time: 0.007846593856811523 secs\n",
      "f_Azxf_Bz: [8192] ...[4092:] [8552573807663895422, 4589434163147169521, 17391112015871401827, 19399, 16381666018044297397, 10597798291765120115, 11875290840873499268, 11693796389815279078] ...\n",
      "f_Cz     : [4096] ...[4080:] [8552573807663895422, 4589434163147169521, 17391112015871401827, 19399]\n",
      "XXX: need a /Z_4096 op. here\n"
     ]
    },
    {
     "data": {
      "text/plain": [
       "False"
      ]
     },
     "execution_count": 9,
     "metadata": {},
     "output_type": "execute_result"
    }
   ],
   "source": [
    "import time\n",
    "\n",
    "def generate_proof( R1CS , h_state , RS_rho = 8 , verbose = 1 ) :\n",
    "    if 1 == verbose : dump = print\n",
    "    else : dump = _dummy\n",
    "\n",
    "    ## process R1CS\n",
    "    mat_A , mat_B , mat_C , vec_z , witness_idx = R1CS\n",
    "    n = len(vec_z)\n",
    "    m = len(mat_A)\n",
    "    pad_len = 4096\n",
    "    dump( f\"m(#rows): {m} x n: {n}, witness_idx: {witness_idx}, pad_len: {pad_len}\" )\n",
    "    # use global variable\n",
    "    #dump( \"calculate Az, Bz, Cz\" )\n",
    "    #st = time.time()\n",
    "    #Az = mat_x_vec( mat_A , vec_z )\n",
    "    #Bz = mat_x_vec( mat_B , vec_z )\n",
    "    #Cz = mat_x_vec( mat_C , vec_z )\n",
    "    #ed = time.time()\n",
    "    #dump( \"time:\", format(ed-st) , \"secs\" )\n",
    "    # XXX: check if Az*Bz == Cz here\n",
    "\n",
    "    dump( \"padding and calcuate f_1v, f_z, f_Az, f_Bz, f_Cz\" )\n",
    "    st = time.time()\n",
    "    p_vec_z = vec_z + [0]*(pad_len-len(vec_z))     # should pad random gf2192 for zk\n",
    "    f_z  = cgf.ibtfy( p_vec_z , 0 )\n",
    "    p_vec_z.extend( cgf.btfy( f_z , pad_len ) )\n",
    "    f_1v = cgf.ibtfy( vec_z[:witness_idx] , 0 )\n",
    "\n",
    "    v_Az    = Az + [0]*(pad_len-len(Az))           # should pad random gf2192 for zk\n",
    "    v_Bz    = Bz + [0]*(pad_len-len(Bz))           # should pad random gf2192 for zk\n",
    "    v_Cz    = Cz + [0]*(pad_len-len(Cz))           # should pad random gf2192 for zk\n",
    "    f_Az = cgf.ibtfy( v_Az , 0 )\n",
    "    f_Bz = cgf.ibtfy( v_Bz , 0 )\n",
    "    f_Cz = cgf.ibtfy( v_Cz , 0 )\n",
    "    v_Az.extend( cgf.btfy( f_Az , pad_len ) )\n",
    "    v_Bz.extend( cgf.btfy( f_Bz , pad_len ) )\n",
    "    v_Cz.extend( cgf.btfy( f_Bz , pad_len ) )\n",
    "    ed = time.time()\n",
    "    dump( \"time:\", format(ed-st) , \"secs\" )\n",
    "\n",
    "    dump( f\"f_1v: [{len(f_1v)}]\", f_1v )\n",
    "    dump( f\"f_z : [{len(f_z)}] ...[{witness_idx-4}:{witness_idx+4}]:\", f_z[witness_idx-4:witness_idx+4] , \"...\" )\n",
    "    dump( f\"f_w : (f_z - f_1v) /Z_{witness_idx}  <-- XXX: needed op.\" )\n",
    "\n",
    "    ## calculate RS code and commit them\n",
    "    # commit f_w, f_Az, f_Bz , f_Cz, r , r_LDT\n",
    "    size_L = 1<<19\n",
    "    offset = 1<<63\n",
    "\n",
    "    commits = []\n",
    "    mktrees = []\n",
    "\n",
    "    ## lincheck\n",
    "    dump( \"lin-check starts. calculate p_alpha, v_alpha\" )\n",
    "    st = time.time()\n",
    "    v_alpha , v_p2A , v_p2B , v_p2C = [0]*pad_len , [0]*pad_len , [0]*pad_len , [0]*pad_len\n",
    "    v_alpha[0] = 1\n",
    "    v_alpha[1] = gf.from_bytes( H.gen( h_state , bytes([1,1]) )[:gf.GF_BSIZE] )\n",
    "    for i in range(2,m): v_alpha[i] = gf.mul( v_alpha[i-1], v_alpha[1] )\n",
    "    p_alpha = gf.ifft( v_alpha , 1 , 0 )\n",
    "    v_alpha.extend( gf.fft(p_alpha,1,pad_len) )\n",
    "    ed = time.time()\n",
    "    dump( \"time:\" , format(ed-st) , \"secs\" )\n",
    "\n",
    "    dump( \"lin-check step 1. calculate p2A, p2B, p2C and evaluate their values\" )\n",
    "    st = time.time()\n",
    "    for j in range(n):\n",
    "        aj, bj, cj = mat_A[0][j] , mat_B[0][j] , mat_C[0][j]\n",
    "        for i in range(1,m):\n",
    "            aj ^= gf.mul_gf264( v_alpha[i] , mat_A[i][j] )\n",
    "            bj ^= gf.mul_gf264( v_alpha[i] , mat_B[i][j] )\n",
    "            cj ^= gf.mul_gf264( v_alpha[i] , mat_C[i][j] )\n",
    "        v_p2A[j] , v_p2B[j] , v_p2C[j] = aj , bj , cj\n",
    "    ed = time.time()\n",
    "    dump( \"time:\" , format(ed-st) , \"secs\" )\n",
    "    st = time.time()\n",
    "    p2A , p2B , p2C = gf.ifft( v_p2A , 1 , 0 ) , gf.ifft( v_p2B , 1 , 0 ) , gf.ifft( v_p2C , 1 , 0 )\n",
    "    v_p2A.extend( gf.fft(p2A,1,pad_len) )\n",
    "    v_p2B.extend( gf.fft(p2B,1,pad_len) )\n",
    "    v_p2C.extend( gf.fft(p2C,1,pad_len) )\n",
    "    ed = time.time()\n",
    "    dump( \"time:\" , format(ed-st) , \"secs\" )\n",
    "\n",
    "    dump( f\"lin-check step 2. poly muls and /Z_{pad_len}\" )\n",
    "    st = time.time()\n",
    "    v_sA = [ gf.mul(v_Az[i],v_alpha[i]) ^ gf.mul(p_vec_z[i],v_p2A[i]) for i in range(2*pad_len) ]\n",
    "    v_sB = [ gf.mul(v_Bz[i],v_alpha[i]) ^ gf.mul(p_vec_z[i],v_p2B[i]) for i in range(2*pad_len) ]\n",
    "    v_sC = [ gf.mul(v_Cz[i],v_alpha[i]) ^ gf.mul(p_vec_z[i],v_p2C[i]) for i in range(2*pad_len) ]\n",
    "    f_sA = gf.ifft( v_sA , 1 , 0 )\n",
    "    f_sB = gf.ifft( v_sB , 1 , 0 )\n",
    "    f_sC = gf.ifft( v_sC , 1 , 0 )\n",
    "    s1 = gf.from_bytes( H.gen( h_state , bytes([1,2]) )[:gf.GF_BSIZE] )\n",
    "    s2 = gf.from_bytes( H.gen( h_state , bytes([1,3]) )[:gf.GF_BSIZE] )\n",
    "    s3 = gf.from_bytes( H.gen( h_state , bytes([1,4]) )[:gf.GF_BSIZE] )\n",
    "    g_h = [ gf.mul(s1,f_sA[i])^gf.mul(s2,f_sB[i])^gf.mul(s3,f_sC[i]) for i in range(2*pad_len) ]\n",
    "    ed = time.time()\n",
    "    dump( \"time:\" , format(ed-st) , \"secs\" )\n",
    "    dump( f\"g_h: [{2*pad_len}] ...[{pad_len-4}:{pad_len+4}]\", g_h[pad_len-4:pad_len+4] , \"...\" )\n",
    "\n",
    "    ## row check\n",
    "    dump( f\"row check: calculate (f_Azxf_Bz - f_Cz) / Z_{pad_len}\" )\n",
    "    st = time.time()\n",
    "    v_AzxBz = v_Cz[:pad_len] + [ cgf.gf264_mul(v_Az[i],v_Bz[i]) for i in range(pad_len,2*pad_len) ]\n",
    "    f_Azxf_Bz = cgf.ibtfy( v_AzxBz , 0 )\n",
    "    ed = time.time()\n",
    "    dump( \"time:\", format(ed-st) , \"secs\" )\n",
    "    dump( f\"f_Azxf_Bz: [{len(f_Azxf_Bz)}] ...[{pad_len-4}:]\" , f_Azxf_Bz[pad_len-4:pad_len+4] , \"...\" )\n",
    "    dump( f\"f_Cz     : [{len(f_Cz)}] ...[{pad_len-16}:]\" , f_Cz[pad_len-4:] )\n",
    "    dump( f\"XXX: need a /Z_{pad_len} op. here\" )\n",
    "\n",
    "    ## generate f0 for fri_ldt and perform fri_ldt\n",
    "\n",
    "    return False\n",
    "\n",
    "\n",
    "\n",
    "##### test ##########\n",
    "\n",
    "generate_proof( (mat_a,mat_b,mat_c,z,64) , b'123' )\n"
   ]
  },
  {
   "cell_type": "code",
   "execution_count": null,
   "metadata": {},
   "outputs": [],
   "source": []
  }
 ],
 "metadata": {
  "kernelspec": {
   "display_name": "venv",
   "language": "python",
   "name": "python3"
  },
  "language_info": {
   "codemirror_mode": {
    "name": "ipython",
    "version": 3
   },
   "file_extension": ".py",
   "mimetype": "text/x-python",
   "name": "python",
   "nbconvert_exporter": "python",
   "pygments_lexer": "ipython3",
   "version": "3.10.6"
  },
  "orig_nbformat": 4
 },
 "nbformat": 4,
 "nbformat_minor": 2
}
