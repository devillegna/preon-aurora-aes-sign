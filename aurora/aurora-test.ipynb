{
 "cells": [
  {
   "cell_type": "code",
   "execution_count": 1,
   "metadata": {},
   "outputs": [],
   "source": [
    "import sys\n",
    "sys.path.insert(0, '../' )\n"
   ]
  },
  {
   "cell_type": "code",
   "execution_count": 2,
   "metadata": {},
   "outputs": [
    {
     "name": "stdout",
     "output_type": "stream",
     "text": [
      "b'\\x00\\x01\\x02\\x03\\x04\\x05\\x06\\x07\\x08\\t\\n\\x0b\\x0c\\r\\x0e\\x0f'\n",
      "b'\\x00\\x11\"3DUfw\\x88\\x99\\xaa\\xbb\\xcc\\xdd\\xee\\xff'\n",
      "b'_rd\\x15W\\xf5\\xbc\\x92\\xf7\\xbe;)\\x1d\\xb9\\xf9\\x1a\\xff\\x87\\x96\\x841\\xd8jQdQQ\\xfaw:\\xd0\\tL\\x9c\\x1ef\\xf7q\\xf0v,?\\x86\\x8eSM\\xf2Vc\\x85\\xb7\\x9f\\xfcS\\x8d\\xf9\\x97\\xbeG\\x8euG\\xd6\\x91\\xf4\\xbc\\xd4T2\\xe5T\\xd0u\\xf1\\xd6\\xc5\\x1d\\xd0;<\\x98\\x16\\xeet\\x00\\xf8\\x7fUk,\\x04\\x9c\\x8eZ\\xd06\\xc5~\\x1c\\x15\\x9a\\x9b\\xd2\\x86\\xf0_K\\xe0\\x98\\xc649\\xba\\xa0=\\xe7\\xa1\\xf9\\xb5n\\xd5Q,\\xba_AM#\\xe9\\xf7N\\xec\\x020 \\xf6\\x1b\\xf2\\xcc\\xf25<!\\xc7' b'\\x00\\x01\\x02\\x03\\x04\\x05\\x06\\x07\\x08\\t\\n\\x0b\\x0c\\r\\x0e\\x0f\\xd6\\xaat\\xfd\\xd2\\xafr\\xfa\\xda\\xa6x\\xf1\\xd6\\xabv\\xfe\\xb6\\x92\\xcf\\x0bd=\\xbd\\xf1\\xbe\\x9b\\xc5\\x00h0\\xb3\\xfe\\xb6\\xfftN\\xd2\\xc2\\xc9\\xbflY\\x0c\\xbf\\x04i\\xbfAG\\xf7\\xf7\\xbc\\x955>\\x03\\xf9l2\\xbc\\xfd\\x05\\x8d\\xfd<\\xaa\\xa3\\xe8\\xa9\\x9f\\x9d\\xebP\\xf3\\xafW\\xad\\xf6\"\\xaa^9\\x0f}\\xf7\\xa6\\x92\\x96\\xa7U=\\xc1\\n\\xa3\\x1fk\\x14\\xf9p\\x1a\\xe3_\\xe2\\x8cD\\n\\xdfMN\\xa9\\xc0&GC\\x875\\xa4\\x1ce\\xb9\\xe0\\x16\\xba\\xf4\\xae\\xbfz\\xd2T\\x992\\xd1\\xf0\\x85Wh\\x10\\x93\\xed\\x9c\\xbe,\\x97N\\x13\\x11\\x1d\\x7f\\xe3\\x94J\\x17\\xf3\\x07\\xa7\\x8bM+0\\xc5' b'\\xd6\\xabv\\xfe`8\\xbb\\xf6\\x00m\\xbbE\\xf1\\x08\\x83\\xf2{]TTb\\x93\\xac\\x95J\\xc0\\x7fgS\\xba\\xf7/\\x13\\xda\\xb5\\xe4G\\x88/\\xae'\n",
      "ct0 b'i\\xc4\\xe0\\xd8j{\\x040\\xd8\\xcd\\xb7\\x80p\\xb4\\xc5Z'\n"
     ]
    }
   ],
   "source": [
    "\n",
    "\n",
    "from aesR1CS import aes128\n",
    "\n",
    "#pt = _rand_bytes(16)\n",
    "#sk = _rand_bytes(16)\n",
    "pt = bytes( [i*16+i for i in range(16)] )\n",
    "sk = bytes( [i for i in range(16)] )\n",
    "\n",
    "ct, rd_states , rk , rk_tmp = aes128.aes128_encrypt( pt , sk )\n",
    "\n",
    "print( sk )\n",
    "print( pt )\n",
    "print( rd_states , rk , rk_tmp  )\n",
    "print( \"ct0\", ct )\n",
    "\n"
   ]
  },
  {
   "cell_type": "code",
   "execution_count": 3,
   "metadata": {},
   "outputs": [
    {
     "name": "stdout",
     "output_type": "stream",
     "text": [
      "3656 3320\n"
     ]
    }
   ],
   "source": [
    "from aesR1CS import aes128R1CS_z as R1CSz\n",
    "\n",
    "import importlib\n",
    "importlib.reload( R1CSz )\n",
    "\n",
    "z = R1CSz.get_vec_z(pt,sk,64)\n",
    "\n",
    "print( R1CSz.aes128R1CS_num_constrains , len(z) )\n"
   ]
  },
  {
   "cell_type": "code",
   "execution_count": 4,
   "metadata": {},
   "outputs": [],
   "source": [
    "from aesR1CS import r1cs\n",
    "import numpy as np\n",
    "\n",
    "MATs = r1cs.get_r1cs( R1CSz.aes128R1CS_num_constrains , len(z) , 64, 128)  # AES128\n",
    "\n",
    "_mat_a = MATs['A']\n",
    "_mat_b = MATs['B']\n",
    "_mat_c = MATs['C']\n",
    "\n",
    "mat_a = np.array( _mat_a )\n",
    "mat_b = np.array( _mat_b )\n",
    "mat_c = np.array( _mat_c )\n",
    "\n"
   ]
  },
  {
   "cell_type": "code",
   "execution_count": 5,
   "metadata": {},
   "outputs": [
    {
     "name": "stdout",
     "output_type": "stream",
     "text": [
      "m(#rows): 3656 x n: 3320, witness_idx: 64, pad_len: 4096\n",
      "pad_len: 4096, inst_dim: 6\n",
      "padding and calcuate f_1v, f_z, f_w\n",
      "time: 0.12259817123413086 secs\n",
      "f_z : [4096] ...[60:68]: [11876712511685630227, 1490032541726768366, 332458469872254918, 200, 18174738647891815068, 6001071716487184560, 13518469962322655972, 233317187178767899] ...\n",
      "f_w : (f_z - f_1v) /Z_6 :  [4549381580162959033004376363935274313213421533067232963346, 3980202327227963216147430246704480965209453853331092987051, 2857161349755939936168206642898785749329250263615506392362, 4222800040013077984325422428764980262889535268230940219197] ...\n",
      "calculate Az, Bz, Cz\n",
      "time: 4.514230012893677 secs\n",
      "calculate f_Az, f_Bz, f_Cz\n",
      "time: 0.025686025619506836 secs\n",
      "rowcheck\n",
      "r_lincheck: [8192]: ...[4094:4098] ... [698863971789425403695651369725259562388789669838691954554, 0, 113855037711031724088479361403768273658750085678362368367, 1204274274801863610299234661951240921895910348304569588873]\n",
      "commit f_w, f_Az, f_Bz , f_Cz, r_lincheck , r_ldt\n",
      "commit polys: (poly_len): [4096, 4096, 4096, 4096, 8192, 8192]\n",
      "mesg0: (8192x8/2 = 32768)  [32768, 32768, 32768, 32768, 32768, 32768]\n",
      "|mesgs:| = 32768 , |mesgs[0]| = 288 == 288\n",
      "lin-check starts. calculate f_alpha, v_alpha\n",
      "time: 0.017931699752807617 secs\n",
      "lin-check step 1. calculate p2A, p2B, p2C and evaluate their values\n",
      "evaluate values of p2A, p2B, p2C\n",
      "time: 13.339814901351929 secs\n",
      "interpolate p2A, p2B, p2C\n",
      "time: 0.027173757553100586 secs\n",
      "return v_alpha, v_p2A, v_p2B, b_p2C\n",
      "lin-check step 2. poly muls and /Z_12\n",
      "time: 0.25821709632873535 secs\n",
      "g: [4096] ...[4094:4096] [5355857660735736010743638120110358490709218344138257330460, 0]\n",
      "h: [4096] ...[4094:4096] [5859462557794797138925396152529382572462564970425279048530, 4344312840932843683169452165244144542978291323067819368180]\n",
      "commit h\n",
      "commit polys: (poly_len): [4096]\n",
      "mesg0: (8192x8/2 = 32768)  [32768]\n",
      "|mesgs:| = 32768 , |mesgs[0]| = 48 == 48\n",
      "ldt |f0|: 8192\n",
      "ldt queries: [22179, 27711, 17538, 17037, 22027, 23594, 31504, 4012, 2257, 12810, 23212, 25905, 30195, 330, 2425, 15264, 4627, 7062, 9786, 1973, 6393, 19017, 15559, 4318, 14489, 15897]\n"
     ]
    }
   ],
   "source": [
    "\n",
    "from m_aurora import *\n",
    "\n",
    "##### test ##########\n",
    "\n",
    "proof = generate_proof( (mat_a,mat_b,mat_c,z,64) , b'123' )\n"
   ]
  },
  {
   "cell_type": "code",
   "execution_count": 6,
   "metadata": {},
   "outputs": [
    {
     "name": "stdout",
     "output_type": "stream",
     "text": [
      "m(#rows): 3656 x n: 3320, witness_idx: 64, pad_len: 4096\n",
      "recover challenges\n",
      "check if commits are opened correctly\n",
      "all passed\n",
      "verify ldt\n",
      "True\n",
      "prepare f_alpha, p2A, p2B, p2C\n",
      "lin-check starts. calculate f_alpha, v_alpha\n",
      "time: 0.021970272064208984 secs\n",
      "lin-check step 1. calculate p2A, p2B, p2C and evaluate their values\n",
      "evaluate values of p2A, p2B, p2C\n",
      "time: 13.361122846603394 secs\n",
      "interpolate p2A, p2B, p2C\n",
      "time: 0.01176905632019043 secs\n",
      "return f_alpha, p2A , p2B , p2C\n",
      "RS codeword of polynomials\n",
      "check virtual oracle consistency\n",
      "all passed\n"
     ]
    },
    {
     "data": {
      "text/plain": [
       "True"
      ]
     },
     "execution_count": 6,
     "metadata": {},
     "output_type": "execute_result"
    }
   ],
   "source": [
    "\n",
    "\n",
    "verify_proof( proof , (mat_a,mat_b,mat_c,z[:64],64) , b'123' )\n"
   ]
  }
 ],
 "metadata": {
  "kernelspec": {
   "display_name": "venv",
   "language": "python",
   "name": "python3"
  },
  "language_info": {
   "codemirror_mode": {
    "name": "ipython",
    "version": 3
   },
   "file_extension": ".py",
   "mimetype": "text/x-python",
   "name": "python",
   "nbconvert_exporter": "python",
   "pygments_lexer": "ipython3",
   "version": "3.11.3"
  },
  "orig_nbformat": 4
 },
 "nbformat": 4,
 "nbformat_minor": 2
}
