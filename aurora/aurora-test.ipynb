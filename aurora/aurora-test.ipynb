{
 "cells": [
  {
   "cell_type": "code",
   "execution_count": 1,
   "metadata": {},
   "outputs": [],
   "source": [
    "import sys\n",
    "sys.path.insert(0, '../' )\n"
   ]
  },
  {
   "cell_type": "code",
   "execution_count": 2,
   "metadata": {},
   "outputs": [
    {
     "name": "stdout",
     "output_type": "stream",
     "text": [
      "b'\\x00\\x01\\x02\\x03\\x04\\x05\\x06\\x07\\x08\\t\\n\\x0b\\x0c\\r\\x0e\\x0f'\n",
      "b'\\x00\\x11\"3DUfw\\x88\\x99\\xaa\\xbb\\xcc\\xdd\\xee\\xff'\n",
      "ct0 b'i\\xc4\\xe0\\xd8j{\\x040\\xd8\\xcd\\xb7\\x80p\\xb4\\xc5Z'\n"
     ]
    }
   ],
   "source": [
    "\n",
    "\n",
    "from Crypto.Cipher import AES\n",
    "\n",
    "#pt = _rand_bytes(16)\n",
    "#sk = _rand_bytes(16)\n",
    "pt = bytes( [i*16+i for i in range(16)] )\n",
    "sk = bytes( [i for i in range(16)] )\n",
    "\n",
    "ct = AES.new( sk , AES.MODE_ECB ).encrypt( pt )\n",
    "#ct, rd_states , rk , rk_tmp = aes128.aes128_encrypt( pt , sk )\n",
    "\n",
    "print( sk )\n",
    "print( pt )\n",
    "print( \"ct0\", ct )\n",
    "\n"
   ]
  },
  {
   "cell_type": "code",
   "execution_count": 3,
   "metadata": {},
   "outputs": [
    {
     "name": "stdout",
     "output_type": "stream",
     "text": [
      "3656 3320\n"
     ]
    }
   ],
   "source": [
    "from aesR1CS import aes128R1CS_z as R1CSz\n",
    "\n",
    "z = R1CSz.get_vec_z(pt,sk,64)\n",
    "\n",
    "print( R1CSz.aes128R1CS_num_constrains , len(z) )\n"
   ]
  },
  {
   "cell_type": "code",
   "execution_count": 4,
   "metadata": {},
   "outputs": [],
   "source": [
    "from aesR1CS import aes128R1CS as r1cs\n",
    "\n",
    "mat_a, mat_b, mat_c = r1cs.get_aes128r1cs( R1CSz.aes128R1CS_num_constrains , len(z) , 64 , 128 )\n",
    "\n"
   ]
  },
  {
   "cell_type": "code",
   "execution_count": 5,
   "metadata": {},
   "outputs": [
    {
     "name": "stdout",
     "output_type": "stream",
     "text": [
      "m(#rows): 3656 x n: 3320, witness_idx: 64, pad_len: 4096\n",
      "pad_len: 4096, inst_dim: 6\n",
      "padding and calcuate f_1v, f_z, f_w\n",
      "time: 0.01800680160522461 secs\n",
      "f_z : [4096] ...[60:68]: [11876712511685630227, 1490032541726768366, 332458469872254918, 200, 18174738647891815068, 6001071716487184560, 13518469962322655972, 233317187178767899] ...\n",
      "f_w : (f_z - f_1v) /Z_6 :  [4071027650080060582655772363097696978070377265503748013277, 2164673705167427242665183833790638100101422677406027068376, 5717389666907208282401674517608538388277993959512938497613, 3629131012741233734917558918165639060030095739190779827007] ...\n",
      "calculate Az, Bz, Cz\n",
      "time: 0.006184816360473633 secs\n",
      "calculate f_Az, f_Bz, f_Cz\n",
      "time: 0.026897907257080078 secs\n",
      "rowcheck\n",
      "r_lincheck: [8192]: ...[4094:4098] ... [2239104875008726154130555044281858442068409102285431086100, 0, 1079003847792141768455157694513113453152258820861197985553, 4477665327097794203348624585279206677950989520648579185257]\n",
      "commit f_w, f_Az, f_Bz , f_Cz, r_lincheck , r_ldt\n",
      "commit polys: (poly_len): [4096, 4096, 4096, 4096, 8192, 8192]\n",
      "mesg0: (8192x8/2 = 32768)  [32768, 32768, 32768, 32768, 32768, 32768]\n",
      "|mesgs:| = 32768 , |mesgs[0]| = 288 == 288\n",
      "lin-check starts. calculate f_alpha, v_alpha\n",
      "time: 0.017076969146728516 secs\n",
      "lin-check step 1. calculate p2A, p2B, p2C and evaluate their values\n",
      "evaluate values of p2A, p2B, p2C\n",
      "time: 0.014349937438964844 secs\n",
      "interpolate p2A, p2B, p2C\n",
      "time: 0.027329206466674805 secs\n",
      "return v_alpha, v_p2A, v_p2B, b_p2C\n",
      "lin-check step 2. poly muls and /Z_12\n",
      "time: 0.26753711700439453 secs\n",
      "g: [4096] ...[4094:4096] [2457443855585880461744730145555546207974155923791046845758, 0]\n",
      "h: [4096] ...[4094:4096] [3004833157821666326576820178643338024328498942425129128930, 5174969725551053529903746952641597999790305778651253628218]\n",
      "commit h\n",
      "commit polys: (poly_len): [4096]\n",
      "mesg0: (8192x8/2 = 32768)  [32768]\n",
      "|mesgs:| = 32768 , |mesgs[0]| = 48 == 48\n",
      "ldt |f0|: 8192\n",
      "calculate RS code of f0: |v_f0|:  65536\n",
      "ldt queries: [31011, 5719, 15595, 23214, 21837, 7183, 27942, 21614, 13489, 13296, 18730, 24434, 17140, 15792, 401, 16719, 9307, 19471, 9443, 16543, 2807, 5508, 26577, 8872, 25718, 16087]\n"
     ]
    }
   ],
   "source": [
    "\n",
    "from m_aurora import *\n",
    "\n",
    "##### test ##########\n",
    "\n",
    "proof = generate_proof( (mat_a,mat_b,mat_c,z,64) , b'123' )\n"
   ]
  },
  {
   "cell_type": "code",
   "execution_count": 6,
   "metadata": {},
   "outputs": [
    {
     "name": "stdout",
     "output_type": "stream",
     "text": [
      "m(#rows): 3656 x n: 3320, witness_idx: 64, pad_len: 4096\n",
      "recover challenges\n",
      "check if commits are opened correctly\n",
      "all passed\n",
      "prepare f_alpha, p2A, p2B, p2C\n",
      "lin-check starts. calculate f_alpha, v_alpha\n",
      "time: 0.0224609375 secs\n",
      "lin-check step 1. calculate p2A, p2B, p2C and evaluate their values\n",
      "evaluate values of p2A, p2B, p2C\n",
      "time: 0.016499996185302734 secs\n",
      "interpolate p2A, p2B, p2C\n",
      "time: 0.025098085403442383 secs\n",
      "return f_alpha, p2A , p2B , p2C\n",
      "generate RS codeword of public polynomials\n",
      "recover first opened commit of ldt from the virtual oracle of aurora\n",
      "verify ldt\n",
      "True\n",
      "all passed\n"
     ]
    },
    {
     "data": {
      "text/plain": [
       "True"
      ]
     },
     "execution_count": 6,
     "metadata": {},
     "output_type": "execute_result"
    }
   ],
   "source": [
    "\n",
    "\n",
    "verify_proof( proof , (mat_a,mat_b,mat_c,z[:64],64) , b'123' )\n"
   ]
  }
 ],
 "metadata": {
  "kernelspec": {
   "display_name": "venv",
   "language": "python",
   "name": "python3"
  },
  "language_info": {
   "codemirror_mode": {
    "name": "ipython",
    "version": 3
   },
   "file_extension": ".py",
   "mimetype": "text/x-python",
   "name": "python",
   "nbconvert_exporter": "python",
   "pygments_lexer": "ipython3",
   "version": "3.11.4"
  },
  "orig_nbformat": 4
 },
 "nbformat": 4,
 "nbformat_minor": 2
}
