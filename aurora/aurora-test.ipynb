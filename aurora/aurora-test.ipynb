{
 "cells": [
  {
   "cell_type": "code",
   "execution_count": 1,
   "metadata": {},
   "outputs": [],
   "source": [
    "import sys\n",
    "sys.path.insert(0, '../' )\n"
   ]
  },
  {
   "cell_type": "code",
   "execution_count": 2,
   "metadata": {},
   "outputs": [
    {
     "name": "stdout",
     "output_type": "stream",
     "text": [
      "b'\\x00\\x01\\x02\\x03\\x04\\x05\\x06\\x07\\x08\\t\\n\\x0b\\x0c\\r\\x0e\\x0f'\n",
      "b'\\x00\\x11\"3DUfw\\x88\\x99\\xaa\\xbb\\xcc\\xdd\\xee\\xff'\n",
      "ct0 b'i\\xc4\\xe0\\xd8j{\\x040\\xd8\\xcd\\xb7\\x80p\\xb4\\xc5Z'\n"
     ]
    }
   ],
   "source": [
    "\n",
    "\n",
    "from Crypto.Cipher import AES\n",
    "\n",
    "#pt = _rand_bytes(16)\n",
    "#sk = _rand_bytes(16)\n",
    "pt = bytes( [i*16+i for i in range(16)] )\n",
    "sk = bytes( [i for i in range(16)] )\n",
    "\n",
    "ct = AES.new( sk , AES.MODE_ECB ).encrypt( pt )\n",
    "#ct, rd_states , rk , rk_tmp = aes128.aes128_encrypt( pt , sk )\n",
    "\n",
    "print( sk )\n",
    "print( pt )\n",
    "print( \"ct0\", ct )\n",
    "\n"
   ]
  },
  {
   "cell_type": "code",
   "execution_count": 3,
   "metadata": {},
   "outputs": [
    {
     "name": "stdout",
     "output_type": "stream",
     "text": [
      "3656 3320\n"
     ]
    }
   ],
   "source": [
    "from aesR1CS import aes128R1CS_z as R1CSz\n",
    "\n",
    "z = R1CSz.get_vec_z(pt,sk,64)\n",
    "\n",
    "print( R1CSz.aes128R1CS_num_constrains , len(z) )\n"
   ]
  },
  {
   "cell_type": "code",
   "execution_count": 4,
   "metadata": {},
   "outputs": [],
   "source": [
    "from aesR1CS import aes128R1CS as r1cs\n",
    "\n",
    "mat_a, mat_b, mat_c = r1cs.get_aes128r1cs( R1CSz.aes128R1CS_num_constrains , len(z) , 64 , 128 )\n",
    "\n"
   ]
  },
  {
   "cell_type": "code",
   "execution_count": 5,
   "metadata": {},
   "outputs": [
    {
     "name": "stdout",
     "output_type": "stream",
     "text": [
      "m(#rows): 3656 x n: 3320, witness_idx: 64, pad_len: 4096\n",
      "pad_len: 4096, inst_dim: 6\n",
      "padding and calcuate f_1v, f_z, f_w\n",
      "time: 0.05140089988708496 secs\n",
      "f_z : [4096] ...[60:68]: [11876712511685630227, 1490032541726768366, 332458469872254918, 200, 18174738647891815068, 6001071716487184560, 13518469962322655972, 233317187178767899] ...\n",
      "f_w : (f_z - f_1v) /Z_6 :  [5202208185689001841426083238439407431560845646987138440067, 948501952205817094717730822040233507557482345415849632950, 2832394513754055710887806212434970553773046902531911651114, 1288192546114589485073370544257864914131463028832117668471] ...\n",
      "calculate Az, Bz, Cz\n",
      "time: 0.00515294075012207 secs\n",
      "calculate f_Az, f_Bz, f_Cz\n",
      "time: 0.0756080150604248 secs\n",
      "rowcheck\n",
      "r_lincheck: [8192]: ...[4094:4098] ... [130054489163559756984003451183393650487584897079150796517, 0, 2889876328356283942439269441751731285811503414563076175567, 991770968853071878474461944462622130797982734811349423202]\n",
      "commit f_w, f_Az, f_Bz , f_Cz, r_lincheck , r_ldt\n",
      "commit polys: (poly_len): [4096, 4096, 4096, 4096, 8192, 8192]\n",
      "mesg0: (8192x8/2 = 32768)  [32768, 32768, 32768, 32768, 32768, 32768]\n",
      "|mesgs:| = 32768 , |mesgs[0]| = 288 == 288\n",
      "lin-check starts. calculate f_alpha, v_alpha\n",
      "time: 0.016968965530395508 secs\n",
      "lin-check step 1. calculate p2A, p2B, p2C and evaluate their values\n",
      "evaluate values of p2A, p2B, p2C\n",
      "time: 0.014985799789428711 secs\n",
      "interpolate p2A, p2B, p2C\n",
      "time: 0.047849178314208984 secs\n",
      "return v_alpha, v_p2A, v_p2B, b_p2C\n",
      "lin-check step 2. poly muls and /Z_12\n",
      "time: 0.2563948631286621 secs\n",
      "g: [4096] ...[4094:4096] [3194081206686543737522585822960329295965651254447768586515, 0]\n",
      "h: [4096] ...[4094:4096] [744004705594365934427798130164181286689334970589632136467, 1270524818855181026571471187583112451299567724846164485723]\n",
      "commit h\n",
      "commit polys: (poly_len): [4096]\n",
      "mesg0: (8192x8/2 = 32768)  [32768]\n",
      "|mesgs:| = 32768 , |mesgs[0]| = 48 == 48\n",
      "ldt |f0|: 8192\n",
      "calculate RS code of f0: |v_f0|:  65536\n",
      "ldt queries: [31267, 1578, 7782, 13168, 24312, 20249, 25790, 22406, 14551, 26913, 2274, 11869, 6301, 9691, 17126, 4752, 24105, 9071, 32650, 5067, 6575, 7999, 13686, 6455, 18113, 25968]\n"
     ]
    }
   ],
   "source": [
    "\n",
    "from m_aurora import *\n",
    "\n",
    "##### test ##########\n",
    "\n",
    "proof = generate_proof( (mat_a,mat_b,mat_c,z,64) , b'123' )\n"
   ]
  },
  {
   "cell_type": "code",
   "execution_count": 6,
   "metadata": {},
   "outputs": [
    {
     "name": "stdout",
     "output_type": "stream",
     "text": [
      "m(#rows): 3656 x n: 3320, witness_idx: 64, pad_len: 4096\n",
      "recover challenges\n",
      "check if commits are opened correctly\n",
      "all passed\n",
      "prepare f_alpha, p2A, p2B, p2C\n",
      "lin-check starts. calculate f_alpha, v_alpha\n",
      "time: 0.021421194076538086 secs\n",
      "lin-check step 1. calculate p2A, p2B, p2C and evaluate their values\n",
      "evaluate values of p2A, p2B, p2C\n",
      "time: 0.01640796661376953 secs\n",
      "interpolate p2A, p2B, p2C\n",
      "time: 0.02553391456604004 secs\n",
      "return f_alpha, p2A , p2B , p2C\n",
      "generate RS codeword of public polynomials\n",
      "recover first opened commit of ldt from the virtual oracle of aurora\n",
      "verify ldt\n",
      "True\n",
      "all passed\n"
     ]
    },
    {
     "data": {
      "text/plain": [
       "True"
      ]
     },
     "execution_count": 6,
     "metadata": {},
     "output_type": "execute_result"
    }
   ],
   "source": [
    "\n",
    "\n",
    "verify_proof( proof , (mat_a,mat_b,mat_c,z[:64],64) , b'123' )\n"
   ]
  }
 ],
 "metadata": {
  "kernelspec": {
   "display_name": "venv",
   "language": "python",
   "name": "python3"
  },
  "language_info": {
   "codemirror_mode": {
    "name": "ipython",
    "version": 3
   },
   "file_extension": ".py",
   "mimetype": "text/x-python",
   "name": "python",
   "nbconvert_exporter": "python",
   "pygments_lexer": "ipython3",
   "version": "3.11.4"
  },
  "orig_nbformat": 4
 },
 "nbformat": 4,
 "nbformat_minor": 2
}
