{
 "cells": [
  {
   "cell_type": "code",
   "execution_count": 1,
   "metadata": {},
   "outputs": [
    {
     "data": {
      "text/plain": [
       "b'j\\xc4\\xc9)\\xa5\\xd7~\\xcf'"
      ]
     },
     "execution_count": 1,
     "metadata": {},
     "output_type": "execute_result"
    }
   ],
   "source": [
    "#!/usr/bin/env python3\n",
    "\n",
    "\n",
    "import random\n",
    "\n",
    "def _rand_bytes(l) :\n",
    "  return bytes( [random.randrange(256) for i in range(l)] )\n",
    "\n",
    "#### test #####\n",
    "\n",
    "_rand_bytes(8)"
   ]
  },
  {
   "cell_type": "code",
   "execution_count": 2,
   "metadata": {},
   "outputs": [],
   "source": [
    "import clib_wrapper as cl\n"
   ]
  },
  {
   "cell_type": "code",
   "execution_count": 3,
   "metadata": {},
   "outputs": [
    {
     "name": "stdout",
     "output_type": "stream",
     "text": [
      "cantor[1] ->  0x1\n",
      "s1( 1 )   ->  0x0\n",
      "cantor[2] ->  0x19c9369f278adc02\n",
      "s1( 2 )   ->  0x1\n",
      "cantor[4] ->  0xa181e7d66f5ff794\n",
      "s1( 4 )   ->  0x19c9369f278adc02\n"
     ]
    }
   ],
   "source": [
    "for i in range(3):\n",
    "    ii = 1<<i\n",
    "    print( f\"cantor[{ii}] -> \" , hex( cl.index_to_gf264(ii) ) )\n",
    "    d = cl.gf264_mul( cl.index_to_gf264( ii ) , cl.index_to_gf264( ii ) ) ^ cl.index_to_gf264(ii)\n",
    "    print( \"s1(\" , ii , \")   -> \" , hex(d) )"
   ]
  },
  {
   "cell_type": "code",
   "execution_count": 5,
   "metadata": {},
   "outputs": [
    {
     "name": "stdout",
     "output_type": "stream",
     "text": [
      "[0, 1, 2, 3, 4, 5, 6, 7, 8, 9, 10, 11, 12, 13, 14, 15, 16, 17, 18, 19, 20, 21, 22, 23, 24, 25, 26, 27, 28, 29, 30, 31]\n",
      "[13999028543345482959, 2561332434391271534, 13999028543345482951, 17132285337759049854, 868982193689443543, 3424020995251090609, 16270700667167659177, 868982193689443551, 0, 1, 3716152756916303878, 3716152756916303876, 17358722370438605405, 10935382534480321105, 1280666217195635763, 8566142668879524923, 8419997799682307516, 7838420617972747282, 1526129277528733792, 5342614503261147394, 16477391222436598142, 2824104541354702903, 9185083736588466642, 7451633948799385708, 1858910124515187865, 11331400243813573916, 12816729965848105285, 17782875934677991833, 5578590623415237013, 14548375058728861696, 14950686939333528992, 1513130257354972487]\n",
      "[0, 1, 2, 3, 4, 5, 6, 7, 8, 9, 10, 11, 12, 13, 14, 15, 16, 17, 18, 19, 20, 21, 22, 23, 24, 25, 26, 27, 28, 29, 30, 31]\n",
      "True\n"
     ]
    }
   ],
   "source": [
    "a = [ i for i in range(32)]\n",
    "#a = [ 1,2,3,4,5,6,7,8]\n",
    "\n",
    "print( a )\n",
    "\n",
    "b = cl.btfy( a , 8 )\n",
    "print( b )\n",
    "\n",
    "c = cl.ibtfy( b , 8 )\n",
    "print( c )\n",
    "print( c == a )"
   ]
  },
  {
   "cell_type": "code",
   "execution_count": 6,
   "metadata": {},
   "outputs": [
    {
     "name": "stdout",
     "output_type": "stream",
     "text": [
      "[0, 1, 2, 3, 4, 5, 6, 7, 8, 9, 10, 11, 12, 13, 14, 15, 16, 17, 18, 19, 20, 21, 22, 23, 24, 25, 26, 27, 28, 29, 30, 31]\n",
      "[0, 1, 2, 3, 4, 5, 6, 7, 4, 4, 4, 4, 24, 24, 24, 24, 4, 4, 4, 4, 20, 21, 22, 23, 4, 4, 4, 4, 28, 29, 30, 31]\n",
      "[0, 1, 2, 3, 4, 5, 6, 7, 8, 9, 10, 11, 12, 13, 14, 15, 16, 17, 18, 19, 20, 21, 22, 23, 24, 25, 26, 27, 28, 29, 30, 31]\n",
      "True\n"
     ]
    }
   ],
   "source": [
    "a = [ i for i in range(32) ]\n",
    "print( a )\n",
    "\n",
    "b = cl.polydiv( a , 2 )\n",
    "print( b )\n",
    "\n",
    "c = cl.ipolydiv( b , 2 )\n",
    "print( c )\n",
    "print( c == a )\n"
   ]
  },
  {
   "cell_type": "code",
   "execution_count": 7,
   "metadata": {},
   "outputs": [
    {
     "name": "stdout",
     "output_type": "stream",
     "text": [
      "1 = 19088743 x 30831508582617727\n"
     ]
    }
   ],
   "source": [
    "a = 0x1234567\n",
    "\n",
    "b = cl.gf264_inv( a )\n",
    "\n",
    "c = cl.gf264_mul( a , b )\n",
    "\n",
    "print( c , '=' , a , 'x' , b )"
   ]
  },
  {
   "cell_type": "code",
   "execution_count": null,
   "metadata": {},
   "outputs": [],
   "source": [
    "###### poly div test ################\n",
    "\n",
    "l = 32\n",
    "#a =  [0] + [ random.randrange(65536) for i in range(7) ]\n",
    "a = [ i for i in range(l)]\n",
    "si = 3\n",
    "ss = [ 1 if i == (1<<si) else 0 for i in range(l)]\n",
    "print( \"a\" , a )\n",
    "print( \"si\" , ss )\n",
    "\n",
    "\n",
    "a_div_s0 = cl.polydiv( a , si )\n",
    "print( \"a/ss\" , a_div_s0 )\n",
    "a2 = a_div_s0[(1<<si):] + [0]*(1<<si)\n",
    "print( \"a/ss\" , a2 )\n",
    "\n",
    "v_a = cl.btfy( a2 , 0 )\n",
    "v_b = cl.btfy( ss , 0 )\n",
    "v_c = [ cl.gf264_mul( *e ) for e in zip(v_a,v_b) ]\n",
    "c = cl.ibtfy( v_c , 0 )\n",
    "\n",
    "print( \"a/ss x ss\" , c )\n",
    "c[:(1<<si)] = a[:(1<<si)] \n",
    "print( \"a/ss x ss\" , c )\n",
    "\n",
    "print( \"c == a\" , c==a )\n",
    "\n"
   ]
  }
 ],
 "metadata": {
  "kernelspec": {
   "display_name": "venv",
   "language": "python",
   "name": "python3"
  },
  "language_info": {
   "codemirror_mode": {
    "name": "ipython",
    "version": 3
   },
   "file_extension": ".py",
   "mimetype": "text/x-python",
   "name": "python",
   "nbconvert_exporter": "python",
   "pygments_lexer": "ipython3",
   "version": "3.10.6"
  },
  "orig_nbformat": 4
 },
 "nbformat": 4,
 "nbformat_minor": 2
}
